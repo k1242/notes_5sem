{
 "cells": [
  {
   "cell_type": "markdown",
   "metadata": {},
   "source": [
    "**Хоружий Кирилл, Б02-929, B1**"
   ]
  },
  {
   "cell_type": "code",
   "execution_count": 2,
   "metadata": {
    "ExecuteTime": {
     "end_time": "2021-11-30T14:17:24.381641Z",
     "start_time": "2021-11-30T14:17:22.994669Z"
    }
   },
   "outputs": [],
   "source": [
    "import pandas as pd\n",
    "import numpy as np\n",
    "import matplotlib.pyplot as plt"
   ]
  },
  {
   "cell_type": "markdown",
   "metadata": {
    "heading_collapsed": true
   },
   "source": [
    "# Задача 1"
   ]
  },
  {
   "cell_type": "markdown",
   "metadata": {
    "hidden": true
   },
   "source": [
    "## Подготовка"
   ]
  },
  {
   "cell_type": "code",
   "execution_count": 378,
   "metadata": {
    "ExecuteTime": {
     "end_time": "2021-11-30T17:17:29.876781Z",
     "start_time": "2021-11-30T17:17:29.866845Z"
    },
    "hidden": true
   },
   "outputs": [
    {
     "data": {
      "text/plain": [
       "array([[ 0.85353073,  1.75912863,  0.41351368],\n",
       "       [-0.74854659,  1.55308446, -1.51655702]])"
      ]
     },
     "execution_count": 378,
     "metadata": {},
     "output_type": "execute_result"
    }
   ],
   "source": [
    "NUM_MIN = -2\n",
    "NUM_MAX = 2\n",
    "\n",
    "def get_rand_mat(size=None): \n",
    "    return np.random.uniform(NUM_MIN, NUM_MAX, size)\n",
    "\n",
    "# генерация случайной матрицы nxm\n",
    "n = 2\n",
    "m = 3\n",
    "get_rand_mat([n, m])"
   ]
  },
  {
   "cell_type": "code",
   "execution_count": 379,
   "metadata": {
    "ExecuteTime": {
     "end_time": "2021-11-30T17:17:30.050142Z",
     "start_time": "2021-11-30T17:17:30.034221Z"
    },
    "hidden": true
   },
   "outputs": [
    {
     "data": {
      "text/plain": [
       "array([[ 1.49594858,  0.        ,  0.        ],\n",
       "       [ 0.        ,  0.71923579,  0.        ],\n",
       "       [ 0.        ,  0.        , -0.02780812]])"
      ]
     },
     "execution_count": 379,
     "metadata": {},
     "output_type": "execute_result"
    }
   ],
   "source": [
    "def get_diag_mat(n):\n",
    "    mat = np.zeros([n, n])\n",
    "    np.fill_diagonal(mat, get_rand_mat(n))\n",
    "    return mat\n",
    "\n",
    "# генерация случайной диагональной матрицы\n",
    "get_diag_mat(3)"
   ]
  },
  {
   "cell_type": "code",
   "execution_count": 380,
   "metadata": {
    "ExecuteTime": {
     "end_time": "2021-11-30T17:17:30.987011Z",
     "start_time": "2021-11-30T17:17:30.971053Z"
    },
    "hidden": true
   },
   "outputs": [
    {
     "data": {
      "text/plain": [
       "array([[ 1.23274267,  0.64307845, -0.16997759],\n",
       "       [ 0.        ,  1.49747169, -0.08649943],\n",
       "       [ 0.        ,  0.        , -1.1711994 ]])"
      ]
     },
     "execution_count": 380,
     "metadata": {},
     "output_type": "execute_result"
    }
   ],
   "source": [
    "# генерация верхнетреугольной матрицы\n",
    "np.triu(get_rand_mat([3, 3]))"
   ]
  },
  {
   "cell_type": "code",
   "execution_count": 381,
   "metadata": {
    "ExecuteTime": {
     "end_time": "2021-11-30T17:17:31.144562Z",
     "start_time": "2021-11-30T17:17:31.129562Z"
    },
    "hidden": true
   },
   "outputs": [
    {
     "data": {
      "text/plain": [
       "array([[-0.54918168,  0.        ,  0.        ],\n",
       "       [ 1.64900868,  0.52153374,  0.        ],\n",
       "       [-0.79484321,  1.96727503,  0.2883335 ]])"
      ]
     },
     "execution_count": 381,
     "metadata": {},
     "output_type": "execute_result"
    }
   ],
   "source": [
    "# генерация нижнетреугольной матрицы\n",
    "np.triu(get_rand_mat([3, 3])).T"
   ]
  },
  {
   "cell_type": "code",
   "execution_count": 382,
   "metadata": {
    "ExecuteTime": {
     "end_time": "2021-11-30T17:17:31.317900Z",
     "start_time": "2021-11-30T17:17:31.306954Z"
    },
    "hidden": true
   },
   "outputs": [
    {
     "data": {
      "text/plain": [
       "array([[ 1.14116099, -0.27879551,  1.4332207 ],\n",
       "       [-0.27879551, -1.60213981, -0.58792943],\n",
       "       [ 1.4332207 , -0.58792943, -0.24798242]])"
      ]
     },
     "execution_count": 382,
     "metadata": {},
     "output_type": "execute_result"
    }
   ],
   "source": [
    "def get_sym_mat(n):\n",
    "    mat = get_rand_mat([n, n])\n",
    "    return (mat.T+mat)/2\n",
    "\n",
    "# генерация симметричной матрицы в том же диапазоне\n",
    "get_sym_mat(3)"
   ]
  },
  {
   "cell_type": "code",
   "execution_count": 383,
   "metadata": {
    "ExecuteTime": {
     "end_time": "2021-11-30T17:17:32.454983Z",
     "start_time": "2021-11-30T17:17:32.444013Z"
    },
    "hidden": true
   },
   "outputs": [
    {
     "data": {
      "text/plain": [
       "array([[ 0.96140521,  0.58862574,  0.91913998],\n",
       "       [ 0.96140521,  0.58862574,  0.91913998],\n",
       "       [ 1.79965585, -0.90061811, -0.72103369]])"
      ]
     },
     "execution_count": 383,
     "metadata": {},
     "output_type": "execute_result"
    }
   ],
   "source": [
    "def get_degen_mat(size):\n",
    "    mat = get_rand_mat(size)\n",
    "    mat[1] = mat[0] #повторим строку для вырождения\n",
    "    return mat\n",
    "\n",
    "# генерация вырожденной матрицы\n",
    "get_degen_mat([3, 3])"
   ]
  },
  {
   "cell_type": "code",
   "execution_count": 384,
   "metadata": {
    "ExecuteTime": {
     "end_time": "2021-11-30T17:17:33.424971Z",
     "start_time": "2021-11-30T17:17:33.419003Z"
    },
    "hidden": true
   },
   "outputs": [
    {
     "data": {
      "text/plain": [
       "array([[ 0.15981602, -0.92917506,  0.7402165 ],\n",
       "       [ 0.        ,  1.03200107,  1.2414612 ],\n",
       "       [ 0.        ,  0.        ,  0.        ]])"
      ]
     },
     "execution_count": 384,
     "metadata": {},
     "output_type": "execute_result"
    }
   ],
   "source": [
    "def get_lad_mat(n, m):\n",
    "    mat = np.triu(get_rand_mat([n, n]))\n",
    "    mat[m:]=0\n",
    "    return mat\n",
    "\n",
    "# генерация матрицы ступенчатого вида nxn ранга m\n",
    "get_lad_mat(3, 2)"
   ]
  },
  {
   "cell_type": "code",
   "execution_count": 385,
   "metadata": {
    "ExecuteTime": {
     "end_time": "2021-11-30T17:17:33.610809Z",
     "start_time": "2021-11-30T17:17:33.600812Z"
    },
    "hidden": true
   },
   "outputs": [
    {
     "data": {
      "text/plain": [
       "array([[-0.01569066, -0.09625996,  0.02988501],\n",
       "       [-0.07056013,  0.07659676, -0.00616344]])"
      ]
     },
     "execution_count": 385,
     "metadata": {},
     "output_type": "execute_result"
    }
   ],
   "source": [
    "def get_pert_mat(size, epsilon):\n",
    "    return np.random.uniform(-epsilon, epsilon, size)\n",
    "\n",
    "# генерация возмущения матрицы\n",
    "get_pert_mat([2,3], 0.1)"
   ]
  },
  {
   "cell_type": "markdown",
   "metadata": {
    "heading_collapsed": true,
    "hidden": true
   },
   "source": [
    "## Реализация"
   ]
  },
  {
   "cell_type": "code",
   "execution_count": 373,
   "metadata": {
    "ExecuteTime": {
     "end_time": "2021-11-30T17:15:20.205707Z",
     "start_time": "2021-11-30T17:15:20.188531Z"
    },
    "hidden": true
   },
   "outputs": [],
   "source": [
    "class mat_gen:\n",
    "    \n",
    "    # при инициализации класса задаем разброс значений для матрциы\n",
    "    def __init__(self, NUM_MIN, NUM_MAX):\n",
    "        self.NUM_MIN = NUM_MIN\n",
    "        self.NUM_MAX = NUM_MAX\n",
    "       \n",
    "\n",
    "    # генерация случайной матрицы nxm\n",
    "    def rand(self, size=None): \n",
    "        return np.random.uniform(NUM_MIN, NUM_MAX, size)\n",
    "    \n",
    "    \n",
    "    # генерация случайной диагональной матрицы\n",
    "    def diag(self, n):\n",
    "        mat = np.zeros([n, n])\n",
    "        np.fill_diagonal(mat, get_rand_mat(n))\n",
    "        return mat\n",
    "\n",
    "    \n",
    "    # генерация верхнетреугольной матрицы\n",
    "    def uptriu(self, n):\n",
    "        return np.triu(get_rand_mat([n, n]))\n",
    "    \n",
    "    \n",
    "    # генерация нижнетреугольной матрицы\n",
    "    def downtriu(self, n):\n",
    "        return np.triu(get_rand_mat([n, n])).T\n",
    "    \n",
    "    # генерация симметричной матрицы\n",
    "    def sym(self, n):\n",
    "        mat = get_rand_mat([n, n])\n",
    "        return (mat.T+mat)/2\n",
    "    \n",
    "    \n",
    "    # генерация вырожденной матрицы\n",
    "    def degen(self, size):\n",
    "        mat = get_rand_mat(size)\n",
    "        mat[1] = mat[0] #повторим строку для вырождения\n",
    "        return mat\n",
    "    \n",
    "    \n",
    "    # генерация матрицы ступенчатого вида nxn ранга m\n",
    "    def lad(self, n, m):\n",
    "        mat = np.triu(get_rand_mat([n, n]))\n",
    "        mat[m:]=0\n",
    "        return mat\n",
    "    \n",
    "    \n",
    "    # генерация возмущения матрицы\n",
    "    def pert(self, size, epsilon):\n",
    "        return np.random.uniform(-epsilon, epsilon, size)"
   ]
  },
  {
   "cell_type": "markdown",
   "metadata": {
    "hidden": true
   },
   "source": [
    "## Тест"
   ]
  },
  {
   "cell_type": "code",
   "execution_count": 118,
   "metadata": {
    "ExecuteTime": {
     "end_time": "2021-11-06T23:19:36.477072Z",
     "start_time": "2021-11-06T23:19:36.459982Z"
    },
    "hidden": true
   },
   "outputs": [],
   "source": [
    "# создаем объект класс\n",
    "gen = mat_gen(-2, 2)"
   ]
  },
  {
   "cell_type": "code",
   "execution_count": 120,
   "metadata": {
    "ExecuteTime": {
     "end_time": "2021-11-06T23:19:41.826223Z",
     "start_time": "2021-11-06T23:19:41.817216Z"
    },
    "hidden": true
   },
   "outputs": [
    {
     "data": {
      "text/plain": [
       "array([[ 0.50014758,  1.12934422, -0.36855317],\n",
       "       [-1.32478378,  0.94582159, -1.51410218],\n",
       "       [-1.9839356 ,  0.6420959 , -0.18276857]])"
      ]
     },
     "execution_count": 120,
     "metadata": {},
     "output_type": "execute_result"
    }
   ],
   "source": [
    "gen.rand([3, 3])"
   ]
  },
  {
   "cell_type": "code",
   "execution_count": 122,
   "metadata": {
    "ExecuteTime": {
     "end_time": "2021-11-06T23:19:52.080367Z",
     "start_time": "2021-11-06T23:19:52.073385Z"
    },
    "hidden": true
   },
   "outputs": [
    {
     "data": {
      "text/plain": [
       "array([[-1.38724005,  0.        ,  0.        ],\n",
       "       [ 0.        ,  1.49839069,  0.        ],\n",
       "       [ 0.        ,  0.        , -0.07920475]])"
      ]
     },
     "execution_count": 122,
     "metadata": {},
     "output_type": "execute_result"
    }
   ],
   "source": [
    "gen.diag(3)"
   ]
  },
  {
   "cell_type": "code",
   "execution_count": 126,
   "metadata": {
    "ExecuteTime": {
     "end_time": "2021-11-06T23:21:01.090860Z",
     "start_time": "2021-11-06T23:21:01.080342Z"
    },
    "hidden": true
   },
   "outputs": [
    {
     "data": {
      "text/plain": [
       "array([[ 0.5954632 , -0.70182212,  1.30200101],\n",
       "       [ 0.        ,  0.20845927, -0.66310753],\n",
       "       [ 0.        ,  0.        , -1.34839227]])"
      ]
     },
     "execution_count": 126,
     "metadata": {},
     "output_type": "execute_result"
    }
   ],
   "source": [
    "gen.uptriu(3)"
   ]
  },
  {
   "cell_type": "code",
   "execution_count": 127,
   "metadata": {
    "ExecuteTime": {
     "end_time": "2021-11-06T23:21:19.739686Z",
     "start_time": "2021-11-06T23:21:19.729738Z"
    },
    "hidden": true
   },
   "outputs": [
    {
     "data": {
      "text/plain": [
       "array([[-1.98262895,  0.        ,  0.        ],\n",
       "       [ 0.28044143,  0.67557892,  0.        ],\n",
       "       [-1.76326674,  1.09826817, -0.67152406]])"
      ]
     },
     "execution_count": 127,
     "metadata": {},
     "output_type": "execute_result"
    }
   ],
   "source": [
    "gen.downtriu(3)"
   ]
  },
  {
   "cell_type": "code",
   "execution_count": 128,
   "metadata": {
    "ExecuteTime": {
     "end_time": "2021-11-06T23:21:34.189161Z",
     "start_time": "2021-11-06T23:21:34.179220Z"
    },
    "hidden": true
   },
   "outputs": [
    {
     "data": {
      "text/plain": [
       "array([[ 0.50933583, -0.81367967,  0.21480565],\n",
       "       [-0.81367967,  0.34690489,  0.26228347],\n",
       "       [ 0.21480565,  0.26228347, -0.22469456]])"
      ]
     },
     "execution_count": 128,
     "metadata": {},
     "output_type": "execute_result"
    }
   ],
   "source": [
    "gen.sym(3)"
   ]
  },
  {
   "cell_type": "code",
   "execution_count": 132,
   "metadata": {
    "ExecuteTime": {
     "end_time": "2021-11-06T23:22:21.528775Z",
     "start_time": "2021-11-06T23:22:21.520820Z"
    },
    "hidden": true
   },
   "outputs": [
    {
     "data": {
      "text/plain": [
       "array([[ 0.20073975, -1.67414293,  0.18879836],\n",
       "       [ 0.20073975, -1.67414293,  0.18879836],\n",
       "       [-1.01883682,  0.58155313,  0.92953094]])"
      ]
     },
     "execution_count": 132,
     "metadata": {},
     "output_type": "execute_result"
    }
   ],
   "source": [
    "gen.degen((3, 3))"
   ]
  },
  {
   "cell_type": "code",
   "execution_count": 134,
   "metadata": {
    "ExecuteTime": {
     "end_time": "2021-11-06T23:22:44.583171Z",
     "start_time": "2021-11-06T23:22:44.564222Z"
    },
    "hidden": true
   },
   "outputs": [
    {
     "data": {
      "text/plain": [
       "array([[ 0.48504549, -0.96375083,  1.29347199],\n",
       "       [ 0.        , -1.51830823,  0.46002243],\n",
       "       [ 0.        ,  0.        ,  0.        ]])"
      ]
     },
     "execution_count": 134,
     "metadata": {},
     "output_type": "execute_result"
    }
   ],
   "source": [
    "gen.lad(3, 2)"
   ]
  },
  {
   "cell_type": "code",
   "execution_count": 135,
   "metadata": {
    "ExecuteTime": {
     "end_time": "2021-11-06T23:23:01.406945Z",
     "start_time": "2021-11-06T23:23:01.388989Z"
    },
    "hidden": true,
    "scrolled": true
   },
   "outputs": [
    {
     "data": {
      "text/plain": [
       "array([[ 0.01862261, -0.03656211,  0.0133933 ],\n",
       "       [ 0.05128664, -0.01721375, -0.01257455]])"
      ]
     },
     "execution_count": 135,
     "metadata": {},
     "output_type": "execute_result"
    }
   ],
   "source": [
    "gen.pert([2, 3], 0.1)"
   ]
  },
  {
   "cell_type": "markdown",
   "metadata": {
    "hidden": true
   },
   "source": [
    "## Вырождение матрицы"
   ]
  },
  {
   "cell_type": "markdown",
   "metadata": {
    "hidden": true
   },
   "source": [
    "Чтобы с $\\varepsilon \\sim 10^{-15}$ будет одна вырожденная матрица на миллион миллиардов генераций, что мало вероятно."
   ]
  },
  {
   "cell_type": "code",
   "execution_count": 493,
   "metadata": {
    "ExecuteTime": {
     "end_time": "2021-11-30T17:52:27.447951Z",
     "start_time": "2021-11-30T17:52:20.199205Z"
    },
    "hidden": true
   },
   "outputs": [
    {
     "data": {
      "text/plain": [
       "2"
      ]
     },
     "execution_count": 493,
     "metadata": {},
     "output_type": "execute_result"
    }
   ],
   "source": [
    "dim = 2;\n",
    "N = 200000;\n",
    "vals = [np.linalg.det(get_rand_mat((2, 2))) for i in range(N)]\n",
    "np.min(vals)\n",
    "# плохая затея"
   ]
  },
  {
   "cell_type": "markdown",
   "metadata": {
    "hidden": true
   },
   "source": [
    "Посмотрим на определитель и когда он достаточно мал."
   ]
  },
  {
   "cell_type": "code",
   "execution_count": 503,
   "metadata": {
    "ExecuteTime": {
     "end_time": "2021-11-30T17:54:50.108524Z",
     "start_time": "2021-11-30T17:54:37.994215Z"
    },
    "hidden": true
   },
   "outputs": [
    {
     "data": {
      "text/plain": [
       "0.00028659526579874955"
      ]
     },
     "execution_count": 503,
     "metadata": {},
     "output_type": "execute_result"
    }
   ],
   "source": [
    "dim = 10;\n",
    "N = 1000000;\n",
    "vals = [np.linalg.det(get_rand_mat((dim, dim))) for i in range(N)]\n",
    "np.min(np.abs(vals))"
   ]
  },
  {
   "cell_type": "markdown",
   "metadata": {
    "heading_collapsed": true
   },
   "source": [
    "# Задача 2"
   ]
  },
  {
   "cell_type": "code",
   "execution_count": 9,
   "metadata": {
    "ExecuteTime": {
     "end_time": "2021-11-30T14:18:40.974753Z",
     "start_time": "2021-11-30T14:18:40.970764Z"
    },
    "hidden": true
   },
   "outputs": [],
   "source": [
    "SERIES_DEG = 20;"
   ]
  },
  {
   "cell_type": "code",
   "execution_count": 27,
   "metadata": {
    "ExecuteTime": {
     "end_time": "2021-11-30T14:19:49.590640Z",
     "start_time": "2021-11-30T14:19:49.571691Z"
    },
    "hidden": true
   },
   "outputs": [
    {
     "data": {
      "text/plain": [
       "'2.43e+18'"
      ]
     },
     "execution_count": 27,
     "metadata": {},
     "output_type": "execute_result"
    }
   ],
   "source": [
    "\"{:.2e}\".format(np.math.factorial(20.)) #20! = ..., так что просто будем считать до нужной степени"
   ]
  },
  {
   "cell_type": "markdown",
   "metadata": {
    "heading_collapsed": true,
    "hidden": true
   },
   "source": [
    "## Подготовка"
   ]
  },
  {
   "cell_type": "code",
   "execution_count": 11,
   "metadata": {
    "ExecuteTime": {
     "end_time": "2021-11-30T14:18:48.939160Z",
     "start_time": "2021-11-30T14:18:45.721555Z"
    },
    "hidden": true
   },
   "outputs": [],
   "source": [
    "import sympy as sp\n",
    "x = sp.symbols(\"x\")"
   ]
  },
  {
   "cell_type": "code",
   "execution_count": 12,
   "metadata": {
    "ExecuteTime": {
     "end_time": "2021-11-30T14:18:50.162690Z",
     "start_time": "2021-11-30T14:18:49.748657Z"
    },
    "hidden": true
   },
   "outputs": [
    {
     "name": "stdout",
     "output_type": "stream",
     "text": [
      "ряд:  x**6/720 + x**5/120 + x**4/24 + x**3/6 + x**2/2 + x + 1\n",
      "\n",
      "exp(x) = 2.7181/2.7183\n"
     ]
    }
   ],
   "source": [
    "# разложим экспоненту в ряд\n",
    "eq = sp.exp(x).series(x, x0=0, n=7).removeO()\n",
    "print(\"ряд: \", eq, end=\"\\n\\n\")\n",
    "f = sp.lambdify(x, eq) # переведем это в удобную функцию\n",
    "print(\"exp(x) = {:.4f}/{:.4f}\".format(f(1), np.exp(1)))"
   ]
  },
  {
   "cell_type": "markdown",
   "metadata": {
    "hidden": true
   },
   "source": [
    "Все считается, для SERIES_DEG = 7 отличие только в 4 знаке."
   ]
  },
  {
   "cell_type": "markdown",
   "metadata": {
    "heading_collapsed": true,
    "hidden": true
   },
   "source": [
    "## Аналитический вид"
   ]
  },
  {
   "cell_type": "code",
   "execution_count": 28,
   "metadata": {
    "ExecuteTime": {
     "end_time": "2021-11-30T14:19:56.770744Z",
     "start_time": "2021-11-30T14:19:56.626049Z"
    },
    "hidden": true
   },
   "outputs": [
    {
     "data": {
      "text/latex": [
       "$\\displaystyle \\frac{x^{19}}{121645100408832000} + \\frac{x^{18}}{6402373705728000} + \\frac{x^{17}}{355687428096000} + \\frac{x^{16}}{20922789888000} + \\frac{x^{15}}{1307674368000} + \\frac{x^{14}}{87178291200} + \\frac{x^{13}}{6227020800} + \\frac{x^{12}}{479001600} + \\frac{x^{11}}{39916800} + \\frac{x^{10}}{3628800} + \\frac{x^{9}}{362880} + \\frac{x^{8}}{40320} + \\frac{x^{7}}{5040} + \\frac{x^{6}}{720} + \\frac{x^{5}}{120} + \\frac{x^{4}}{24} + \\frac{x^{3}}{6} + \\frac{x^{2}}{2} + x + 1$"
      ],
      "text/plain": [
       "x**19/121645100408832000 + x**18/6402373705728000 + x**17/355687428096000 + x**16/20922789888000 + x**15/1307674368000 + x**14/87178291200 + x**13/6227020800 + x**12/479001600 + x**11/39916800 + x**10/3628800 + x**9/362880 + x**8/40320 + x**7/5040 + x**6/720 + x**5/120 + x**4/24 + x**3/6 + x**2/2 + x + 1"
      ]
     },
     "execution_count": 28,
     "metadata": {},
     "output_type": "execute_result"
    }
   ],
   "source": [
    "# экспонента\n",
    "eq_1 = sp.exp(x).series(x, x0=0, n=SERIES_DEG).removeO()\n",
    "f1 = sp.lambdify(x, eq_1)\n",
    "eq_1"
   ]
  },
  {
   "cell_type": "code",
   "execution_count": 29,
   "metadata": {
    "ExecuteTime": {
     "end_time": "2021-11-30T14:19:57.817064Z",
     "start_time": "2021-11-30T14:19:57.711381Z"
    },
    "hidden": true
   },
   "outputs": [
    {
     "data": {
      "text/latex": [
       "$\\displaystyle \\frac{x^{19}}{19} - \\frac{x^{18}}{18} + \\frac{x^{17}}{17} - \\frac{x^{16}}{16} + \\frac{x^{15}}{15} - \\frac{x^{14}}{14} + \\frac{x^{13}}{13} - \\frac{x^{12}}{12} + \\frac{x^{11}}{11} - \\frac{x^{10}}{10} + \\frac{x^{9}}{9} - \\frac{x^{8}}{8} + \\frac{x^{7}}{7} - \\frac{x^{6}}{6} + \\frac{x^{5}}{5} - \\frac{x^{4}}{4} + \\frac{x^{3}}{3} - \\frac{x^{2}}{2} + x$"
      ],
      "text/plain": [
       "x**19/19 - x**18/18 + x**17/17 - x**16/16 + x**15/15 - x**14/14 + x**13/13 - x**12/12 + x**11/11 - x**10/10 + x**9/9 - x**8/8 + x**7/7 - x**6/6 + x**5/5 - x**4/4 + x**3/3 - x**2/2 + x"
      ]
     },
     "execution_count": 29,
     "metadata": {},
     "output_type": "execute_result"
    }
   ],
   "source": [
    "# ln(1+x)\n",
    "eq_2 = sp.log(1+x).series(x, x0=0, n=SERIES_DEG).removeO()\n",
    "f2 = sp.lambdify(x, eq_2)\n",
    "eq_2"
   ]
  },
  {
   "cell_type": "code",
   "execution_count": 30,
   "metadata": {
    "ExecuteTime": {
     "end_time": "2021-11-30T14:19:57.927773Z",
     "start_time": "2021-11-30T14:19:57.882887Z"
    },
    "hidden": true
   },
   "outputs": [
    {
     "data": {
      "text/latex": [
       "$\\displaystyle - \\frac{x^{19}}{121645100408832000} + \\frac{x^{17}}{355687428096000} - \\frac{x^{15}}{1307674368000} + \\frac{x^{13}}{6227020800} - \\frac{x^{11}}{39916800} + \\frac{x^{9}}{362880} - \\frac{x^{7}}{5040} + \\frac{x^{5}}{120} - \\frac{x^{3}}{6} + x$"
      ],
      "text/plain": [
       "-x**19/121645100408832000 + x**17/355687428096000 - x**15/1307674368000 + x**13/6227020800 - x**11/39916800 + x**9/362880 - x**7/5040 + x**5/120 - x**3/6 + x"
      ]
     },
     "execution_count": 30,
     "metadata": {},
     "output_type": "execute_result"
    }
   ],
   "source": [
    "# sin\n",
    "eq_3 = sp.sin(x).series(x, x0=0, n=SERIES_DEG).removeO()\n",
    "f3 = sp.lambdify(x, eq_3)\n",
    "eq_3"
   ]
  },
  {
   "cell_type": "code",
   "execution_count": 16,
   "metadata": {
    "ExecuteTime": {
     "end_time": "2021-11-30T14:18:54.560865Z",
     "start_time": "2021-11-30T14:18:54.504983Z"
    },
    "hidden": true
   },
   "outputs": [
    {
     "data": {
      "text/latex": [
       "$\\displaystyle - \\frac{x^{18}}{6402373705728000} + \\frac{x^{16}}{20922789888000} - \\frac{x^{14}}{87178291200} + \\frac{x^{12}}{479001600} - \\frac{x^{10}}{3628800} + \\frac{x^{8}}{40320} - \\frac{x^{6}}{720} + \\frac{x^{4}}{24} - \\frac{x^{2}}{2} + 1$"
      ],
      "text/plain": [
       "-x**18/6402373705728000 + x**16/20922789888000 - x**14/87178291200 + x**12/479001600 - x**10/3628800 + x**8/40320 - x**6/720 + x**4/24 - x**2/2 + 1"
      ]
     },
     "execution_count": 16,
     "metadata": {},
     "output_type": "execute_result"
    }
   ],
   "source": [
    "# cos\n",
    "eq_4 = sp.cos(x).series(x, x0=0, n=SERIES_DEG).removeO()\n",
    "f4 = sp.lambdify(x, eq_4)\n",
    "eq_4"
   ]
  },
  {
   "cell_type": "code",
   "execution_count": 17,
   "metadata": {
    "ExecuteTime": {
     "end_time": "2021-11-30T14:18:55.447314Z",
     "start_time": "2021-11-30T14:18:55.378498Z"
    },
    "hidden": true
   },
   "outputs": [
    {
     "data": {
      "text/latex": [
       "$\\displaystyle \\frac{443861162 x^{19}}{1856156927625} + \\frac{6404582 x^{17}}{10854718875} + \\frac{929569 x^{15}}{638512875} + \\frac{21844 x^{13}}{6081075} + \\frac{1382 x^{11}}{155925} + \\frac{62 x^{9}}{2835} + \\frac{17 x^{7}}{315} + \\frac{2 x^{5}}{15} + \\frac{x^{3}}{3} + x$"
      ],
      "text/plain": [
       "443861162*x**19/1856156927625 + 6404582*x**17/10854718875 + 929569*x**15/638512875 + 21844*x**13/6081075 + 1382*x**11/155925 + 62*x**9/2835 + 17*x**7/315 + 2*x**5/15 + x**3/3 + x"
      ]
     },
     "execution_count": 17,
     "metadata": {},
     "output_type": "execute_result"
    }
   ],
   "source": [
    "# tan\n",
    "eq_5 = sp.tan(x).series(x, x0=0, n=SERIES_DEG).removeO()\n",
    "f5 = sp.lambdify(x, eq_5)\n",
    "eq_5"
   ]
  },
  {
   "cell_type": "code",
   "execution_count": 18,
   "metadata": {
    "ExecuteTime": {
     "end_time": "2021-11-30T14:18:56.442129Z",
     "start_time": "2021-11-30T14:18:55.887458Z"
    },
    "hidden": true
   },
   "outputs": [
    {
     "data": {
      "text/latex": [
       "$\\displaystyle - \\frac{349222 x^{19}}{1531329465290625} - \\frac{87734 x^{17}}{38979295480125} - \\frac{3617 x^{15}}{162820783125} - \\frac{4 x^{13}}{18243225} - \\frac{1382 x^{11}}{638512875} - \\frac{2 x^{9}}{93555} - \\frac{x^{7}}{4725} - \\frac{2 x^{5}}{945} - \\frac{x^{3}}{45} - \\frac{x}{3} + \\frac{1}{x}$"
      ],
      "text/plain": [
       "-349222*x**19/1531329465290625 - 87734*x**17/38979295480125 - 3617*x**15/162820783125 - 4*x**13/18243225 - 1382*x**11/638512875 - 2*x**9/93555 - x**7/4725 - 2*x**5/945 - x**3/45 - x/3 + 1/x"
      ]
     },
     "execution_count": 18,
     "metadata": {},
     "output_type": "execute_result"
    }
   ],
   "source": [
    "# cot\n",
    "eq_6 = sp.cot(x).series(x, x0=0, n=SERIES_DEG).removeO()\n",
    "f6 = sp.lambdify(x, eq_6)\n",
    "eq_6"
   ]
  },
  {
   "cell_type": "code",
   "execution_count": 19,
   "metadata": {
    "ExecuteTime": {
     "end_time": "2021-11-30T14:18:57.113181Z",
     "start_time": "2021-11-30T14:18:57.043317Z"
    },
    "hidden": true
   },
   "outputs": [
    {
     "data": {
      "text/latex": [
       "$\\displaystyle \\frac{12155 x^{19}}{1245184} + \\frac{6435 x^{17}}{557056} + \\frac{143 x^{15}}{10240} + \\frac{231 x^{13}}{13312} + \\frac{63 x^{11}}{2816} + \\frac{35 x^{9}}{1152} + \\frac{5 x^{7}}{112} + \\frac{3 x^{5}}{40} + \\frac{x^{3}}{6} + x$"
      ],
      "text/plain": [
       "12155*x**19/1245184 + 6435*x**17/557056 + 143*x**15/10240 + 231*x**13/13312 + 63*x**11/2816 + 35*x**9/1152 + 5*x**7/112 + 3*x**5/40 + x**3/6 + x"
      ]
     },
     "execution_count": 19,
     "metadata": {},
     "output_type": "execute_result"
    }
   ],
   "source": [
    "# arcsin\n",
    "eq_7 = sp.asin(x).series(x, x0=0, n=SERIES_DEG).removeO()\n",
    "f7 = sp.lambdify(x, eq_7)\n",
    "eq_7"
   ]
  },
  {
   "cell_type": "code",
   "execution_count": 20,
   "metadata": {
    "ExecuteTime": {
     "end_time": "2021-11-30T14:19:00.024758Z",
     "start_time": "2021-11-30T14:18:58.151165Z"
    },
    "hidden": true
   },
   "outputs": [
    {
     "data": {
      "text/latex": [
       "$\\displaystyle - \\frac{12155 x^{19}}{1245184} - \\frac{6435 x^{17}}{557056} - \\frac{143 x^{15}}{10240} - \\frac{231 x^{13}}{13312} - \\frac{63 x^{11}}{2816} - \\frac{35 x^{9}}{1152} - \\frac{5 x^{7}}{112} - \\frac{3 x^{5}}{40} - \\frac{x^{3}}{6} - x + \\frac{\\pi}{2}$"
      ],
      "text/plain": [
       "-12155*x**19/1245184 - 6435*x**17/557056 - 143*x**15/10240 - 231*x**13/13312 - 63*x**11/2816 - 35*x**9/1152 - 5*x**7/112 - 3*x**5/40 - x**3/6 - x + pi/2"
      ]
     },
     "execution_count": 20,
     "metadata": {},
     "output_type": "execute_result"
    }
   ],
   "source": [
    "# arccos\n",
    "eq_8 = sp.acos(x).series(x, x0=0, n=SERIES_DEG).removeO()\n",
    "f8 = sp.lambdify(x, eq_8)\n",
    "eq_8"
   ]
  },
  {
   "cell_type": "code",
   "execution_count": 21,
   "metadata": {
    "ExecuteTime": {
     "end_time": "2021-11-30T14:19:01.041010Z",
     "start_time": "2021-11-30T14:19:00.980034Z"
    },
    "hidden": true
   },
   "outputs": [
    {
     "data": {
      "text/latex": [
       "$\\displaystyle - \\frac{x^{19}}{19} + \\frac{x^{17}}{17} - \\frac{x^{15}}{15} + \\frac{x^{13}}{13} - \\frac{x^{11}}{11} + \\frac{x^{9}}{9} - \\frac{x^{7}}{7} + \\frac{x^{5}}{5} - \\frac{x^{3}}{3} + x$"
      ],
      "text/plain": [
       "-x**19/19 + x**17/17 - x**15/15 + x**13/13 - x**11/11 + x**9/9 - x**7/7 + x**5/5 - x**3/3 + x"
      ]
     },
     "execution_count": 21,
     "metadata": {},
     "output_type": "execute_result"
    }
   ],
   "source": [
    "# arctan\n",
    "eq_9 = sp.atan(x).series(x, x0=0, n=SERIES_DEG).removeO()\n",
    "f9 = sp.lambdify(x, eq_9)\n",
    "eq_9"
   ]
  },
  {
   "cell_type": "code",
   "execution_count": 22,
   "metadata": {
    "ExecuteTime": {
     "end_time": "2021-11-30T14:19:02.254715Z",
     "start_time": "2021-11-30T14:19:02.199431Z"
    },
    "hidden": true
   },
   "outputs": [
    {
     "data": {
      "text/latex": [
       "$\\displaystyle \\frac{x^{19}}{121645100408832000} + \\frac{x^{17}}{355687428096000} + \\frac{x^{15}}{1307674368000} + \\frac{x^{13}}{6227020800} + \\frac{x^{11}}{39916800} + \\frac{x^{9}}{362880} + \\frac{x^{7}}{5040} + \\frac{x^{5}}{120} + \\frac{x^{3}}{6} + x$"
      ],
      "text/plain": [
       "x**19/121645100408832000 + x**17/355687428096000 + x**15/1307674368000 + x**13/6227020800 + x**11/39916800 + x**9/362880 + x**7/5040 + x**5/120 + x**3/6 + x"
      ]
     },
     "execution_count": 22,
     "metadata": {},
     "output_type": "execute_result"
    }
   ],
   "source": [
    "# sh\n",
    "eq_10 = sp.sinh(x).series(x, x0=0, n=SERIES_DEG).removeO()\n",
    "f10 = sp.lambdify(x, eq_10)\n",
    "eq_10"
   ]
  },
  {
   "cell_type": "code",
   "execution_count": 23,
   "metadata": {
    "ExecuteTime": {
     "end_time": "2021-11-30T14:19:03.110764Z",
     "start_time": "2021-11-30T14:19:03.065884Z"
    },
    "hidden": true
   },
   "outputs": [
    {
     "data": {
      "text/latex": [
       "$\\displaystyle \\frac{x^{19}}{121645100408832000} + \\frac{x^{17}}{355687428096000} + \\frac{x^{15}}{1307674368000} + \\frac{x^{13}}{6227020800} + \\frac{x^{11}}{39916800} + \\frac{x^{9}}{362880} + \\frac{x^{7}}{5040} + \\frac{x^{5}}{120} + \\frac{x^{3}}{6} + x$"
      ],
      "text/plain": [
       "x**19/121645100408832000 + x**17/355687428096000 + x**15/1307674368000 + x**13/6227020800 + x**11/39916800 + x**9/362880 + x**7/5040 + x**5/120 + x**3/6 + x"
      ]
     },
     "execution_count": 23,
     "metadata": {},
     "output_type": "execute_result"
    }
   ],
   "source": [
    "# ch\n",
    "eq_11 = sp.sinh(x).series(x, x0=0, n=SERIES_DEG).removeO()\n",
    "f11 = sp.lambdify(x, eq_11)\n",
    "eq_11"
   ]
  },
  {
   "cell_type": "code",
   "execution_count": 24,
   "metadata": {
    "ExecuteTime": {
     "end_time": "2021-11-30T14:19:05.199402Z",
     "start_time": "2021-11-30T14:19:05.140560Z"
    },
    "hidden": true
   },
   "outputs": [
    {
     "data": {
      "text/latex": [
       "$\\displaystyle - \\frac{443861162 x^{19}}{1856156927625} + \\frac{6404582 x^{17}}{10854718875} - \\frac{929569 x^{15}}{638512875} + \\frac{21844 x^{13}}{6081075} - \\frac{1382 x^{11}}{155925} + \\frac{62 x^{9}}{2835} - \\frac{17 x^{7}}{315} + \\frac{2 x^{5}}{15} - \\frac{x^{3}}{3} + x$"
      ],
      "text/plain": [
       "-443861162*x**19/1856156927625 + 6404582*x**17/10854718875 - 929569*x**15/638512875 + 21844*x**13/6081075 - 1382*x**11/155925 + 62*x**9/2835 - 17*x**7/315 + 2*x**5/15 - x**3/3 + x"
      ]
     },
     "execution_count": 24,
     "metadata": {},
     "output_type": "execute_result"
    }
   ],
   "source": [
    "# tanh\n",
    "eq_12 = sp.tanh(x).series(x, x0=0, n=SERIES_DEG).removeO()\n",
    "f12 = sp.lambdify(x, eq_12)\n",
    "eq_12"
   ]
  },
  {
   "cell_type": "code",
   "execution_count": 25,
   "metadata": {
    "ExecuteTime": {
     "end_time": "2021-11-30T14:19:05.510413Z",
     "start_time": "2021-11-30T14:19:05.451607Z"
    },
    "hidden": true
   },
   "outputs": [
    {
     "data": {
      "text/latex": [
       "$\\displaystyle \\frac{x^{19}}{19} + \\frac{x^{17}}{17} + \\frac{x^{15}}{15} + \\frac{x^{13}}{13} + \\frac{x^{11}}{11} + \\frac{x^{9}}{9} + \\frac{x^{7}}{7} + \\frac{x^{5}}{5} + \\frac{x^{3}}{3} + x$"
      ],
      "text/plain": [
       "x**19/19 + x**17/17 + x**15/15 + x**13/13 + x**11/11 + x**9/9 + x**7/7 + x**5/5 + x**3/3 + x"
      ]
     },
     "execution_count": 25,
     "metadata": {},
     "output_type": "execute_result"
    }
   ],
   "source": [
    "# arctanh\n",
    "eq_13 = sp.atanh(x).series(x, x0=0, n=SERIES_DEG).removeO()\n",
    "f13 = sp.lambdify(x, eq_13)\n",
    "eq_13"
   ]
  },
  {
   "cell_type": "markdown",
   "metadata": {
    "heading_collapsed": true,
    "hidden": true
   },
   "source": [
    "## Вычисление"
   ]
  },
  {
   "cell_type": "markdown",
   "metadata": {
    "hidden": true
   },
   "source": [
    "Периодические функции можно улучшить, рассматривая модуль по 2 $\\pi$."
   ]
  },
  {
   "cell_type": "code",
   "execution_count": 67,
   "metadata": {
    "ExecuteTime": {
     "end_time": "2021-11-30T14:29:42.472383Z",
     "start_time": "2021-11-30T14:29:42.460037Z"
    },
    "hidden": true
   },
   "outputs": [],
   "source": [
    "def u_sin(x):\n",
    "    return f3(x % (2 * np.pi))\n",
    "\n",
    "def u_cos(x):\n",
    "    return f4(x % (2 * np.pi))"
   ]
  },
  {
   "cell_type": "code",
   "execution_count": 36,
   "metadata": {
    "ExecuteTime": {
     "end_time": "2021-11-30T14:23:21.130588Z",
     "start_time": "2021-11-30T14:23:20.943458Z"
    },
    "hidden": true
   },
   "outputs": [
    {
     "data": {
      "image/png": "[encoded data removed]",
      "text/plain": [
       "<Figure size 432x288 with 1 Axes>"
      ]
     },
     "metadata": {
      "needs_background": "light"
     },
     "output_type": "display_data"
    }
   ],
   "source": [
    "X = np.linspace(0.05, 2.3, 100)\n",
    "plt.plot(X, f2(X-1), label=\"log series: {}\".format(SERIES_DEG), color=\"g\", alpha=0.75)\n",
    "plt.plot(X, np.log(X), '--', label=\"log true\", color=\"k\", alpha=0.75)\n",
    "plt.legend()\n",
    "plt.grid(alpha=0.5)\n",
    "plt.show()"
   ]
  },
  {
   "cell_type": "code",
   "execution_count": 42,
   "metadata": {
    "ExecuteTime": {
     "end_time": "2021-11-30T14:24:44.294126Z",
     "start_time": "2021-11-30T14:24:44.162992Z"
    },
    "hidden": true
   },
   "outputs": [
    {
     "data": {
      "image/png": "[encoded data removed]",
      "text/plain": [
       "<Figure size 432x288 with 1 Axes>"
      ]
     },
     "metadata": {
      "needs_background": "light"
     },
     "output_type": "display_data"
    }
   ],
   "source": [
    "X = np.linspace(-3, 3, 100)\n",
    "plt.plot(X, f4(X* np.pi), label=\"cos series: {}\".format(SERIES_DEG), color=\"g\", alpha=0.5)\n",
    "plt.plot(X, u_cos(X* np.pi), label=\"brute-force periodic cos series: {}\".format(SERIES_DEG), color=\"b\", alpha=0.5)\n",
    "plt.plot(X, np.cos(X* np.pi), '--', label=\"cos true\", color=\"k\", alpha=0.75)\n",
    "plt.legend()\n",
    "plt.grid(alpha=0.5)\n",
    "plt.ylim(-2, 2)\n",
    "plt.show()"
   ]
  },
  {
   "cell_type": "code",
   "execution_count": 44,
   "metadata": {
    "ExecuteTime": {
     "end_time": "2021-11-30T14:25:13.625012Z",
     "start_time": "2021-11-30T14:25:13.477498Z"
    },
    "hidden": true
   },
   "outputs": [
    {
     "data": {
      "image/png": "[encoded data removed]",
      "text/plain": [
       "<Figure size 432x288 with 1 Axes>"
      ]
     },
     "metadata": {
      "needs_background": "light"
     },
     "output_type": "display_data"
    }
   ],
   "source": [
    "X = np.linspace(-3, 3, 100)\n",
    "plt.plot(X, f3(X* np.pi), label=\"sin series: {}\".format(SERIES_DEG), color=\"g\", alpha=0.5)\n",
    "plt.plot(X, u_sin(X* np.pi), label=\"brute-force periodic sin series: {}\".format(SERIES_DEG), color=\"b\", alpha=0.5)\n",
    "plt.plot(X, np.sin(X* np.pi), '--', label=\"sin true\", color=\"k\", alpha=0.75)\n",
    "plt.legend()\n",
    "plt.grid(alpha=0.5)\n",
    "plt.ylim(-2, 2)\n",
    "plt.show()"
   ]
  },
  {
   "cell_type": "markdown",
   "metadata": {
    "hidden": true
   },
   "source": [
    "Ожидаемо выглядит график $\\\\log_{10}$ ошибки:"
   ]
  },
  {
   "cell_type": "code",
   "execution_count": 94,
   "metadata": {
    "ExecuteTime": {
     "end_time": "2021-11-30T14:57:21.489958Z",
     "start_time": "2021-11-30T14:57:21.194048Z"
    },
    "hidden": true
   },
   "outputs": [
    {
     "data": {
      "image/png": "[encoded data removed]",
      "text/plain": [
       "<Figure size 432x288 with 1 Axes>"
      ]
     },
     "metadata": {
      "needs_background": "light"
     },
     "output_type": "display_data"
    }
   ],
   "source": [
    "X = np.linspace(-3, 3, 100)\n",
    "err = np.abs(u_sin(X* np.pi)-np.sin(X* np.pi))\n",
    "fig, ax = plt.subplots()\n",
    "plt.plot(X, err, color=\"k\", alpha=0.75)\n",
    "ax.set_yscale('log')\n",
    "ax.minorticks_on()\n",
    "ax.grid(b=True, which='major', color='k', linestyle='-', alpha=0.2)\n",
    "ax.grid(b=True, which='minor', color='k', linestyle='--', alpha=0.1)\n",
    "plt.title(\"$\\\\log(|\\\\sin_u(x) - \\\\sin_{np}(x)|)$\")\n",
    "plt.show()"
   ]
  },
  {
   "cell_type": "markdown",
   "metadata": {
    "hidden": true
   },
   "source": [
    "## Как (возможно) подразумевалось вычисление"
   ]
  },
  {
   "cell_type": "code",
   "execution_count": 112,
   "metadata": {
    "ExecuteTime": {
     "end_time": "2021-11-30T15:09:30.950770Z",
     "start_time": "2021-11-30T15:09:30.941790Z"
    },
    "hidden": true
   },
   "outputs": [],
   "source": [
    "def u2_cos(x):\n",
    "    def get_next(x0, n, n_f):\n",
    "        return x0 + (-1)**(n / 2) * x**n / n_f\n",
    "    \n",
    "    x0  = 1\n",
    "    n   = 2\n",
    "    n_f = 2\n",
    "    x   = x % (2 * np.pi)\n",
    "    \n",
    "    while x0 != get_next(x0, n, n_f):\n",
    "        x0    = get_next(x0, n, n_f)\n",
    "        n_f  *= (n + 1) * (n + 2)\n",
    "        n    += 2\n",
    "\n",
    "    return x0"
   ]
  },
  {
   "cell_type": "code",
   "execution_count": 113,
   "metadata": {
    "ExecuteTime": {
     "end_time": "2021-11-30T15:09:33.883949Z",
     "start_time": "2021-11-30T15:09:33.876968Z"
    },
    "hidden": true
   },
   "outputs": [
    {
     "name": "stdout",
     "output_type": "stream",
     "text": [
      "-0.41614683654714246\n",
      "-0.4161468365471424\n",
      "log10|cos_np - cos_u2| = -16.26\n"
     ]
    }
   ],
   "source": [
    "print(u2_cos(2))\n",
    "print(np.cos(2))\n",
    "print(\"log10|cos_np - cos_u2| = {:.2f}\".format(np.log10(np.abs(np.cos(2)-u2_cos(2)))))"
   ]
  },
  {
   "cell_type": "code",
   "execution_count": 120,
   "metadata": {
    "ExecuteTime": {
     "end_time": "2021-11-30T15:16:09.815776Z",
     "start_time": "2021-11-30T15:16:09.337509Z"
    },
    "hidden": true
   },
   "outputs": [
    {
     "data": {
      "image/png": "[encoded data removed]",
      "text/plain": [
       "<Figure size 432x288 with 1 Axes>"
      ]
     },
     "metadata": {
      "needs_background": "light"
     },
     "output_type": "display_data"
    }
   ],
   "source": [
    "X   = np.linspace(-3, 3, 1000)\n",
    "yu  = [u2_cos(x * np.pi) for x in X]\n",
    "err = np.abs(yu-np.cos(X* np.pi))\n",
    "\n",
    "fig, ax = plt.subplots()\n",
    "plt.scatter(X, err, color=\"k\", alpha=0.75, s=1)\n",
    "ax.set_yscale('log')\n",
    "ax.minorticks_on()\n",
    "ax.grid(b=True, which='major', color='k', linestyle='-', alpha=0.2)\n",
    "ax.grid(b=True, which='minor', color='k', linestyle='--', alpha=0.1)\n",
    "plt.title(\"$|\\\\sin_u(x) - \\\\sin_{np}(x)|$\")\n",
    "plt.show()"
   ]
  },
  {
   "cell_type": "markdown",
   "metadata": {
    "hidden": true
   },
   "source": [
    "Судя по уплотнению в районе $10^{-16}$ делаем вывод о соответствующем машинном $\\epsilon$."
   ]
  },
  {
   "cell_type": "markdown",
   "metadata": {},
   "source": [
    "# Задача 3"
   ]
  },
  {
   "cell_type": "markdown",
   "metadata": {},
   "source": [
    "Численно оценим $p$ норму."
   ]
  },
  {
   "cell_type": "code",
   "execution_count": 215,
   "metadata": {
    "ExecuteTime": {
     "end_time": "2021-11-30T16:12:55.644685Z",
     "start_time": "2021-11-30T16:12:55.640699Z"
    }
   },
   "outputs": [],
   "source": [
    "p = 3; #p-норма\n",
    "n = 3;\n",
    "m = 3;\n",
    "M = np.array([[0, 2, 10], [4, 5, 0], [2,4,8]])"
   ]
  },
  {
   "cell_type": "code",
   "execution_count": 306,
   "metadata": {
    "ExecuteTime": {
     "end_time": "2021-11-30T16:45:33.726801Z",
     "start_time": "2021-11-30T16:45:33.713836Z"
    }
   },
   "outputs": [
    {
     "data": {
      "text/plain": [
       "1.5572824443635216"
      ]
     },
     "execution_count": 306,
     "metadata": {},
     "output_type": "execute_result"
    }
   ],
   "source": [
    "get_p_vnorm(np.random.random(10), 3)"
   ]
  },
  {
   "cell_type": "code",
   "execution_count": 307,
   "metadata": {
    "ExecuteTime": {
     "end_time": "2021-11-30T16:45:36.056364Z",
     "start_time": "2021-11-30T16:45:36.045393Z"
    }
   },
   "outputs": [],
   "source": [
    "def get_p_vnorm(v, p): \n",
    "    # p-норма вектора\n",
    "    return np.power(np.sum(np.abs(v)**p, axis=0), 1/p)\n",
    "\n",
    "def get_p_mnorm(M, p, N=10000):\n",
    "    # p-норма матрицы\n",
    "    vs = np.random.uniform(-1, 1, (m, N)) # генерируем случайные вектора\n",
    "    vs = vs/get_p_vnorm(vs, p)               # нормируем их: p-норма=1\n",
    "    return np.max(get_p_vnorm(M@vs, p))"
   ]
  },
  {
   "cell_type": "markdown",
   "metadata": {},
   "source": [
    "## Проверка"
   ]
  },
  {
   "cell_type": "markdown",
   "metadata": {},
   "source": [
    "Проверим, что вычисление асимптотически приходит к некоторой константе при увеличение N."
   ]
  },
  {
   "cell_type": "code",
   "execution_count": 236,
   "metadata": {
    "ExecuteTime": {
     "end_time": "2021-11-30T16:20:32.649955Z",
     "start_time": "2021-11-30T16:20:32.227284Z"
    }
   },
   "outputs": [],
   "source": [
    "from scipy import interpolate"
   ]
  },
  {
   "cell_type": "code",
   "execution_count": 315,
   "metadata": {
    "ExecuteTime": {
     "end_time": "2021-11-30T16:46:35.131278Z",
     "start_time": "2021-11-30T16:46:34.825247Z"
    }
   },
   "outputs": [],
   "source": [
    "xs = []\n",
    "ys = []\n",
    "for i in range(50, 10000, 50):\n",
    "    ys.append(get_p_mnorm(M, 3, i))\n",
    "    xs.append(i)"
   ]
  },
  {
   "cell_type": "code",
   "execution_count": 316,
   "metadata": {
    "ExecuteTime": {
     "end_time": "2021-11-30T16:46:35.785556Z",
     "start_time": "2021-11-30T16:46:35.633511Z"
    }
   },
   "outputs": [
    {
     "data": {
      "image/png": "[encoded data removed]",
      "text/plain": [
       "<Figure size 432x288 with 1 Axes>"
      ]
     },
     "metadata": {
      "needs_background": "light"
     },
     "output_type": "display_data"
    }
   ],
   "source": [
    "tck,u     = interpolate.splprep([xs,ys], s =1e-3)\n",
    "xnew,ynew = interpolate.splev( np.linspace( 0, 1, 100 ), tck,der = 0)\n",
    "\n",
    "plt.scatter(xs, ys, color=\"g\", s=10, alpha=0.5,label=\"оценки\")\n",
    "plt.plot(xnew, ynew, \"--\", color=\"k\", label=\"spline\")\n",
    "plt.plot(xs, np.max(ys)*np.ones(len(xs)), \"--\", label=\"max\", color=\"r\")\n",
    "plt.legend()\n",
    "plt.title(\"Однократный подсчёт\")\n",
    "plt.xlabel(\"N, кол-во сгенерированных векторов\")\n",
    "plt.ylabel(\"p_norm(M)\")\n",
    "plt.show()"
   ]
  },
  {
   "cell_type": "code",
   "execution_count": 317,
   "metadata": {
    "ExecuteTime": {
     "end_time": "2021-11-30T16:46:48.306744Z",
     "start_time": "2021-11-30T16:46:45.491029Z"
    }
   },
   "outputs": [],
   "source": [
    "rep = 20;\n",
    "xs2 = []\n",
    "ys2 = []\n",
    "for i in range(50, 10000, 100):\n",
    "    val = 0\n",
    "    for j in range(rep):\n",
    "        val += get_p_mnorm(M, 3, i)\n",
    "        \n",
    "    ys2.append(val/rep)\n",
    "    xs2.append(i)"
   ]
  },
  {
   "cell_type": "code",
   "execution_count": 329,
   "metadata": {
    "ExecuteTime": {
     "end_time": "2021-11-30T16:48:35.495967Z",
     "start_time": "2021-11-30T16:48:35.337425Z"
    }
   },
   "outputs": [
    {
     "data": {
      "image/png": "[encoded data removed]",
      "text/plain": [
       "<Figure size 432x288 with 1 Axes>"
      ]
     },
     "metadata": {
      "needs_background": "light"
     },
     "output_type": "display_data"
    }
   ],
   "source": [
    "plt.scatter(xs2, ys2, color=\"g\", s=10, alpha=0.5,label=\"оценки\")\n",
    "plt.plot(xs2, np.max(ys2)*np.ones(len(xs2)), \"--\", label=\"max\", color=\"r\")\n",
    "plt.legend()\n",
    "plt.title(\"Усредненные значения\")\n",
    "plt.xlabel(\"N, кол-во сгенерированных векторов\")\n",
    "plt.ylabel(\"p_norm(M)\")\n",
    "plt.show()"
   ]
  },
  {
   "cell_type": "markdown",
   "metadata": {},
   "source": [
    "## Аналитическое получение L1 и L2"
   ]
  },
  {
   "cell_type": "code",
   "execution_count": 349,
   "metadata": {
    "ExecuteTime": {
     "end_time": "2021-11-30T17:07:07.172779Z",
     "start_time": "2021-11-30T17:07:07.156029Z"
    }
   },
   "outputs": [],
   "source": [
    "def get_Linf(A):\n",
    "    return np.max(np.sum(np.abs(A), axis=1))\n",
    "\n",
    "def get_L2(A):\n",
    "    return (np.max(np.linalg.eigvals(A.T @ A)))**0.5\n",
    "\n",
    "def get_L1(A):\n",
    "    return np.max(np.sum(np.abs(A), axis=0))"
   ]
  },
  {
   "cell_type": "code",
   "execution_count": 351,
   "metadata": {
    "ExecuteTime": {
     "end_time": "2021-11-30T17:08:07.583791Z",
     "start_time": "2021-11-30T17:08:02.221997Z"
    }
   },
   "outputs": [
    {
     "name": "stdout",
     "output_type": "stream",
     "text": [
      "      аналит.  |   числ.    \n",
      "L1 | 18.000000 | 17.993224\n",
      "L2 | 13.684377 | 13.684376\n",
      "L3 |           | 13.147257\n"
     ]
    }
   ],
   "source": [
    "N = int(1e7)\n",
    "print(\"      аналит.  |   числ.    \")\n",
    "print(\"L1 | {:4f} | {:4f}\".format(get_L1(M), get_p_mnorm(M, 1, N)))\n",
    "print(\"L2 | {:4f} | {:4f}\".format(get_L2(M), get_p_mnorm(M, 2, N)))\n",
    "print(\"L3 |           | {:4f}\".format(get_p_mnorm(M, 3, N)))"
   ]
  },
  {
   "cell_type": "code",
   "execution_count": 357,
   "metadata": {
    "ExecuteTime": {
     "end_time": "2021-11-30T17:09:04.961137Z",
     "start_time": "2021-11-30T17:09:01.709606Z"
    }
   },
   "outputs": [
    {
     "name": "stdout",
     "output_type": "stream",
     "text": [
      "L_inf = 14.000000 \n",
      "L_120 = 13.889059\n"
     ]
    }
   ],
   "source": [
    "# кстати\n",
    "print(\"L_inf = {:4f} \\nL_120 = {:4f}\".format(get_Linf(M), get_p_mnorm(M, 120, N)))"
   ]
  },
  {
   "cell_type": "markdown",
   "metadata": {},
   "source": [
    "Посмотрим на L1 сходимость:"
   ]
  },
  {
   "cell_type": "code",
   "execution_count": 330,
   "metadata": {
    "ExecuteTime": {
     "end_time": "2021-11-30T16:49:28.754268Z",
     "start_time": "2021-11-30T16:49:28.225408Z"
    }
   },
   "outputs": [],
   "source": [
    "rep = 20;\n",
    "xs3 = []\n",
    "ys3 = []\n",
    "for i in range(50, 10000, 100):\n",
    "    val = 0\n",
    "    for j in range(rep):\n",
    "        val += get_p_mnorm(M, 1, i)\n",
    "        \n",
    "    ys3.append(val/rep)\n",
    "    xs3.append(i)"
   ]
  },
  {
   "cell_type": "markdown",
   "metadata": {},
   "source": [
    "Посмотрим на L2 сходимость:"
   ]
  },
  {
   "cell_type": "code",
   "execution_count": 334,
   "metadata": {
    "ExecuteTime": {
     "end_time": "2021-11-30T16:50:37.300943Z",
     "start_time": "2021-11-30T16:50:36.282254Z"
    }
   },
   "outputs": [],
   "source": [
    "rep = 20;\n",
    "xs4 = []\n",
    "ys4 = []\n",
    "for i in range(50, 10000, 100):\n",
    "    val = 0\n",
    "    for j in range(rep):\n",
    "        val += get_p_mnorm(M, 2, i)\n",
    "        \n",
    "    ys4.append(val/rep)\n",
    "    xs4.append(i)"
   ]
  },
  {
   "cell_type": "code",
   "execution_count": 337,
   "metadata": {
    "ExecuteTime": {
     "end_time": "2021-11-30T16:53:03.083504Z",
     "start_time": "2021-11-30T16:53:02.956188Z"
    }
   },
   "outputs": [
    {
     "data": {
      "image/png": "[encoded data removed]",
      "text/plain": [
       "<Figure size 432x288 with 1 Axes>"
      ]
     },
     "metadata": {
      "needs_background": "light"
     },
     "output_type": "display_data"
    }
   ],
   "source": [
    "L1 = np.max(ys3)\n",
    "L2 = np.max(ys4)\n",
    "L3 = np.max(ys2)\n",
    "\n",
    "x1 = xs3; y1 = ys3/L1; # простите\n",
    "x2 = xs4; y2 = ys4/L2; # простите\n",
    "x3 = xs2; y3 = ys2/L3; # простите\n",
    "\n",
    "plt.plot(x1, y1, color=\"g\", alpha=0.5,label=\"L1\")\n",
    "plt.plot(x2, y2, color=\"r\", alpha=0.5,label=\"L2\")\n",
    "plt.plot(x3, y3, color=\"b\", alpha=0.5,label=\"L3\")\n",
    "\n",
    "plt.legend()\n",
    "plt.title(\"Усредненные значения\")\n",
    "plt.xlabel(\"N, кол-во сгенерированных векторов\")\n",
    "plt.ylabel(\"p_norm(M)\")\n",
    "plt.show()"
   ]
  },
  {
   "cell_type": "code",
   "execution_count": 343,
   "metadata": {
    "ExecuteTime": {
     "end_time": "2021-11-30T16:55:25.678723Z",
     "start_time": "2021-11-30T16:55:25.244236Z"
    }
   },
   "outputs": [
    {
     "data": {
      "image/png": "[encoded data removed]",
      "text/plain": [
       "<Figure size 432x288 with 1 Axes>"
      ]
     },
     "metadata": {
      "needs_background": "light"
     },
     "output_type": "display_data"
    }
   ],
   "source": [
    "plt.scatter(x1, np.abs(y1-1), color=\"g\", alpha=0.75,label=\"L1\", s=5)\n",
    "plt.plot(x1, np.abs(y1-1), \"--\", color=\"g\", alpha=0.5)\n",
    "\n",
    "plt.scatter(x2, np.abs(y2-1), color=\"r\", alpha=0.75,label=\"L2\", s=5)\n",
    "plt.plot(x2, np.abs(y2-1), \"--\", color=\"r\", alpha=0.5)\n",
    "\n",
    "plt.scatter(x3, np.abs(y3-1), color=\"b\", alpha=0.75,label=\"L3\", s=5)\n",
    "plt.plot(x3, np.abs(y3-1), \"--\", color=\"b\", alpha=0.5)\n",
    "\n",
    "\n",
    "plt.yscale(\"log\")\n",
    "plt.legend()\n",
    "plt.title(\"Усредненные значения\")\n",
    "plt.xlabel(\"N, кол-во сгенерированных векторов\")\n",
    "plt.ylabel(\"p_norm(M)-1\")\n",
    "plt.show()"
   ]
  },
  {
   "cell_type": "markdown",
   "metadata": {},
   "source": [
    "## Число обусловленности"
   ]
  },
  {
   "cell_type": "code",
   "execution_count": 402,
   "metadata": {
    "ExecuteTime": {
     "end_time": "2021-11-30T17:23:15.257914Z",
     "start_time": "2021-11-30T17:23:15.252927Z"
    }
   },
   "outputs": [],
   "source": [
    "M = np.array([[0, 2, 10], [4, 5, 0], [2,4,8]])"
   ]
  },
  {
   "cell_type": "code",
   "execution_count": 407,
   "metadata": {
    "ExecuteTime": {
     "end_time": "2021-11-30T17:24:11.343994Z",
     "start_time": "2021-11-30T17:24:11.327077Z"
    }
   },
   "outputs": [],
   "source": [
    "def GetMU(M):\n",
    "    invM = np.linalg.inv(M)\n",
    "    return np.array([get_L1(M) * get_L1(invM), \n",
    "            get_L2(M) * get_L2(invM), \n",
    "            get_Linf(M) * get_Linf(invM)])"
   ]
  },
  {
   "cell_type": "code",
   "execution_count": 476,
   "metadata": {
    "ExecuteTime": {
     "end_time": "2021-11-30T17:43:03.560556Z",
     "start_time": "2021-11-30T17:43:01.292224Z"
    }
   },
   "outputs": [
    {
     "data": {
      "text/plain": [
       "(10001, 3)"
      ]
     },
     "execution_count": 476,
     "metadata": {},
     "output_type": "execute_result"
    }
   ],
   "source": [
    "rep = 10000\n",
    "dim = 5;\n",
    "\n",
    "M = (np.random.random((dim, dim))-1/2)*2\n",
    "ans1 = GetMU(M)\n",
    "for i in range(rep):\n",
    "    M = np.random.random((dim, dim))\n",
    "    ans1 = np.vstack([ans1, GetMU(M)])\n",
    "ans1.shape"
   ]
  },
  {
   "cell_type": "code",
   "execution_count": 475,
   "metadata": {
    "ExecuteTime": {
     "end_time": "2021-11-30T17:43:01.164600Z",
     "start_time": "2021-11-30T17:42:46.468226Z"
    }
   },
   "outputs": [
    {
     "data": {
      "text/plain": [
       "(10001, 3)"
      ]
     },
     "execution_count": 475,
     "metadata": {},
     "output_type": "execute_result"
    }
   ],
   "source": [
    "rep = 10000\n",
    "dim = 50;\n",
    "\n",
    "M = (np.random.random((dim, dim))-1/2)*2\n",
    "ans2 = GetMU(M)\n",
    "for i in range(rep):\n",
    "    M = np.random.random((dim, dim))\n",
    "    ans2 = np.vstack([ans2, GetMU(M)])\n",
    "ans2.shape"
   ]
  },
  {
   "cell_type": "markdown",
   "metadata": {},
   "source": [
    "Посмотрим на гистограмму log чисел обусловленности."
   ]
  },
  {
   "cell_type": "code",
   "execution_count": 477,
   "metadata": {
    "ExecuteTime": {
     "end_time": "2021-11-30T17:43:09.897965Z",
     "start_time": "2021-11-30T17:43:08.820009Z"
    }
   },
   "outputs": [
    {
     "data": {
      "image/png": "[encoded data removed]",
      "text/plain": [
       "<Figure size 432x288 with 1 Axes>"
      ]
     },
     "metadata": {
      "needs_background": "light"
     },
     "output_type": "display_data"
    }
   ],
   "source": [
    "data1 = np.log10(ans1)\n",
    "data2 = np.log10(ans2)\n",
    "nbins = 100\n",
    "\n",
    "plt.hist(data1[:, 0], bins=nbins, alpha=0.3, label=\"L1, 5\", density=True)\n",
    "plt.hist(data1[:, 1], bins=nbins, alpha=0.3, label=\"L2, 5\", density=True)\n",
    "plt.hist(data1[:, 2], bins=nbins, alpha=0.3, label=\"Linf, 5\", density=True)\n",
    "\n",
    "plt.hist(data2[:, 0], bins=nbins, alpha=0.3, label=\"L1, 50\", density=True)\n",
    "plt.hist(data2[:, 1], bins=nbins, alpha=0.3, label=\"L2, 50\", density=True)\n",
    "plt.hist(data2[:, 2], bins=nbins, alpha=0.3, label=\"Linf, 50\", density=True)\n",
    "\n",
    "\n",
    "plt.legend()\n",
    "plt.show()"
   ]
  },
  {
   "cell_type": "markdown",
   "metadata": {
    "heading_collapsed": true
   },
   "source": [
    "# Задача 4"
   ]
  },
  {
   "cell_type": "markdown",
   "metadata": {
    "hidden": true
   },
   "source": [
    "Реализовать метод Гаусса приведения матрицы к ступенчатому виду. Реализовать функцию вычисления ранга матрицы. Сгенерировать вырожденные матрицы различных рангов и размеров и проверить алгоритм."
   ]
  },
  {
   "cell_type": "code",
   "execution_count": 566,
   "metadata": {
    "ExecuteTime": {
     "end_time": "2021-11-30T18:33:20.132790Z",
     "start_time": "2021-11-30T18:33:20.120821Z"
    },
    "hidden": true
   },
   "outputs": [],
   "source": [
    "def gauss2ladder(M):\n",
    "    M = M.astype(\"float64\")\n",
    "    n, m = M.shape\n",
    "    step = 0\n",
    "    shift = 0\n",
    "\n",
    "    for i in range(m):\n",
    "        # берем максимальный элемент\n",
    "        if step < n:\n",
    "            i_mnz = step+np.argmax(np.abs(M[step:, step+shift]))\n",
    "        else: continue\n",
    "\n",
    "#         print(i_mnz)\n",
    "    \n",
    "        if M[:, step+shift][i_mnz] != 0:\n",
    "            M[[step, i_mnz]] = M[[i_mnz, step]]\n",
    "        else:\n",
    "            shift += 1\n",
    "            continue\n",
    "        \n",
    "#         print(np.round(M, 2))\n",
    "\n",
    "        for j in range(step + 1, n):\n",
    "            M[j] -=  M[step] / M[step, i] * M[j, i]\n",
    "        step += 1\n",
    "        \n",
    "#         print(np.round(M, 2), end=\"\\n\\n\")\n",
    "\n",
    "    return M"
   ]
  },
  {
   "cell_type": "code",
   "execution_count": 530,
   "metadata": {
    "ExecuteTime": {
     "end_time": "2021-11-30T18:16:10.113666Z",
     "start_time": "2021-11-30T18:16:10.100702Z"
    },
    "hidden": true
   },
   "outputs": [],
   "source": [
    "def get_rang(M):\n",
    "    rang = np.sum(np.abs(gauss2ladder(M)), 1).nonzero()[0].shape[0]\n",
    "    return rang"
   ]
  },
  {
   "cell_type": "markdown",
   "metadata": {
    "heading_collapsed": true,
    "hidden": true
   },
   "source": [
    "## Проверка"
   ]
  },
  {
   "cell_type": "code",
   "execution_count": 531,
   "metadata": {
    "ExecuteTime": {
     "end_time": "2021-11-30T18:16:11.558051Z",
     "start_time": "2021-11-30T18:16:11.547049Z"
    },
    "hidden": true
   },
   "outputs": [
    {
     "name": "stdout",
     "output_type": "stream",
     "text": [
      "M:\n",
      "[[ 0  2 10]\n",
      " [ 4  5  0]\n",
      " [ 2  4  8]]\n",
      "\n",
      "Лестничный вид M:\n",
      "[[ 4.   5.   0. ]\n",
      " [ 0.   2.  10. ]\n",
      " [ 0.   0.   0.5]]\n"
     ]
    }
   ],
   "source": [
    "M = np.array([[0, 2, 10], [4, 5, 0], [2,4,8]])\n",
    "print(\"M:\")\n",
    "print(M)\n",
    "print(\"\\nЛестничный вид M:\")\n",
    "print(gauss2ladder(M))"
   ]
  },
  {
   "cell_type": "markdown",
   "metadata": {
    "hidden": true
   },
   "source": [
    "Найдём ранг"
   ]
  },
  {
   "cell_type": "code",
   "execution_count": 532,
   "metadata": {
    "ExecuteTime": {
     "end_time": "2021-11-30T18:16:13.946825Z",
     "start_time": "2021-11-30T18:16:13.936820Z"
    },
    "hidden": true
   },
   "outputs": [
    {
     "name": "stdout",
     "output_type": "stream",
     "text": [
      "M:\n",
      "[[ 0  2 10]\n",
      " [ 4  5  0]\n",
      " [ 2  4  8]\n",
      " [ 4  5  0]\n",
      " [ 2  4  8]]\n",
      "\n",
      "Лестничный вид M:\n",
      "[[ 4.   5.   0. ]\n",
      " [ 0.   2.  10. ]\n",
      " [ 0.   0.   0.5]\n",
      " [ 0.   0.   0. ]\n",
      " [ 0.   0.   0. ]]\n",
      "\n",
      "ранг M: 3\n"
     ]
    }
   ],
   "source": [
    "M = np.array([[0, 2, 10], [4, 5, 0], [2,4,8], [4, 5, 0], [2,4,8]])\n",
    "Mlad = gauss2ladder(M)\n",
    "print(\"M:\")\n",
    "print(M)\n",
    "print(\"\\nЛестничный вид M:\")\n",
    "print(Mlad)\n",
    "print(\"\\nранг M:\", get_rang(M))"
   ]
  },
  {
   "cell_type": "markdown",
   "metadata": {
    "hidden": true
   },
   "source": [
    "Проверим:"
   ]
  },
  {
   "cell_type": "code",
   "execution_count": 533,
   "metadata": {
    "ExecuteTime": {
     "end_time": "2021-11-30T18:16:16.694083Z",
     "start_time": "2021-11-30T18:16:16.679134Z"
    },
    "hidden": true
   },
   "outputs": [
    {
     "data": {
      "text/plain": [
       "2"
      ]
     },
     "execution_count": 533,
     "metadata": {},
     "output_type": "execute_result"
    }
   ],
   "source": [
    "gen = mat_gen(-2, 2)\n",
    "get_rang(gen.lad(3, 2))"
   ]
  },
  {
   "cell_type": "code",
   "execution_count": 534,
   "metadata": {
    "ExecuteTime": {
     "end_time": "2021-11-30T18:16:18.140934Z",
     "start_time": "2021-11-30T18:16:18.126971Z"
    },
    "hidden": true
   },
   "outputs": [
    {
     "data": {
      "text/plain": [
       "2"
      ]
     },
     "execution_count": 534,
     "metadata": {},
     "output_type": "execute_result"
    }
   ],
   "source": [
    "gen = mat_gen(-20, 4)\n",
    "get_rang(gen.lad(3, 2))"
   ]
  },
  {
   "cell_type": "markdown",
   "metadata": {
    "heading_collapsed": true
   },
   "source": [
    "# Задача 5"
   ]
  },
  {
   "cell_type": "code",
   "execution_count": 544,
   "metadata": {
    "ExecuteTime": {
     "end_time": "2021-11-30T18:23:39.460884Z",
     "start_time": "2021-11-30T18:23:39.449880Z"
    },
    "hidden": true
   },
   "outputs": [],
   "source": [
    "def get_gauss_sol(M, f):\n",
    "    M = M.astype(\"float64\")\n",
    "    f = f.astype(\"float64\")\n",
    "    \n",
    "    f = f.reshape(1, -1)\n",
    "    n = f.shape[1]\n",
    "    \n",
    "    x = np.zeros(n)\n",
    "    \n",
    "    if get_rang(M) != n:\n",
    "        return \"err: вырожденная матрица\"\n",
    "    \n",
    "    Mf = np.concatenate((M, f.reshape(n, 1)), axis=1)\n",
    "    Mf = gauss2ladder(Mf)\n",
    "    \n",
    "    for i in range(n-1, -1, -1):\n",
    "        tmp = 0.\n",
    "        \n",
    "        for j in range(i + 1, n):\n",
    "            tmp += x[j] * Mf[i, j]\n",
    "    \n",
    "        x[i] = (Mf[i, n] - tmp) / Mf[i, i]\n",
    "    return x"
   ]
  },
  {
   "cell_type": "code",
   "execution_count": 567,
   "metadata": {
    "ExecuteTime": {
     "end_time": "2021-11-30T18:33:21.612896Z",
     "start_time": "2021-11-30T18:33:21.597917Z"
    },
    "hidden": true
   },
   "outputs": [
    {
     "name": "stdout",
     "output_type": "stream",
     "text": [
      "[[2. 2. 4.]\n",
      " [0. 0. 6.]\n",
      " [0. 0. 0.]]\n",
      "[[ 5.   2.  10. ]\n",
      " [ 0.  -1.6 -7. ]\n",
      " [ 0.   0.  -5. ]]\n"
     ]
    }
   ],
   "source": [
    "N = np.array(\n",
    "    [[2, 2, 4],\n",
    "     [0, 0 ,1],\n",
    "     [2, 2, 10]]);\n",
    "M = np.array(\n",
    "    [[1, 2, 4],\n",
    "     [4, 0 ,1],\n",
    "     [5, 2, 10]]);\n",
    "f = np.array([1, 2, 3]);\n",
    "print(gauss2ladder(N))\n",
    "print(gauss2ladder(M))"
   ]
  },
  {
   "cell_type": "code",
   "execution_count": 573,
   "metadata": {
    "ExecuteTime": {
     "end_time": "2021-11-30T18:34:23.685547Z",
     "start_time": "2021-11-30T18:34:23.679569Z"
    },
    "hidden": true
   },
   "outputs": [
    {
     "name": "stdout",
     "output_type": "stream",
     "text": [
      "ans:   [ 0.45  -0.125  0.2  ]\n",
      "M@ans: [1. 2. 4.]\n"
     ]
    }
   ],
   "source": [
    "M = np.array(\n",
    "    [[1, 2, 4],\n",
    "     [4, 0 ,1],\n",
    "     [5, 2, 10]]);\n",
    "f = np.array([1, 2, 4]);\n",
    "\n",
    "ans = get_gauss_sol(M, f)\n",
    "print(\"ans:  \", ans)\n",
    "print(\"M@ans:\", M@ans)"
   ]
  },
  {
   "cell_type": "markdown",
   "metadata": {
    "hidden": true
   },
   "source": [
    "Прямой ход метода Гаусса требует $O(n^3)$ операций, обратный: $O(n^2)$\n",
    "$$O(n^3 + n^2) = O(n^3),$$\n",
    "что и говорит об асимптотике."
   ]
  },
  {
   "cell_type": "markdown",
   "metadata": {
    "heading_collapsed": true
   },
   "source": [
    "# Задача 6"
   ]
  },
  {
   "cell_type": "code",
   "execution_count": 607,
   "metadata": {
    "ExecuteTime": {
     "end_time": "2021-11-30T18:46:40.432039Z",
     "start_time": "2021-11-30T18:46:40.403055Z"
    },
    "hidden": true
   },
   "outputs": [
    {
     "name": "stdout",
     "output_type": "stream",
     "text": [
      "rg: 50\n",
      "det: -8.59e+32\n",
      "число обусловленности = 2101.59\n"
     ]
    }
   ],
   "source": [
    "N = 50\n",
    "A = get_rand_mat((N, N))\n",
    "print(\"rg:\", get_rang(A))\n",
    "print(\"det: {:.2e}\".format(np.linalg.det(A)))\n",
    "print(\"число обусловленности = {:.2f}\".format(get_L2(A) * get_L2(np.linalg.inv(A))))"
   ]
  },
  {
   "cell_type": "code",
   "execution_count": 608,
   "metadata": {
    "ExecuteTime": {
     "end_time": "2021-11-30T18:46:45.811003Z",
     "start_time": "2021-11-30T18:46:45.782075Z"
    },
    "hidden": true
   },
   "outputs": [
    {
     "name": "stdout",
     "output_type": "stream",
     "text": [
      "diff: 7.88e-12\n"
     ]
    }
   ],
   "source": [
    "f = np.ones(N)\n",
    "np_sol = np.linalg.solve(A, f)\n",
    "u_sol = get_gauss_sol(A, f)\n",
    "print(\"diff: {:.2e}\".format(np.sqrt(np.sum(np.abs(u_sol - np_sol)**2))))"
   ]
  },
  {
   "cell_type": "code",
   "execution_count": 609,
   "metadata": {
    "ExecuteTime": {
     "end_time": "2021-11-30T18:47:01.146426Z",
     "start_time": "2021-11-30T18:46:47.921740Z"
    },
    "hidden": true
   },
   "outputs": [],
   "source": [
    "vs = []\n",
    "diffs = []\n",
    "\n",
    "for i in range(500):\n",
    "    pert = np.random.random(N)/100\n",
    "    fp = np.ones(N) + pert\n",
    "    \n",
    "    np_sol = np.linalg.solve(A, f)\n",
    "    u_sol = get_gauss_sol(A, f)\n",
    "    \n",
    "    u_sol_p = get_gauss_sol(A, fp)\n",
    "    \n",
    "    diffs.append(np.sqrt(np.sum(np.abs(u_sol - u_sol_p)**2)))\n",
    "    vs.append(np.sqrt(np.sum(np.abs(u_sol - np_sol)**2)))"
   ]
  },
  {
   "cell_type": "code",
   "execution_count": 610,
   "metadata": {
    "ExecuteTime": {
     "end_time": "2021-11-30T18:47:02.611921Z",
     "start_time": "2021-11-30T18:47:02.596780Z"
    },
    "hidden": true
   },
   "outputs": [
    {
     "data": {
      "text/plain": [
       "21.015866818619113"
      ]
     },
     "execution_count": 610,
     "metadata": {},
     "output_type": "execute_result"
    }
   ],
   "source": [
    "# ожидаемые отклонения\n",
    "1/100 * get_L2(A) * get_L2(np.linalg.inv(A))"
   ]
  },
  {
   "cell_type": "code",
   "execution_count": 611,
   "metadata": {
    "ExecuteTime": {
     "end_time": "2021-11-30T18:47:04.551224Z",
     "start_time": "2021-11-30T18:47:04.370020Z"
    },
    "hidden": true
   },
   "outputs": [
    {
     "data": {
      "image/png": "[encoded data removed]",
      "text/plain": [
       "<Figure size 432x288 with 1 Axes>"
      ]
     },
     "metadata": {
      "needs_background": "light"
     },
     "output_type": "display_data"
    }
   ],
   "source": [
    "plt.hist(diffs, bins=50)\n",
    "plt.show()"
   ]
  },
  {
   "cell_type": "markdown",
   "metadata": {
    "hidden": true
   },
   "source": [
    "Больще число обусловленности $\\Rightarrow$ больше возмущение."
   ]
  },
  {
   "cell_type": "markdown",
   "metadata": {
    "hidden": true
   },
   "source": [
    "## Численная оценка числа обусловленности"
   ]
  },
  {
   "cell_type": "code",
   "execution_count": 656,
   "metadata": {
    "ExecuteTime": {
     "end_time": "2021-11-30T19:00:56.618352Z",
     "start_time": "2021-11-30T19:00:56.589169Z"
    },
    "hidden": true
   },
   "outputs": [
    {
     "name": "stdout",
     "output_type": "stream",
     "text": [
      "rg: 50\n",
      "det: -4.49e+33\n",
      "число обусловленности = 3376.73\n"
     ]
    }
   ],
   "source": [
    "N = 50\n",
    "A = get_rand_mat((N, N))\n",
    "f = np.ones(N)\n",
    "print(\"rg:\", get_rang(A))\n",
    "print(\"det: {:.2e}\".format(np.linalg.det(A)))\n",
    "print(\"число обусловленности = {:.2f}\".format(get_L2(A) * get_L2(np.linalg.inv(A))))"
   ]
  },
  {
   "cell_type": "code",
   "execution_count": 657,
   "metadata": {
    "ExecuteTime": {
     "end_time": "2021-11-30T19:01:13.258506Z",
     "start_time": "2021-11-30T19:00:58.270374Z"
    },
    "hidden": true
   },
   "outputs": [],
   "source": [
    "vs = []\n",
    "rep = 100\n",
    "eps_list = [1e-6, 1e-5, 1e-4, 1e-3, 1e-2, 1];\n",
    "\n",
    "for eps in eps_list:\n",
    "    val = 0;\n",
    "    for i in range(rep):\n",
    "        pert = np.random.random(N) * eps\n",
    "        fp = np.ones(N) + pert\n",
    "        \n",
    "        u_sol = get_gauss_sol(A, f)\n",
    "        u_sol_p = get_gauss_sol(A, fp)\n",
    "        \n",
    "        val += np.linalg.norm(u_sol_p-u_sol)/rep\n",
    "    vs.append(val)"
   ]
  },
  {
   "cell_type": "code",
   "execution_count": 658,
   "metadata": {
    "ExecuteTime": {
     "end_time": "2021-11-30T19:01:14.727132Z",
     "start_time": "2021-11-30T19:01:14.714169Z"
    },
    "hidden": true
   },
   "outputs": [
    {
     "data": {
      "text/plain": [
       "[47.45039741902817,\n",
       " 49.49382736733809,\n",
       " 51.246905200090886,\n",
       " 55.43427304381988,\n",
       " 47.74290477561499,\n",
       " 48.94702502368435]"
      ]
     },
     "execution_count": 658,
     "metadata": {},
     "output_type": "execute_result"
    }
   ],
   "source": [
    "est = [vs[i]/eps_list[i] for i in range(len(eps_list))]\n",
    "est"
   ]
  },
  {
   "cell_type": "code",
   "execution_count": 662,
   "metadata": {
    "ExecuteTime": {
     "end_time": "2021-11-30T19:02:00.876648Z",
     "start_time": "2021-11-30T19:02:00.762213Z"
    },
    "hidden": true
   },
   "outputs": [
    {
     "data": {
      "image/png": "[encoded data removed]",
      "text/plain": [
       "<Figure size 432x288 with 1 Axes>"
      ]
     },
     "metadata": {
      "needs_background": "light"
     },
     "output_type": "display_data"
    }
   ],
   "source": [
    "nums = [0, 70.1, 274.78, 1275.12, 3376.73]\n",
    "ests = [0, 3, 9, 30, 55]\n",
    "plt.scatter(nums, ests)\n",
    "plt.show()"
   ]
  },
  {
   "cell_type": "code",
   "execution_count": 665,
   "metadata": {
    "ExecuteTime": {
     "end_time": "2021-11-30T19:03:04.163389Z",
     "start_time": "2021-11-30T19:03:02.762316Z"
    },
    "hidden": true
   },
   "outputs": [],
   "source": [
    "from scipy import stats"
   ]
  },
  {
   "cell_type": "code",
   "execution_count": 669,
   "metadata": {
    "ExecuteTime": {
     "end_time": "2021-11-30T19:04:08.450564Z",
     "start_time": "2021-11-30T19:04:08.435574Z"
    },
    "hidden": true
   },
   "outputs": [
    {
     "data": {
      "text/plain": [
       "0.9859240079357705"
      ]
     },
     "execution_count": 669,
     "metadata": {},
     "output_type": "execute_result"
    }
   ],
   "source": [
    "# корреляция пирсона оценки числа обусловленности и числа обусловленности\n",
    "stats.pearsonr(nums, ests)[0]"
   ]
  }
 ],
 "metadata": {
  "kernelspec": {
   "display_name": "Python 3",
   "language": "python",
   "name": "python3"
  },
  "language_info": {
   "codemirror_mode": {
    "name": "ipython",
    "version": 3
   },
   "file_extension": ".py",
   "mimetype": "text/x-python",
   "name": "python",
   "nbconvert_exporter": "python",
   "pygments_lexer": "ipython3",
   "version": "3.7.4"
  },
  "latex_envs": {
   "LaTeX_envs_menu_present": true,
   "autoclose": false,
   "autocomplete": true,
   "bibliofile": "biblio.bib",
   "cite_by": "apalike",
   "current_citInitial": 1,
   "eqLabelWithNumbers": true,
   "eqNumInitial": 1,
   "hotkeys": {
    "equation": "Ctrl-E",
    "itemize": "Ctrl-I"
   },
   "labels_anchors": false,
   "latex_user_defs": false,
   "report_style_numbering": false,
   "user_envs_cfg": false
  },
  "toc": {
   "base_numbering": 1,
   "nav_menu": {},
   "number_sections": true,
   "sideBar": true,
   "skip_h1_title": false,
   "title_cell": "Table of Contents",
   "title_sidebar": "Contents",
   "toc_cell": false,
   "toc_position": {},
   "toc_section_display": true,
   "toc_window_display": false
  },
  "varInspector": {
   "cols": {
    "lenName": 16,
    "lenType": 16,
    "lenVar": 40
   },
   "kernels_config": {
    "python": {
     "delete_cmd_postfix": "",
     "delete_cmd_prefix": "del ",
     "library": "var_list.py",
     "varRefreshCmd": "print(var_dic_list())"
    },
    "r": {
     "delete_cmd_postfix": ") ",
     "delete_cmd_prefix": "rm(",
     "library": "var_list.r",
     "varRefreshCmd": "cat(var_dic_list()) "
    }
   },
   "types_to_exclude": [
    "module",
    "function",
    "builtin_function_or_method",
    "instance",
    "_Feature"
   ],
   "window_display": false
  }
 },
 "nbformat": 4,
 "nbformat_minor": 2
}
