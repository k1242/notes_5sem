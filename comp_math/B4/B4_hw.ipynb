{
 "cells": [
  {
   "cell_type": "code",
   "execution_count": 72,
   "metadata": {
    "ExecuteTime": {
     "end_time": "2021-12-04T10:15:35.069859Z",
     "start_time": "2021-12-04T10:15:35.052768Z"
    }
   },
   "outputs": [],
   "source": [
    "import pandas as pd\n",
    "import numpy as np\n",
    "import matplotlib.pyplot as plt"
   ]
  },
  {
   "cell_type": "markdown",
   "metadata": {},
   "source": [
    "# Задача 1 (метод Якоби)"
   ]
  },
  {
   "cell_type": "code",
   "execution_count": 73,
   "metadata": {
    "ExecuteTime": {
     "end_time": "2021-12-04T10:15:35.084827Z",
     "start_time": "2021-12-04T10:15:35.071720Z"
    }
   },
   "outputs": [],
   "source": [
    "def get_LDU(M):\n",
    "    D = np.diag(M) * np.eye(M.shape[0])\n",
    "    U = np.triu(M) - D\n",
    "    L = np.tril(M) - D\n",
    "    return L, D, U"
   ]
  },
  {
   "cell_type": "code",
   "execution_count": 210,
   "metadata": {
    "ExecuteTime": {
     "end_time": "2021-12-04T10:40:33.277195Z",
     "start_time": "2021-12-04T10:40:33.267538Z"
    }
   },
   "outputs": [],
   "source": [
    "def get_jacobi_Rb(M, f):\n",
    "    L, D, U = get_LDU(M)\n",
    "    R = -np.linalg.inv(D) @ (L + U)\n",
    "    b = np.linalg.inv(D) @ f\n",
    "    return R, b\n",
    "\n",
    "def check_jacobi_converg(M):\n",
    "    L, D, U = get_LDU(M)\n",
    "    return np.sum(np.abs(D))/np.sum(np.abs(U + L))"
   ]
  },
  {
   "cell_type": "code",
   "execution_count": 260,
   "metadata": {
    "ExecuteTime": {
     "end_time": "2021-12-04T10:48:45.620088Z",
     "start_time": "2021-12-04T10:48:45.600117Z"
    }
   },
   "outputs": [],
   "source": [
    "def jacobi_solve(M, f, eps, flag=False):\n",
    "    R, b = get_jacobi_Rb(M, f)\n",
    "    \n",
    "    x = np.random.random(M.shape[0])\n",
    "    step = 0\n",
    "    while (np.linalg.norm(M@x-f) > eps):\n",
    "        step += 1\n",
    "        if np.linalg.norm(x) > 1e3 or step > 1e5:\n",
    "            print(\"метод Якоби расходится: z={:.2f} ~ 1\\nstep: {}\".format(check_jacobi_converg(M), step))\n",
    "            break\n",
    "\n",
    "        x = R@x + b\n",
    "    \n",
    "    if flag: return x, step\n",
    "    else: return x"
   ]
  },
  {
   "cell_type": "markdown",
   "metadata": {},
   "source": [
    "Проверим, что метод работает, и посмотрим как быстро."
   ]
  },
  {
   "cell_type": "code",
   "execution_count": 212,
   "metadata": {
    "ExecuteTime": {
     "end_time": "2021-12-04T10:40:36.200330Z",
     "start_time": "2021-12-04T10:40:36.187401Z"
    }
   },
   "outputs": [
    {
     "name": "stdout",
     "output_type": "stream",
     "text": [
      "количество шагов: 6\n",
      "невязка:          5.14e-11\n"
     ]
    }
   ],
   "source": [
    "## dim = 30\n",
    "\n",
    "M = np.random.random((dim, dim)) + np.eye(dim) * dim*(dim-1)\n",
    "f  = np.ones(dim)\n",
    "\n",
    "M = np.round(M, 2)\n",
    "# print(M)\n",
    "\n",
    "true_ans = np.linalg.solve(M, f)\n",
    "# print(true_ans)\n",
    "\n",
    "ans, step = jacobi_solve(M, f, 1e-6, True)\n",
    "# print(ans)\n",
    "\n",
    "print(\"количество шагов:\", step)\n",
    "print(\"невязка:          {:.2e}\".format(np.linalg.norm(ans-true_ans)))"
   ]
  },
  {
   "cell_type": "markdown",
   "metadata": {},
   "source": [
    "## Решение системы"
   ]
  },
  {
   "cell_type": "code",
   "execution_count": 247,
   "metadata": {
    "ExecuteTime": {
     "end_time": "2021-12-04T10:44:09.912099Z",
     "start_time": "2021-12-04T10:44:09.900130Z"
    }
   },
   "outputs": [],
   "source": [
    "def get_Mf(n, alpha):\n",
    "    \n",
    "    f = np.zeros(n)\n",
    "    f[0] = 1-alpha\n",
    "    f[n-1]=1+alpha\n",
    "\n",
    "    M = np.zeros((n, n))\n",
    "    M += 2 * np.eye(n)\n",
    "    for i in range(2-1, n-1):\n",
    "#     for i in range(0, n-1):\n",
    "        M[i, i+1] = -1-alpha\n",
    "#     for i in range(1, n):\n",
    "        M[i, i-1] = -1+alpha\n",
    "    return M, f"
   ]
  },
  {
   "cell_type": "markdown",
   "metadata": {},
   "source": [
    "Заметим, что при $\\alpha \\in [-1, 1]$ в матрице есть строгое диагональное преобладание, так что, по идее, там метод Якоби (и Зейделя) должен сходиться."
   ]
  },
  {
   "cell_type": "code",
   "execution_count": 252,
   "metadata": {
    "ExecuteTime": {
     "end_time": "2021-12-04T10:46:21.404257Z",
     "start_time": "2021-12-04T10:46:21.383793Z"
    }
   },
   "outputs": [
    {
     "name": "stdout",
     "output_type": "stream",
     "text": [
      "[[ 2.   0.   0.   0. ]\n",
      " [-0.5  2.  -1.5  0. ]\n",
      " [ 0.  -0.5  2.  -1.5]\n",
      " [ 0.   0.   0.   2. ]]\n"
     ]
    },
    {
     "data": {
      "text/plain": [
       "2.0"
      ]
     },
     "execution_count": 252,
     "metadata": {},
     "output_type": "execute_result"
    }
   ],
   "source": [
    "n = 4\n",
    "alpha = 0.5\n",
    "\n",
    "M, f = get_Mf(n, alpha)\n",
    "print(M)\n",
    "\n",
    "L, D, U = get_LDU(M)\n",
    "np.sum(np.abs(D))/np.sum(np.abs(U + L))"
   ]
  },
  {
   "cell_type": "markdown",
   "metadata": {},
   "source": [
    "Проверим это прямым вычислением."
   ]
  },
  {
   "cell_type": "code",
   "execution_count": 297,
   "metadata": {
    "ExecuteTime": {
     "end_time": "2021-12-04T10:55:26.011694Z",
     "start_time": "2021-12-04T10:55:24.205235Z"
    }
   },
   "outputs": [
    {
     "data": {
      "image/png": "[encoded data removed]",
      "text/plain": [
       "<Figure size 432x288 with 1 Axes>"
      ]
     },
     "metadata": {
      "needs_background": "light"
     },
     "output_type": "display_data"
    }
   ],
   "source": [
    "# зависимость от n\n",
    "alpha = 0.5\n",
    "rep = 2\n",
    "ns = range(20, 200, 10)\n",
    "\n",
    "steps = []\n",
    "for n in ns:\n",
    "    M, f = get_Mf(n, alpha)\n",
    "    step_ = 0\n",
    "    for _ in range(rep):\n",
    "        ans, step = jacobi_solve(M, f, 1e-10, True)\n",
    "        step_ += step/rep \n",
    "    steps.append(step_)\n",
    "    \n",
    "x = np.array(ns)\n",
    "y = np.array(steps)\n",
    "coeff = np.polyfit(x, y, 1)\n",
    "    \n",
    "plt.scatter(ns, steps, color=\"k\")\n",
    "plt.plot(x, np.poly1d(coeff)(x), \"--\")\n",
    "plt.show()"
   ]
  },
  {
   "cell_type": "code",
   "execution_count": 368,
   "metadata": {
    "ExecuteTime": {
     "end_time": "2021-12-04T13:00:38.841987Z",
     "start_time": "2021-12-04T13:00:33.458978Z"
    }
   },
   "outputs": [],
   "source": [
    "# зависимость от alpha\n",
    "alphas = np.linspace(-1.45, 1.45, 200)\n",
    "rep = 10\n",
    "n = 10\n",
    "\n",
    "steps_jacobi = []\n",
    "for alpha in alphas:\n",
    "    M, f = get_Mf(n, alpha)\n",
    "    step_ = 0\n",
    "    for _ in range(rep):\n",
    "        ans, step = jacobi_solve(M, f, 1e-10, True)\n",
    "        step_ += step/rep \n",
    "    steps_jacobi.append(step_)"
   ]
  },
  {
   "cell_type": "code",
   "execution_count": 370,
   "metadata": {
    "ExecuteTime": {
     "end_time": "2021-12-04T13:00:43.435358Z",
     "start_time": "2021-12-04T13:00:43.329738Z"
    }
   },
   "outputs": [
    {
     "data": {
      "image/png": "[encoded data removed]",
      "text/plain": [
       "<Figure size 432x288 with 1 Axes>"
      ]
     },
     "metadata": {
      "needs_background": "light"
     },
     "output_type": "display_data"
    }
   ],
   "source": [
    "plt.plot(alphas, steps_jacobi, color=\"k\")\n",
    "plt.ylim(0, 500)\n",
    "plt.show()"
   ]
  },
  {
   "cell_type": "code",
   "execution_count": 384,
   "metadata": {
    "ExecuteTime": {
     "end_time": "2021-12-04T13:40:40.138672Z",
     "start_time": "2021-12-04T13:40:40.128701Z"
    }
   },
   "outputs": [
    {
     "data": {
      "text/plain": [
       "array([[ 2.,  0.,  0.,  0.,  0.],\n",
       "       [-1.,  2., -1.,  0.,  0.],\n",
       "       [ 0., -1.,  2., -1.,  0.],\n",
       "       [ 0.,  0., -1.,  2., -1.],\n",
       "       [ 0.,  0.,  0.,  0.,  2.]])"
      ]
     },
     "execution_count": 384,
     "metadata": {},
     "output_type": "execute_result"
    }
   ],
   "source": [
    "M"
   ]
  },
  {
   "cell_type": "code",
   "execution_count": 383,
   "metadata": {
    "ExecuteTime": {
     "end_time": "2021-12-04T13:40:34.679369Z",
     "start_time": "2021-12-04T13:40:34.668886Z"
    }
   },
   "outputs": [
    {
     "name": "stdout",
     "output_type": "stream",
     "text": [
      "1 [0. 1. 1. 1. 1.]\n",
      "-1 [1. 1. 1. 1. 0.]\n",
      "0 [0.5 0.5 0.5 0.5 0.5]\n"
     ]
    }
   ],
   "source": [
    "# точное решение\n",
    "n = 5\n",
    "\n",
    "alpha = 1\n",
    "M, f = get_Mf(n, alpha)\n",
    "print(alpha, np.linalg.solve(M, f))\n",
    "\n",
    "alpha = -1\n",
    "M, f = get_Mf(n, alpha)\n",
    "print(alpha, np.linalg.solve(M, f))\n",
    "\n",
    "alpha = 0\n",
    "M, f = get_Mf(n, alpha)\n",
    "print(alpha, np.linalg.solve(M, f))"
   ]
  },
  {
   "cell_type": "markdown",
   "metadata": {},
   "source": [
    "Если сделать матрицу ленточной, то решением будет вектор вида $x = [1,\\, 1,\\, \\ldots, 1]$."
   ]
  },
  {
   "cell_type": "markdown",
   "metadata": {},
   "source": [
    "# Задача 2"
   ]
  },
  {
   "cell_type": "code",
   "execution_count": 327,
   "metadata": {
    "ExecuteTime": {
     "end_time": "2021-12-04T12:44:15.702009Z",
     "start_time": "2021-12-04T12:44:15.692046Z"
    }
   },
   "outputs": [],
   "source": [
    "def get_seidel_Rb(M, f):\n",
    "    L, D, U = get_LDU(M)\n",
    "    R = -np.linalg.inv(L+D) @ (U)\n",
    "    b = np.linalg.inv(L+D) @ f\n",
    "    return R, b\n",
    "\n",
    "def seidel_solve(M, f, eps, flag=False):\n",
    "    R, b = get_seidel_Rb(M, f)\n",
    "    \n",
    "    x = np.random.random(M.shape[0])\n",
    "    step = 0\n",
    "    while (np.linalg.norm(M@x-f) > eps):\n",
    "        step += 1\n",
    "        if np.linalg.norm(x) > 1e3 or step > 1e5:\n",
    "            print(\"метод Зейделя расходится: z={:.2f} ~ 1\\nstep: {}\".format(check_jacobi_converg(M), step))\n",
    "            break\n",
    "\n",
    "        x = R@x + b\n",
    "    \n",
    "    if flag: return x, step\n",
    "    else: return x"
   ]
  },
  {
   "cell_type": "code",
   "execution_count": 350,
   "metadata": {
    "ExecuteTime": {
     "end_time": "2021-12-04T12:47:00.834797Z",
     "start_time": "2021-12-04T12:46:56.265513Z"
    }
   },
   "outputs": [
    {
     "name": "stdout",
     "output_type": "stream",
     "text": [
      "количество шагов (Зейдель): 16\n",
      "количество шагов (Якоби):   51\n",
      "невязка:          1.61e-14\n",
      "невязка:          1.20e-14\n"
     ]
    }
   ],
   "source": [
    "dim = 3000\n",
    "\n",
    "M = np.random.random((dim, dim)) + np.eye(dim) * dim\n",
    "f  = np.ones(dim)\n",
    "\n",
    "M = np.round(M, 2)\n",
    "# print(M)\n",
    "\n",
    "true_ans = np.linalg.solve(M, f)\n",
    "# print(true_ans)\n",
    "\n",
    "ans1, step1 = seidel_solve(M, f, 1e-10, True)\n",
    "ans2, step2 = jacobi_solve(M, f, 1e-10, True)\n",
    "# print(ans)\n",
    "\n",
    "print(\"количество шагов (Зейдель):\", step1)\n",
    "print(\"количество шагов (Якоби):  \", step2)\n",
    "print(\"невязка:          {:.2e}\".format(np.linalg.norm(ans1-true_ans)))\n",
    "print(\"невязка:          {:.2e}\".format(np.linalg.norm(ans2-true_ans)))"
   ]
  },
  {
   "cell_type": "code",
   "execution_count": 351,
   "metadata": {
    "ExecuteTime": {
     "end_time": "2021-12-04T12:58:08.288709Z",
     "start_time": "2021-12-04T12:58:07.562745Z"
    }
   },
   "outputs": [
    {
     "data": {
      "image/png": "[encoded data removed]",
      "text/plain": [
       "<Figure size 432x288 with 1 Axes>"
      ]
     },
     "metadata": {
      "needs_background": "light"
     },
     "output_type": "display_data"
    }
   ],
   "source": [
    "# зависимость от n\n",
    "alpha = 0.5\n",
    "rep = 1\n",
    "ns = range(20, 200, 10)\n",
    "\n",
    "steps = []\n",
    "for n in ns:\n",
    "    M, f = get_Mf(n, alpha)\n",
    "    step_ = 0\n",
    "    for _ in range(rep):\n",
    "        ans, step = seidel_solve(M, f, 1e-10, True)\n",
    "        step_ += step/rep \n",
    "    steps.append(step_)\n",
    "    \n",
    "x = np.array(ns)\n",
    "y = np.array(steps)\n",
    "coeff = np.polyfit(x, y, 1)\n",
    "    \n",
    "plt.scatter(ns, steps, color=\"k\")\n",
    "plt.plot(x, np.poly1d(coeff)(x), \"--\")\n",
    "plt.show()"
   ]
  },
  {
   "cell_type": "code",
   "execution_count": 372,
   "metadata": {
    "ExecuteTime": {
     "end_time": "2021-12-04T13:01:41.026594Z",
     "start_time": "2021-12-04T13:01:38.218673Z"
    }
   },
   "outputs": [],
   "source": [
    "# зависимость от alpha\n",
    "alphas = np.linspace(-1.45, 1.45, 200)\n",
    "rep = 10\n",
    "n = 10\n",
    "\n",
    "steps_seidel = []\n",
    "for alpha in alphas:\n",
    "    M, f = get_Mf(n, alpha)\n",
    "    step_ = 0\n",
    "    for _ in range(rep):\n",
    "        ans, step = seidel_solve(M, f, 1e-10, True)\n",
    "        step_ += step/rep \n",
    "    steps_seidel.append(step_)"
   ]
  },
  {
   "cell_type": "code",
   "execution_count": 377,
   "metadata": {
    "ExecuteTime": {
     "end_time": "2021-12-04T13:02:25.039920Z",
     "start_time": "2021-12-04T13:02:24.919890Z"
    }
   },
   "outputs": [
    {
     "data": {
      "image/png": "[encoded data removed]",
      "text/plain": [
       "<Figure size 432x288 with 1 Axes>"
      ]
     },
     "metadata": {
      "needs_background": "light"
     },
     "output_type": "display_data"
    }
   ],
   "source": [
    "plt.plot(alphas, steps_seidel, color=\"k\", label=\"seidel\")\n",
    "plt.plot(alphas, steps_jacobi, \"--\", color=\"k\", label=\"jacobi\")\n",
    "plt.ylim(0, 500)\n",
    "plt.legend()\n",
    "plt.show()"
   ]
  },
  {
   "cell_type": "markdown",
   "metadata": {},
   "source": [
    "# Задача 3"
   ]
  },
  {
   "cell_type": "markdown",
   "metadata": {
    "ExecuteTime": {
     "end_time": "2021-12-04T13:38:46.146397Z",
     "start_time": "2021-12-04T13:38:46.132434Z"
    }
   },
   "source": [
    "см. [pdf-файл](https://github.com/k1242/notes_5sem/blob/main/comp_math/theory_hw/comp_math_hw.pdf) с заданием"
   ]
  },
  {
   "cell_type": "markdown",
   "metadata": {},
   "source": [
    "# Задача 4"
   ]
  },
  {
   "cell_type": "code",
   "execution_count": 592,
   "metadata": {
    "ExecuteTime": {
     "end_time": "2021-12-04T15:16:41.035879Z",
     "start_time": "2021-12-04T15:16:41.020887Z"
    }
   },
   "outputs": [],
   "source": [
    "def relax_solve(M, f, tau, eps, flag=False):\n",
    "    R, b = get_seidel_Rb(M, f)\n",
    "    \n",
    "    x = np.random.random(M.shape[0])\n",
    "    step = 0\n",
    "    while (np.linalg.norm(M@x-f) > eps):\n",
    "        step += 1\n",
    "        if np.linalg.norm(x) > 1e3 or step > 1e5:\n",
    "#             print(\"метод релаксации расходится: z={:.2f} ~ 1\\nstep: {}\".format(check_jacobi_converg(M), step))\n",
    "            if flag: return x, -10\n",
    "            else: return x\n",
    "            break\n",
    "\n",
    "        z = R@x + b\n",
    "        x = x + tau * (z - x)\n",
    "    \n",
    "    if flag: return x, step\n",
    "    else: return x"
   ]
  },
  {
   "cell_type": "code",
   "execution_count": 593,
   "metadata": {
    "ExecuteTime": {
     "end_time": "2021-12-04T15:16:42.172794Z",
     "start_time": "2021-12-04T15:16:42.105599Z"
    }
   },
   "outputs": [
    {
     "name": "stdout",
     "output_type": "stream",
     "text": [
      "количество шагов (Зейдель):    14\n",
      "количество шагов (Якоби):      43\n",
      "количество шагов (релаксации): 14\n",
      "невязка:          1.76e-13\n",
      "невязка:          3.49e-13\n",
      "невязка:          1.58e-13\n"
     ]
    }
   ],
   "source": [
    "dim = 100\n",
    "tau = 1\n",
    "\n",
    "M = np.random.random((dim, dim)) + np.eye(dim) * dim\n",
    "f  = np.ones(dim)\n",
    "\n",
    "M = np.round(M, 2)\n",
    "# print(M)\n",
    "\n",
    "true_ans = np.linalg.solve(M, f)\n",
    "# print(true_ans)\n",
    "\n",
    "ans1, step1 = seidel_solve(M, f, 1e-10, True)\n",
    "ans2, step2 = jacobi_solve(M, f, 1e-10, True)\n",
    "ans3, step3 =  relax_solve(M, f, tau, 1e-10, True)\n",
    "# print(ans)\n",
    "\n",
    "print(\"количество шагов (Зейдель):   \", step1)\n",
    "print(\"количество шагов (Якоби):     \", step2)\n",
    "print(\"количество шагов (релаксации):\", step3)\n",
    "print(\"невязка:          {:.2e}\".format(np.linalg.norm(ans1-true_ans)))\n",
    "print(\"невязка:          {:.2e}\".format(np.linalg.norm(ans2-true_ans)))\n",
    "print(\"невязка:          {:.2e}\".format(np.linalg.norm(ans3-true_ans)))"
   ]
  },
  {
   "cell_type": "code",
   "execution_count": 739,
   "metadata": {
    "ExecuteTime": {
     "end_time": "2021-12-04T16:28:46.612188Z",
     "start_time": "2021-12-04T16:28:22.730082Z"
    },
    "scrolled": true
   },
   "outputs": [],
   "source": [
    "# зависимость от tau\n",
    "taus = np.linspace(0.15, 2.0, 100)\n",
    "rep = 1\n",
    "dim = 10\n",
    "\n",
    "alphas = np.linspace(-3, 3, 100)\n",
    "steps_relax_alphas = []\n",
    "for alpha in alphas:\n",
    "    steps_relax = []\n",
    "    for tau in taus:\n",
    "        step_ = 0\n",
    "        M, f = get_Mf(n, alpha)\n",
    "        for _ in range(rep):\n",
    "            ans, step = relax_solve(M, f, tau, 1e-10, True)\n",
    "            step_ += step/rep \n",
    "        steps_relax.append(step_)\n",
    "    steps_relax_alphas.append(steps_relax)"
   ]
  },
  {
   "cell_type": "code",
   "execution_count": 740,
   "metadata": {
    "ExecuteTime": {
     "end_time": "2021-12-04T16:28:47.564631Z",
     "start_time": "2021-12-04T16:28:47.381527Z"
    }
   },
   "outputs": [
    {
     "data": {
      "image/png": "[encoded data removed]",
      "text/plain": [
       "<Figure size 600x400 with 2 Axes>"
      ]
     },
     "metadata": {
      "needs_background": "light"
     },
     "output_type": "display_data"
    }
   ],
   "source": [
    "im = np.array(steps_relax_alphas)\n",
    "im[im < 0] = None\n",
    "im = np.log10(im)\n",
    "\n",
    "fig, ax = plt.subplots(dpi=100)\n",
    "plt.imshow(im, interpolation='none',\n",
    "           extent=[np.min(taus),np.max(taus),np.min(alphas),np.max(alphas)],\n",
    "           aspect=1/4)\n",
    "plt.colorbar(orientation='vertical')\n",
    "plt.xlabel(\"$\\\\tau$\")\n",
    "plt.ylabel(\"$\\\\alpha$\")\n",
    "plt.show()"
   ]
  },
  {
   "cell_type": "markdown",
   "metadata": {},
   "source": [
    "# Задача 5"
   ]
  },
  {
   "cell_type": "code",
   "execution_count": 635,
   "metadata": {
    "ExecuteTime": {
     "end_time": "2021-12-04T15:47:43.711273Z",
     "start_time": "2021-12-04T15:47:43.703294Z"
    }
   },
   "outputs": [],
   "source": [
    "def get_uprelax_Rb(M, f, tau):\n",
    "    L, D, U = get_LDU(M)\n",
    "    R = -np.linalg.inv(tau * L + D) @ (U + (1 - tau) * L)\n",
    "    b = np.linalg.inv(tau * L + D) @ f\n",
    "    return R, b\n",
    "\n",
    "\n",
    "def uprelax_solve(M, f, tau, eps, flag=False):\n",
    "    R, b = get_uprelax_Rb(M, f, tau)\n",
    "\n",
    "    x = np.random.random(M.shape[0])\n",
    "    step = 0\n",
    "    while (np.linalg.norm(M @ x - f) > eps):\n",
    "        step += 1\n",
    "        if np.linalg.norm(x) > 1e3 or step > 1e5:\n",
    "#             print(\"метод верхней релаксации расходится: z={:.2f} ~ 1\\nstep: {}\".format(\n",
    "#                 check_jacobi_converg(M), step))\n",
    "            if flag: return x, -10\n",
    "            else: return x\n",
    "            break\n",
    "\n",
    "        x = R@x + b\n",
    "\n",
    "    if flag:\n",
    "        return x, step\n",
    "    else:\n",
    "        return x"
   ]
  },
  {
   "cell_type": "code",
   "execution_count": 638,
   "metadata": {
    "ExecuteTime": {
     "end_time": "2021-12-04T15:48:48.343561Z",
     "start_time": "2021-12-04T15:48:48.325609Z"
    }
   },
   "outputs": [
    {
     "name": "stdout",
     "output_type": "stream",
     "text": [
      "количество шагов (up релаксации): 26\n",
      "невязка:          4.54e-12\n"
     ]
    }
   ],
   "source": [
    "dim = 10\n",
    "tau = 0.1\n",
    "\n",
    "M = np.random.random((dim, dim)) + np.eye(dim) * dim\n",
    "f  = np.ones(dim)\n",
    "M = np.round(M, 2)\n",
    "\n",
    "true_ans = np.linalg.solve(M, f)\n",
    "ans4, step4 =  uprelax_solve(M, f, tau, 1e-10, True)\n",
    "\n",
    "print(\"количество шагов (up релаксации):\", step4)\n",
    "print(\"невязка:          {:.2e}\".format(np.linalg.norm(ans4-true_ans)))"
   ]
  },
  {
   "cell_type": "code",
   "execution_count": 723,
   "metadata": {
    "ExecuteTime": {
     "end_time": "2021-12-04T16:23:53.181053Z",
     "start_time": "2021-12-04T16:23:34.629367Z"
    }
   },
   "outputs": [],
   "source": [
    "# зависимость от tau\n",
    "taus = np.linspace(-3.0, 3.0, 100)\n",
    "rep = 1\n",
    "n = 10\n",
    "\n",
    "alphas = np.linspace(-2, 2, 100)\n",
    "steps_relax_alphas = []\n",
    "for alpha in alphas:\n",
    "    steps_relax = []\n",
    "    for tau in taus:\n",
    "        step_ = 0\n",
    "        M, f = get_Mf(n, alpha)\n",
    "        for _ in range(rep):\n",
    "            ans, step = uprelax_solve(M, f, tau, 1e-10, True)\n",
    "            step_ += step/rep \n",
    "        steps_relax.append(step_)\n",
    "    steps_relax_alphas.append(steps_relax)"
   ]
  },
  {
   "cell_type": "code",
   "execution_count": 724,
   "metadata": {
    "ExecuteTime": {
     "end_time": "2021-12-04T16:23:54.343759Z",
     "start_time": "2021-12-04T16:23:54.095387Z"
    }
   },
   "outputs": [
    {
     "data": {
      "image/png": "[encoded data removed]",
      "text/plain": [
       "<Figure size 600x400 with 2 Axes>"
      ]
     },
     "metadata": {
      "needs_background": "light"
     },
     "output_type": "display_data"
    }
   ],
   "source": [
    "im = np.array(steps_relax_alphas)\n",
    "im[im < 0] = None\n",
    "im = np.log10(im)\n",
    "\n",
    "fig, ax = plt.subplots(dpi=100)\n",
    "plt.imshow(im, interpolation='none',\n",
    "           extent=[np.min(taus),np.max(taus),np.min(alphas),np.max(alphas)],\n",
    "           aspect=1)\n",
    "plt.colorbar(orientation='vertical')\n",
    "plt.xlabel(\"$\\\\tau$\")\n",
    "plt.ylabel(\"$\\\\alpha$\")\n",
    "plt.show()"
   ]
  },
  {
   "cell_type": "markdown",
   "metadata": {},
   "source": [
    "Красота!)"
   ]
  },
  {
   "cell_type": "markdown",
   "metadata": {},
   "source": [
    "# Задача 6"
   ]
  },
  {
   "cell_type": "markdown",
   "metadata": {},
   "source": [
    "## МПИ"
   ]
  },
  {
   "cell_type": "code",
   "execution_count": 742,
   "metadata": {
    "ExecuteTime": {
     "end_time": "2021-12-04T16:29:17.607596Z",
     "start_time": "2021-12-04T16:29:17.596624Z"
    }
   },
   "outputs": [],
   "source": [
    "def get_mpi_Rb(M, f, tau):\n",
    "    R = np.eye(M.shape[0]) - tau * M\n",
    "    b = tau * f\n",
    "    return R, b\n",
    "\n",
    "\n",
    "def mpi_solve(M, f, tau, eps, flag=False):\n",
    "    R, b = get_mpi_Rb(M, f, tau)\n",
    "\n",
    "    x = np.random.random(M.shape[0])\n",
    "    step = 0\n",
    "    while (np.linalg.norm(M @ x - f) > eps):\n",
    "        step += 1\n",
    "        if np.linalg.norm(x) > 1e3 or step > 1e4:\n",
    "#             print(\"метод простой итерации расходится: z={:.2f} ~ 1\\nstep: {}\".format(\n",
    "#                 check_jacobi_converg(M), step))\n",
    "            if flag: return x, -10\n",
    "            else: return x\n",
    "            break\n",
    "\n",
    "        x = R@x + b\n",
    "\n",
    "    if flag:\n",
    "        return x, step\n",
    "    else:\n",
    "        return x"
   ]
  },
  {
   "cell_type": "code",
   "execution_count": 731,
   "metadata": {
    "ExecuteTime": {
     "end_time": "2021-12-04T16:25:47.387328Z",
     "start_time": "2021-12-04T16:25:47.377344Z"
    }
   },
   "outputs": [
    {
     "name": "stdout",
     "output_type": "stream",
     "text": [
      "количество шагов (up релаксации): 19\n",
      "невязка:          4.15e-12\n"
     ]
    }
   ],
   "source": [
    "dim = 10\n",
    "tau = 0.08\n",
    "\n",
    "M = np.random.random((dim, dim)) + np.eye(dim) * dim\n",
    "f  = np.ones(dim)\n",
    "M = np.round(M, 2)\n",
    "\n",
    "true_ans = np.linalg.solve(M, f)\n",
    "ans5, step5 =  mpi_solve(M, f, tau, 1e-10, True)\n",
    "\n",
    "print(\"количество шагов (up релаксации):\", step5)\n",
    "print(\"невязка:          {:.2e}\".format(np.linalg.norm(ans5-true_ans)))"
   ]
  },
  {
   "cell_type": "code",
   "execution_count": 751,
   "metadata": {
    "ExecuteTime": {
     "end_time": "2021-12-04T16:32:50.613991Z",
     "start_time": "2021-12-04T16:32:04.841199Z"
    }
   },
   "outputs": [],
   "source": [
    "# зависимость от tau\n",
    "taus = np.linspace(0, 0.9, 100)\n",
    "rep = 1\n",
    "n = 10\n",
    "\n",
    "alphas = np.linspace(-3., 3., 100)\n",
    "steps_relax_alphas = []\n",
    "for alpha in alphas:\n",
    "    steps_relax = []\n",
    "    for tau in taus:\n",
    "        step_ = 0\n",
    "        M, f = get_Mf(n, alpha)\n",
    "        for _ in range(rep):\n",
    "            ans, step = mpi_solve(M, f, tau, 1e-10, True)\n",
    "            step_ += step/rep \n",
    "        steps_relax.append(step_)\n",
    "    steps_relax_alphas.append(steps_relax)"
   ]
  },
  {
   "cell_type": "code",
   "execution_count": 754,
   "metadata": {
    "ExecuteTime": {
     "end_time": "2021-12-04T16:40:12.247102Z",
     "start_time": "2021-12-04T16:40:12.077963Z"
    }
   },
   "outputs": [
    {
     "data": {
      "image/png": "[encoded data removed]",
      "text/plain": [
       "<Figure size 600x400 with 2 Axes>"
      ]
     },
     "metadata": {
      "needs_background": "light"
     },
     "output_type": "display_data"
    }
   ],
   "source": [
    "im = np.array(steps_relax_alphas)\n",
    "im[im < 0] = None\n",
    "im = np.log10(im)\n",
    "\n",
    "fig, ax = plt.subplots(dpi=100)\n",
    "plt.imshow(im, interpolation='none',\n",
    "           extent=[np.min(taus),np.max(taus),np.min(alphas),np.max(alphas)],\n",
    "           aspect=1/5)\n",
    "plt.colorbar(orientation='vertical')\n",
    "plt.xlabel(\"$\\\\tau$\")\n",
    "plt.ylabel(\"$\\\\alpha$\")\n",
    "plt.show()"
   ]
  },
  {
   "cell_type": "markdown",
   "metadata": {},
   "source": [
    "Таким образом реализовали метод простой итерации, и посмотрели сколько необходимо шагов на решение задачи. "
   ]
  },
  {
   "cell_type": "markdown",
   "metadata": {},
   "source": [
    "При $\\tau \\to 0$  увеличивается устойчивость алгоритма, но он существенно замедляется."
   ]
  },
  {
   "cell_type": "markdown",
   "metadata": {},
   "source": [
    "## ускорение Чебышева"
   ]
  },
  {
   "cell_type": "code",
   "execution_count": 918,
   "metadata": {
    "ExecuteTime": {
     "end_time": "2021-12-04T17:30:08.074539Z",
     "start_time": "2021-12-04T17:30:08.051536Z"
    }
   },
   "outputs": [],
   "source": [
    "def сhebyshev_mpi_solve(M, f, tau, eps, flag=False):\n",
    "    R, b = get_mpi_Rb(M, f, tau)\n",
    "    rho = np.abs(R[0][0]) # R верхнетреугольная, в общем виде это работать не будет, нужно взять другое число\n",
    "                          # то есть значение выюрано специфично под задачу B4.1\n",
    "    \n",
    "    def do_step_0():\n",
    "        x0 = np.random.random(M.shape[0]);\n",
    "\n",
    "        y_b = x0;\n",
    "        y_ = R@y_b + b;\n",
    "\n",
    "        mu_  = rho\n",
    "        mu_b = 1\n",
    "\n",
    "        # завершение шага\n",
    "        y_bb = y_b\n",
    "        y_b  = y_\n",
    "\n",
    "        mu_bb = mu_b\n",
    "        mu_b  = mu_\n",
    "        \n",
    "        return y_bb, y_b, mu_bb, mu_b\n",
    "    \n",
    "    \n",
    "    def do_step(y_bb, y_b, mu_bb, mu_b):\n",
    "        mu_ = (2/rho/mu_b - 1/mu_bb)**(-1)\n",
    "\n",
    "        y_ = 2/rho * mu_/mu_b * R@y_b - \\\n",
    "            mu_/mu_bb * y_bb + \\\n",
    "            2/rho * mu_/mu_b * b\n",
    "\n",
    "        # завершение шага\n",
    "        y_bb = y_b\n",
    "        y_b  = y_\n",
    "\n",
    "        mu_bb = mu_b\n",
    "        mu_b  = mu_\n",
    "        return y_bb, y_b, mu_bb, mu_b\n",
    "    \n",
    "    \n",
    "    \n",
    "    y_bb, y_b, mu_bb, mu_b = do_step_0()\n",
    "    \n",
    "    step = 0\n",
    "    while (np.linalg.norm(M @ y_b - f) > eps):\n",
    "        step += 1\n",
    "        if np.linalg.norm(y_b) > 1e3 or step > 1e4 or np.isnan(y_b).any():\n",
    "#             print(\"ускоренный метод простой итерации расходится\")\n",
    "            if flag: return x, -10\n",
    "            else: return x\n",
    "            break\n",
    "            \n",
    "        y_bb, y_b, mu_bb, mu_b = do_step(y_bb, y_b, mu_bb, mu_b)\n",
    "\n",
    "    if flag:\n",
    "        return y_b, step\n",
    "    else:\n",
    "        return y_b"
   ]
  },
  {
   "cell_type": "markdown",
   "metadata": {},
   "source": [
    "*Мысль*: с ускоренеием чебышева метод становится гораздо менее чувствителен к параметру $\\tau$."
   ]
  },
  {
   "cell_type": "code",
   "execution_count": 924,
   "metadata": {
    "ExecuteTime": {
     "end_time": "2021-12-04T17:32:22.805774Z",
     "start_time": "2021-12-04T17:32:22.746072Z"
    }
   },
   "outputs": [
    {
     "name": "stdout",
     "output_type": "stream",
     "text": [
      "[0.25 0.58 0.69 0.73 0.74 0.75 0.75 0.75 0.75 0.75]\n",
      "[0.25 0.58 0.69 0.73 0.74 0.75 0.75 0.75 0.75 0.75]\n",
      "чебышев+mpi #steps: 515\n",
      "        mpi #steps: 1242\n"
     ]
    }
   ],
   "source": [
    "# решили\n",
    "alpha = 0.5\n",
    "# alpha = 5\n",
    "tau   = 0.05\n",
    "\n",
    "n = 10\n",
    "\n",
    "M, f = get_Mf(n, alpha)\n",
    "ans, step_che = сhebyshev_mpi_solve(M, f, tau, 1e-10, True)\n",
    "_, step_mpi = mpi_solve(M, f, tau, 1e-10, True)\n",
    "\n",
    "print(np.round(np.linalg.solve(M, f), 2))\n",
    "print(np.round(ans, 2))\n",
    "print(\"чебышев+mpi #steps:\", step_che)\n",
    "print(\"        mpi #steps:\", step_mpi)"
   ]
  },
  {
   "cell_type": "code",
   "execution_count": 921,
   "metadata": {
    "ExecuteTime": {
     "end_time": "2021-12-04T17:31:31.986376Z",
     "start_time": "2021-12-04T17:30:36.693784Z"
    },
    "collapsed": true
   },
   "outputs": [
    {
     "name": "stderr",
     "output_type": "stream",
     "text": [
      "D:\\Apps\\Anaconda\\envs\\TF21\\lib\\site-packages\\ipykernel_launcher.py:25: RuntimeWarning: divide by zero encountered in double_scalars\n",
      "D:\\Apps\\Anaconda\\envs\\TF21\\lib\\site-packages\\ipykernel_launcher.py:28: RuntimeWarning: divide by zero encountered in double_scalars\n",
      "D:\\Apps\\Anaconda\\envs\\TF21\\lib\\site-packages\\ipykernel_launcher.py:28: RuntimeWarning: invalid value encountered in double_scalars\n",
      "D:\\Apps\\Anaconda\\envs\\TF21\\lib\\site-packages\\ipykernel_launcher.py:29: RuntimeWarning: divide by zero encountered in double_scalars\n",
      "D:\\Apps\\Anaconda\\envs\\TF21\\lib\\site-packages\\ipykernel_launcher.py:29: RuntimeWarning: invalid value encountered in double_scalars\n",
      "D:\\Apps\\Anaconda\\envs\\TF21\\lib\\site-packages\\ipykernel_launcher.py:25: RuntimeWarning: overflow encountered in double_scalars\n"
     ]
    }
   ],
   "source": [
    "# зависимость от tau\n",
    "taus = np.linspace(0, 0.9, 100)\n",
    "rep = 1\n",
    "n = 10\n",
    "\n",
    "alphas = np.linspace(-3., 3., 100)\n",
    "steps_relax_alphas = []\n",
    "for alpha in alphas:\n",
    "    steps_relax = []\n",
    "    for tau in taus:\n",
    "        step_ = 0\n",
    "        M, f = get_Mf(n, alpha)\n",
    "        for _ in range(rep):\n",
    "            ans, step = сhebyshev_mpi_solve(M, f, tau, 1e-10, True)\n",
    "            step_ += step/rep \n",
    "        steps_relax.append(step_)\n",
    "    steps_relax_alphas.append(steps_relax)"
   ]
  },
  {
   "cell_type": "code",
   "execution_count": 922,
   "metadata": {
    "ExecuteTime": {
     "end_time": "2021-12-04T17:31:59.716394Z",
     "start_time": "2021-12-04T17:31:59.537551Z"
    }
   },
   "outputs": [
    {
     "data": {
      "image/png": "[encoded data removed]",
      "text/plain": [
       "<Figure size 600x400 with 2 Axes>"
      ]
     },
     "metadata": {
      "needs_background": "light"
     },
     "output_type": "display_data"
    }
   ],
   "source": [
    "im = np.array(steps_relax_alphas)\n",
    "im[im < 0] = None\n",
    "im = np.log10(im)\n",
    "\n",
    "fig, ax = plt.subplots(dpi=100)\n",
    "plt.imshow(im, interpolation='none',\n",
    "           extent=[np.min(taus),np.max(taus),np.min(alphas),np.max(alphas)],\n",
    "           aspect=1/5)\n",
    "plt.colorbar(orientation='vertical')\n",
    "plt.xlabel(\"$\\\\tau$\")\n",
    "plt.ylabel(\"$\\\\alpha$\")\n",
    "plt.show()"
   ]
  },
  {
   "cell_type": "code",
   "execution_count": null,
   "metadata": {},
   "outputs": [],
   "source": []
  }
 ],
 "metadata": {
  "kernelspec": {
   "display_name": "Python 3",
   "language": "python",
   "name": "python3"
  },
  "language_info": {
   "codemirror_mode": {
    "name": "ipython",
    "version": 3
   },
   "file_extension": ".py",
   "mimetype": "text/x-python",
   "name": "python",
   "nbconvert_exporter": "python",
   "pygments_lexer": "ipython3",
   "version": "3.7.4"
  },
  "latex_envs": {
   "LaTeX_envs_menu_present": true,
   "autoclose": false,
   "autocomplete": true,
   "bibliofile": "biblio.bib",
   "cite_by": "apalike",
   "current_citInitial": 1,
   "eqLabelWithNumbers": true,
   "eqNumInitial": 1,
   "hotkeys": {
    "equation": "Ctrl-E",
    "itemize": "Ctrl-I"
   },
   "labels_anchors": false,
   "latex_user_defs": false,
   "report_style_numbering": false,
   "user_envs_cfg": false
  },
  "toc": {
   "base_numbering": 1,
   "nav_menu": {},
   "number_sections": true,
   "sideBar": true,
   "skip_h1_title": false,
   "title_cell": "Table of Contents",
   "title_sidebar": "Contents",
   "toc_cell": false,
   "toc_position": {},
   "toc_section_display": true,
   "toc_window_display": false
  },
  "varInspector": {
   "cols": {
    "lenName": 16,
    "lenType": 16,
    "lenVar": 40
   },
   "kernels_config": {
    "python": {
     "delete_cmd_postfix": "",
     "delete_cmd_prefix": "del ",
     "library": "var_list.py",
     "varRefreshCmd": "print(var_dic_list())"
    },
    "r": {
     "delete_cmd_postfix": ") ",
     "delete_cmd_prefix": "rm(",
     "library": "var_list.r",
     "varRefreshCmd": "cat(var_dic_list()) "
    }
   },
   "types_to_exclude": [
    "module",
    "function",
    "builtin_function_or_method",
    "instance",
    "_Feature"
   ],
   "window_display": false
  }
 },
 "nbformat": 4,
 "nbformat_minor": 2
}
