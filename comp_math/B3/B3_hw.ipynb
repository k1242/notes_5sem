{
 "cells": [
  {
   "cell_type": "code",
   "execution_count": 125,
   "metadata": {
    "ExecuteTime": {
     "end_time": "2021-12-03T18:33:32.564039Z",
     "start_time": "2021-12-03T18:33:32.550042Z"
    }
   },
   "outputs": [],
   "source": [
    "import pandas as pd\n",
    "import numpy as np\n",
    "import matplotlib.pyplot as plt"
   ]
  },
  {
   "cell_type": "code",
   "execution_count": 244,
   "metadata": {
    "ExecuteTime": {
     "end_time": "2021-12-03T19:37:07.822395Z",
     "start_time": "2021-12-03T19:37:07.817435Z"
    }
   },
   "outputs": [],
   "source": [
    "import time"
   ]
  },
  {
   "cell_type": "markdown",
   "metadata": {},
   "source": [
    "# Задача 1"
   ]
  },
  {
   "cell_type": "code",
   "execution_count": 185,
   "metadata": {
    "ExecuteTime": {
     "end_time": "2021-12-03T18:56:53.308253Z",
     "start_time": "2021-12-03T18:56:53.296285Z"
    }
   },
   "outputs": [],
   "source": [
    "def shift_kron_delta(shift): \n",
    "    # реализация символа дельта-кронекера со сдвигом\n",
    "    return lambda i, j: (i==j-shift).astype(\"float64\")\n",
    "\n",
    "def shift_rand_kron_delta(shift, dim): \n",
    "    # реализация случайного символа дельта-кронекера со сдвигом\n",
    "    return lambda i, j: (i==j-shift).astype(\"float64\") * np.random.random(dim)\n",
    "\n",
    "def sub_diag(dim, shift, rand=False):\n",
    "    # генерация на побочной диагонали единиц\n",
    "    if rand:\n",
    "        return np.fromfunction(shift_rand_kron_delta(shift, dim), dim, dtype=\"float64\")\n",
    "    else: \n",
    "        return np.fromfunction(shift_kron_delta(shift), dim, dtype=\"float64\")\n",
    "\n",
    "def eye_band_matrix(shifts, dim):\n",
    "    # генерация случайной ленточной матрицы \n",
    "    base = np.zeros(dim)\n",
    "    for shift in shifts:\n",
    "        base += sub_diag(dim, shift)\n",
    "    return base    \n",
    "\n",
    "def rand1_band_matrix(shifts, dim):\n",
    "    # генерация случайной ленточной матрицы \n",
    "    base = np.zeros(dim)\n",
    "    for shift in shifts:\n",
    "        base += sub_diag(dim, shift, rand=True)\n",
    "    return base\n",
    "\n",
    "def rand2_band_matrix(shifts, dim):\n",
    "    # генерация случайной ленточной матрицы с постоянными коэффициентами\n",
    "    base = np.zeros(dim)\n",
    "    for shift in shifts:\n",
    "        base += sub_diag(dim, shift) * np.random.random()\n",
    "    return base"
   ]
  },
  {
   "cell_type": "code",
   "execution_count": 123,
   "metadata": {
    "ExecuteTime": {
     "end_time": "2021-12-03T18:27:09.165266Z",
     "start_time": "2021-12-03T18:27:09.147315Z"
    }
   },
   "outputs": [
    {
     "name": "stdout",
     "output_type": "stream",
     "text": [
      "[[0.62 0.23 0.  ]\n",
      " [0.09 0.93 0.06]\n",
      " [0.   0.66 0.03]\n",
      " [0.   0.   0.78]]\n",
      "[[0.45 0.73 0.  ]\n",
      " [0.77 0.45 0.73]\n",
      " [0.   0.77 0.45]\n",
      " [0.   0.   0.77]]\n"
     ]
    }
   ],
   "source": [
    "dim = (4, 3);\n",
    "shifts = [-1, 0, 1];\n",
    "\n",
    "M = rand1_band_matrix(shifts, dim)\n",
    "print(np.round(M, 2))\n",
    "\n",
    "M = rand2_band_matrix(shifts, dim)\n",
    "print(np.round(M, 2))"
   ]
  },
  {
   "cell_type": "code",
   "execution_count": 127,
   "metadata": {
    "ExecuteTime": {
     "end_time": "2021-12-03T18:33:43.367884Z",
     "start_time": "2021-12-03T18:33:43.360903Z"
    },
    "scrolled": true
   },
   "outputs": [
    {
     "data": {
      "text/plain": [
       "array([[0.01531675, 0.06623767, 0.02201659],\n",
       "       [0.03198044, 0.03597555, 0.02196459],\n",
       "       [0.019283  , 0.06918162, 0.00451501]])"
      ]
     },
     "execution_count": 127,
     "metadata": {},
     "output_type": "execute_result"
    }
   ],
   "source": [
    "# возмущение\n",
    "dim = (3, 3)\n",
    "epsilon = 0.1\n",
    "np.random.random(dim) * epsilon"
   ]
  },
  {
   "cell_type": "markdown",
   "metadata": {},
   "source": [
    "## реализация из задания"
   ]
  },
  {
   "cell_type": "code",
   "execution_count": 169,
   "metadata": {
    "ExecuteTime": {
     "end_time": "2021-12-03T18:52:01.762114Z",
     "start_time": "2021-12-03T18:52:01.745148Z"
    }
   },
   "outputs": [],
   "source": [
    "import sys"
   ]
  },
  {
   "cell_type": "code",
   "execution_count": 189,
   "metadata": {
    "ExecuteTime": {
     "end_time": "2021-12-03T18:58:02.355823Z",
     "start_time": "2021-12-03T18:58:02.340887Z"
    }
   },
   "outputs": [
    {
     "name": "stdout",
     "output_type": "stream",
     "text": [
      "size: 312\n",
      "[[1. 1. 0. 1. 0.]\n",
      " [1. 1. 1. 0. 1.]\n",
      " [0. 1. 1. 1. 0.]\n",
      " [1. 0. 1. 1. 1.]\n",
      " [0. 1. 0. 1. 1.]]\n",
      "[0.2 0.4 0.2 0.4 0.2]\n"
     ]
    }
   ],
   "source": [
    "dim = 5\n",
    "m = 3\n",
    "\n",
    "A = eye_band_matrix([0, -1, 1, -m, m], (dim, dim))\n",
    "\n",
    "b = np.ones(dim)\n",
    "x = scipy.linalg.solve(A, b)\n",
    "\n",
    "print(\"size:\", sys.getsizeof(A))\n",
    "print(A)\n",
    "print(np.round(x, 10))"
   ]
  },
  {
   "cell_type": "code",
   "execution_count": 183,
   "metadata": {
    "ExecuteTime": {
     "end_time": "2021-12-03T18:55:30.008458Z",
     "start_time": "2021-12-03T18:55:29.998403Z"
    }
   },
   "outputs": [
    {
     "name": "stdout",
     "output_type": "stream",
     "text": [
      "size: 312\n",
      "[[1. 1. 0. 1. 0.]\n",
      " [1. 1. 1. 0. 1.]\n",
      " [0. 1. 1. 1. 0.]\n",
      " [1. 0. 1. 1. 1.]\n",
      " [0. 1. 0. 1. 1.]]\n",
      "[0.2 0.4 0.2 0.4 0.2]\n"
     ]
    }
   ],
   "source": [
    "dim = 5\n",
    "m = 3\n",
    "\n",
    "Ap, As, An, Aw, Ae = np.ones(dim), np.ones(dim), np.ones(dim), np.ones(dim), np.ones(dim)\n",
    "diagonals = [Ap, As, An, Aw, Ae]\n",
    "# если подставить вместо Ap, As, ... нужные вектора -- получим на выходе нужную матрицу\n",
    "\n",
    "A = scipy.sparse.diags(diagonals, [0, -1, 1, -m, m]).toarray()\n",
    "\n",
    "b = np.ones(dim)\n",
    "x = scipy.linalg.solve(A, b)\n",
    "\n",
    "print(\"size:\", sys.getsizeof(A))\n",
    "print(A)\n",
    "print(np.round(x, 10))"
   ]
  },
  {
   "cell_type": "code",
   "execution_count": 200,
   "metadata": {
    "ExecuteTime": {
     "end_time": "2021-12-03T19:06:12.947486Z",
     "start_time": "2021-12-03T19:06:12.936528Z"
    }
   },
   "outputs": [
    {
     "name": "stdout",
     "output_type": "stream",
     "text": [
      "size: 392\n",
      "[0.2 0.4 0.2 0.4 0.2]\n"
     ]
    }
   ],
   "source": [
    "dim = 5\n",
    "m = 3\n",
    "\n",
    "Ap, As, An, Aw, Ae = np.ones(dim), np.ones(dim), np.ones(dim), np.ones(dim), np.ones(dim)\n",
    "A = np.zeros((2 * m + 1, dim))\n",
    "\n",
    "A[0] = Ae\n",
    "A[m - 1] = An\n",
    "A[m] = Ap\n",
    "A[m + 1] = As\n",
    "A[2 * m] = Aw\n",
    "\n",
    "b = np.ones(dim)\n",
    "x = scipy.linalg.solve_banded((m, m), A, b)\n",
    "\n",
    "print(\"size:\", sys.getsizeof(A))\n",
    "print(np.round(x, 10))"
   ]
  },
  {
   "cell_type": "code",
   "execution_count": 182,
   "metadata": {
    "ExecuteTime": {
     "end_time": "2021-12-03T18:54:13.677356Z",
     "start_time": "2021-12-03T18:54:13.670378Z"
    }
   },
   "outputs": [
    {
     "name": "stdout",
     "output_type": "stream",
     "text": [
      "size: 56\n",
      "[0.2 0.4 0.2 0.4 0.2]\n"
     ]
    }
   ],
   "source": [
    "dim = 5\n",
    "m = 3\n",
    "\n",
    "Ap, As, An, Aw, Ae = np.ones(dim), np.ones(dim), np.ones(dim), np.ones(dim), np.ones(dim)\n",
    "diagonals = [Ap, As, An, Aw, Ae]\n",
    "\n",
    "A = scipy.sparse.diags(diagonals, [0, -1, 1, -m, m])\n",
    "x = spsolve(A,b)\n",
    "\n",
    "print(\"size:\", sys.getsizeof(A))\n",
    "print(np.round(x, 10))"
   ]
  },
  {
   "cell_type": "markdown",
   "metadata": {},
   "source": [
    "### Функции"
   ]
  },
  {
   "cell_type": "code",
   "execution_count": 190,
   "metadata": {
    "ExecuteTime": {
     "end_time": "2021-12-03T19:00:14.555415Z",
     "start_time": "2021-12-03T19:00:14.542450Z"
    }
   },
   "outputs": [],
   "source": [
    "dim = 5\n",
    "m = 3\n",
    "\n",
    "Ap, As, An, Aw, Ae = np.ones(dim), np.ones(dim), np.ones(dim), np.ones(dim), np.ones(dim)\n",
    "diagonals = [Ap, As, An, Aw, Ae]\n",
    "# если подставить вместо Ap, As, ... нужные вектора -- получим на выходе нужную матрицу\n",
    "\n",
    "A = scipy.sparse.diags(diagonals, [0, -1, 1, -m, m]).toarray()\n",
    "\n",
    "b = np.ones(dim)\n",
    "x = scipy.linalg.solve(A, b)"
   ]
  },
  {
   "cell_type": "code",
   "execution_count": 426,
   "metadata": {
    "ExecuteTime": {
     "end_time": "2021-12-03T20:22:08.985735Z",
     "start_time": "2021-12-03T20:22:08.972796Z"
    }
   },
   "outputs": [],
   "source": [
    "def get_band_matrix_v1(diagonals, shifts):\n",
    "    return scipy.sparse.diags(diagonals, [0, -1, 1, -m, m]).toarray()\n",
    "\n",
    "\n",
    "# v2 -- не генрация ленточной матриц, а подготовка к solve_banded\n",
    "def get_band_matrix_v2(diagonals, shifts):\n",
    "    Ap, As, An, Aw, Ae = diagonals\n",
    "    \n",
    "    dim = diagonals[0].shape[0]\n",
    "    m = np.max(np.abs(shifts))\n",
    "    A = np.zeros((2 * m + 1, dim))\n",
    "\n",
    "    for i in range(len(shifts)):\n",
    "        ind = m - shifts[i]\n",
    "        A[ind] = diagonals[i]\n",
    "\n",
    "    return A\n",
    "\n",
    "\n",
    "def get_band_matrix_v3(diagonals, shifts):\n",
    "    return scipy.sparse.diags(diagonals, [0, -1, 1, -m, m])"
   ]
  },
  {
   "cell_type": "code",
   "execution_count": 428,
   "metadata": {
    "ExecuteTime": {
     "end_time": "2021-12-03T20:22:52.127695Z",
     "start_time": "2021-12-03T20:22:52.122710Z"
    }
   },
   "outputs": [],
   "source": [
    "def get_time(f):\n",
    "    \n",
    "     def wrap_f(*args):\n",
    "        start = time.time()\n",
    "        output = f(*args)\n",
    "        t = time.time() - start\n",
    " \n",
    "        return t\n",
    "#         return output\n",
    "\n",
    "     return wrap_f"
   ]
  },
  {
   "cell_type": "code",
   "execution_count": 429,
   "metadata": {
    "ExecuteTime": {
     "end_time": "2021-12-03T20:22:53.607789Z",
     "start_time": "2021-12-03T20:22:53.588864Z"
    }
   },
   "outputs": [],
   "source": [
    "@get_time\n",
    "def get_band_sol_v1(A, b):\n",
    "    return scipy.linalg.solve(A, b)\n",
    "\n",
    "@get_time\n",
    "def get_band_sol_v2(A, b):\n",
    "#     m = np.int((A.shape[0]-1)/2)\n",
    "    m = 3\n",
    "    return scipy.linalg.solve_banded((m, m), A, b)\n",
    "\n",
    "@get_time\n",
    "def get_band_sol_v3(A, b):\n",
    "    return spsolve(A,b)\n",
    "\n",
    "@get_time\n",
    "def get_band_sol_v4(A, b):\n",
    "    return scipy.sparse.linalg.splu(A).solve(b)"
   ]
  },
  {
   "cell_type": "code",
   "execution_count": 433,
   "metadata": {
    "ExecuteTime": {
     "end_time": "2021-12-03T20:23:11.652011Z",
     "start_time": "2021-12-03T20:23:11.603124Z"
    }
   },
   "outputs": [
    {
     "name": "stdout",
     "output_type": "stream",
     "text": [
      "0.02593207359313965\n",
      "0.0\n",
      "0.0009968280792236328\n",
      "0.0009980201721191406\n"
     ]
    }
   ],
   "source": [
    "# проверка функций\n",
    "shifts = [0, -1, 1, -3, 3]\n",
    "dim = 1000\n",
    "\n",
    "diagonals = np.ones((5, dim))\n",
    "b = np.ones(dim)\n",
    "A1 = get_band_matrix_v1(diagonals, shifts)\n",
    "A2 = get_band_matrix_v2(diagonals, shifts)\n",
    "A3 = get_band_matrix_v3(diagonals, shifts)\n",
    "\n",
    "print(get_band_sol_v1(A1, b))\n",
    "print(get_band_sol_v2(A2, b))\n",
    "print(get_band_sol_v3(A3, b))\n",
    "print(get_band_sol_v4(A3, b))"
   ]
  },
  {
   "cell_type": "markdown",
   "metadata": {},
   "source": [
    "### Смотрим на размер"
   ]
  },
  {
   "cell_type": "code",
   "execution_count": 435,
   "metadata": {
    "ExecuteTime": {
     "end_time": "2021-12-03T20:24:04.676633Z",
     "start_time": "2021-12-03T20:24:04.618383Z"
    }
   },
   "outputs": [],
   "source": [
    "shifts = [0, -1, 1, -3, 3]\n",
    "dims = range(100, 500, 10)\n",
    "\n",
    "sizes = []\n",
    "\n",
    "for dim in dims:\n",
    "    diagonals = np.ones((5, dim))\n",
    "    b = np.ones(dim)\n",
    "    \n",
    "    A1 = get_band_matrix_v1(diagonals, shifts)\n",
    "    A2 = get_band_matrix_v2(diagonals, shifts)\n",
    "    A3 = get_band_matrix_v3(diagonals, shifts)\n",
    "    A4 = scipy.sparse.linalg.splu(A3)\n",
    "    \n",
    "    sizes.append([sys.getsizeof(A1), sys.getsizeof(A2), sys.getsizeof(A3), sys.getsizeof(A4)])"
   ]
  },
  {
   "cell_type": "code",
   "execution_count": 437,
   "metadata": {
    "ExecuteTime": {
     "end_time": "2021-12-03T20:24:22.354870Z",
     "start_time": "2021-12-03T20:24:21.882017Z"
    }
   },
   "outputs": [
    {
     "data": {
      "image/png": "[encoded data removed]",
      "text/plain": [
       "<Figure size 432x288 with 1 Axes>"
      ]
     },
     "metadata": {
      "needs_background": "light"
     },
     "output_type": "display_data"
    }
   ],
   "source": [
    "sizes = np.array(sizes)\n",
    "plt.plot(sizes[:, 0], label=\"1\")\n",
    "plt.plot(sizes[:, 1], label=\"2\")\n",
    "plt.plot(sizes[:, 2], label=\"3\")\n",
    "plt.plot(sizes[:, 3], label=\"4\")\n",
    "plt.legend()\n",
    "plt.yscale(\"log\")\n",
    "plt.title(\"Размер A, то есть input для solver\")\n",
    "plt.xscale(\"log\")\n",
    "plt.show()"
   ]
  },
  {
   "cell_type": "markdown",
   "metadata": {},
   "source": [
    "### Смотрим на время"
   ]
  },
  {
   "cell_type": "code",
   "execution_count": 371,
   "metadata": {
    "ExecuteTime": {
     "end_time": "2021-12-03T20:07:04.674221Z",
     "start_time": "2021-12-03T20:06:37.655428Z"
    }
   },
   "outputs": [],
   "source": [
    "shifts = [0, -1, 1, -3, 3]\n",
    "dims1 = range(500, 1500, 10)\n",
    "rep = 10\n",
    "\n",
    "times1 = []\n",
    "\n",
    "for dim in dims1:\n",
    "    diagonals = np.ones((5, dim))\n",
    "    b = np.ones(dim)\n",
    "    \n",
    "    t1 = 0\n",
    "    for _ in range(rep):\n",
    "        A1 = get_band_matrix_v1(diagonals, shifts)\n",
    "        t1 += get_band_sol_v1(A1, b)/rep\n",
    "    times1.append(t1)"
   ]
  },
  {
   "cell_type": "code",
   "execution_count": 375,
   "metadata": {
    "ExecuteTime": {
     "end_time": "2021-12-03T20:07:53.380703Z",
     "start_time": "2021-12-03T20:07:29.737469Z"
    }
   },
   "outputs": [],
   "source": [
    "shifts = [0, -1, 1, -3, 3]\n",
    "dims2 = range(500, 1500, 10)\n",
    "rep = 1000\n",
    "\n",
    "times2 = []\n",
    "\n",
    "for dim in dims2:\n",
    "    diagonals = np.ones((5, dim))\n",
    "    b = np.ones(dim)\n",
    "    \n",
    "    t2 = 0\n",
    "    for _ in range(rep):\n",
    "        A2 = get_band_matrix_v2(diagonals, shifts)\n",
    "        t2 += get_band_sol_v2(A2, b)/rep\n",
    "    times2.append(t2)"
   ]
  },
  {
   "cell_type": "code",
   "execution_count": 405,
   "metadata": {
    "ExecuteTime": {
     "end_time": "2021-12-03T20:16:19.329930Z",
     "start_time": "2021-12-03T20:16:00.622674Z"
    }
   },
   "outputs": [
    {
     "name": "stderr",
     "output_type": "stream",
     "text": [
      "D:\\Apps\\Anaconda\\envs\\TF21\\lib\\site-packages\\scipy\\sparse\\linalg\\dsolve\\linsolve.py:133: SparseEfficiencyWarning: spsolve requires A be CSC or CSR matrix format\n",
      "  SparseEfficiencyWarning)\n"
     ]
    }
   ],
   "source": [
    "shifts = [0, -1, 1, -3, 3]\n",
    "dims3 = range(500, 1500, 10)\n",
    "rep = 200\n",
    "\n",
    "times3 = []\n",
    "\n",
    "for dim in dims3:\n",
    "    diagonals = np.ones((5, dim))\n",
    "    b = np.ones(dim)\n",
    "    \n",
    "    t3 = 0\n",
    "    for _ in range(rep):\n",
    "        A3 = get_band_matrix_v3(diagonals, shifts)\n",
    "        t3 += get_band_sol_v3(A3, b)/rep\n",
    "    times3.append(t3)"
   ]
  },
  {
   "cell_type": "code",
   "execution_count": 438,
   "metadata": {
    "ExecuteTime": {
     "end_time": "2021-12-03T20:25:31.113303Z",
     "start_time": "2021-12-03T20:25:12.347131Z"
    }
   },
   "outputs": [
    {
     "name": "stderr",
     "output_type": "stream",
     "text": [
      "D:\\Apps\\Anaconda\\envs\\TF21\\lib\\site-packages\\scipy\\sparse\\linalg\\dsolve\\linsolve.py:296: SparseEfficiencyWarning: splu requires CSC matrix format\n",
      "  warn('splu requires CSC matrix format', SparseEfficiencyWarning)\n"
     ]
    }
   ],
   "source": [
    "shifts = [0, -1, 1, -3, 3]\n",
    "dims4 = range(500, 1500, 10)\n",
    "rep = 200\n",
    "\n",
    "times4 = []\n",
    "\n",
    "for dim in dims3:\n",
    "    diagonals = np.ones((5, dim))\n",
    "    b = np.ones(dim)\n",
    "    \n",
    "    t4 = 0\n",
    "    for _ in range(rep):\n",
    "        A3 = get_band_matrix_v3(diagonals, shifts)\n",
    "        t4 += get_band_sol_v4(A3, b)/rep\n",
    "    times4.append(t4)"
   ]
  },
  {
   "cell_type": "code",
   "execution_count": 442,
   "metadata": {
    "ExecuteTime": {
     "end_time": "2021-12-03T20:26:32.875174Z",
     "start_time": "2021-12-03T20:26:32.531088Z"
    }
   },
   "outputs": [
    {
     "data": {
      "image/png": "[encoded data removed]",
      "text/plain": [
       "<Figure size 600x400 with 1 Axes>"
      ]
     },
     "metadata": {
      "needs_background": "light"
     },
     "output_type": "display_data"
    }
   ],
   "source": [
    "times1 = np.array(times1)\n",
    "times2 = np.array(times2)\n",
    "times3 = np.array(times3)\n",
    "times4 = np.array(times4)\n",
    "\n",
    "fig, ax = plt.subplots(dpi=100)\n",
    "plt.plot(dims1, 1000 * times1, label=\"v1 time\", color=\"red\")\n",
    "plt.plot(dims2, 1000 * times2, label=\"v2 time\", color=\"blue\")\n",
    "plt.plot(dims3, 1000 * times3, label=\"v3 time\", color=\"purple\")\n",
    "plt.plot(dims4, 1000 * times4, \"--\", label=\"v4 time\", color=\"green\")\n",
    "\n",
    "plt.xlabel(\"dim\")\n",
    "plt.ylabel(\"time, ms\")\n",
    "plt.yscale(\"log\")\n",
    "# plt.xscale(\"log\")\n",
    "plt.legend()\n",
    "ax.minorticks_on()\n",
    "ax.grid(b=True, which='major', color='k', linestyle='-', alpha=0.2)\n",
    "ax.grid(b=True, which='minor', color='k', linestyle='--', alpha=0.1)\n",
    "plt.show()"
   ]
  },
  {
   "cell_type": "markdown",
   "metadata": {
    "ExecuteTime": {
     "end_time": "2021-12-03T20:17:46.989133Z",
     "start_time": "2021-12-03T20:17:46.983150Z"
    }
   },
   "source": [
    "Выход третьего метода не подходит в таком виде для spsolve, надо бы как-то перейти к CSC или CSR формату."
   ]
  },
  {
   "cell_type": "markdown",
   "metadata": {},
   "source": [
    "# Задача 2"
   ]
  },
  {
   "cell_type": "markdown",
   "metadata": {},
   "source": [
    "см. задачу 1, v4."
   ]
  },
  {
   "cell_type": "markdown",
   "metadata": {},
   "source": [
    "# Задача 3"
   ]
  },
  {
   "cell_type": "markdown",
   "metadata": {},
   "source": [
    "см. .pdf файл."
   ]
  },
  {
   "cell_type": "markdown",
   "metadata": {
    "heading_collapsed": true
   },
   "source": [
    "# Задача 4"
   ]
  },
  {
   "cell_type": "markdown",
   "metadata": {
    "hidden": true
   },
   "source": [
    "теор. часть см. в [pdf-файл](https://github.com/k1242/notes_5sem/blob/main/comp_math/theory_hw/comp_math_hw.pdf) с заданием"
   ]
  },
  {
   "cell_type": "markdown",
   "metadata": {
    "heading_collapsed": true,
    "hidden": true
   },
   "source": [
    "## метод гаусса"
   ]
  },
  {
   "cell_type": "markdown",
   "metadata": {
    "hidden": true
   },
   "source": [
    "Возьмем реализацию из B1."
   ]
  },
  {
   "cell_type": "code",
   "execution_count": 443,
   "metadata": {
    "ExecuteTime": {
     "end_time": "2021-12-03T21:34:08.500605Z",
     "start_time": "2021-12-03T21:34:08.492626Z"
    },
    "hidden": true
   },
   "outputs": [],
   "source": [
    "def gauss2ladder(M):\n",
    "    M = M.astype(\"float64\")\n",
    "    n, m = M.shape\n",
    "    step = 0\n",
    "    shift = 0\n",
    "\n",
    "    for i in range(m):\n",
    "        # берем максимальный элемент\n",
    "        if step < n:\n",
    "            i_mnz = step+np.argmax(np.abs(M[step:, step+shift]))\n",
    "        else: continue\n",
    "\n",
    "#         print(i_mnz)\n",
    "    \n",
    "        if M[:, step+shift][i_mnz] != 0:\n",
    "            M[[step, i_mnz]] = M[[i_mnz, step]]\n",
    "        else:\n",
    "            shift += 1\n",
    "            continue\n",
    "        \n",
    "#         print(np.round(M, 2))\n",
    "\n",
    "        for j in range(step + 1, n):\n",
    "            M[j] -=  M[step] / M[step, i] * M[j, i]\n",
    "        step += 1\n",
    "        \n",
    "#         print(np.round(M, 2), end=\"\\n\\n\")\n",
    "\n",
    "    return M"
   ]
  },
  {
   "cell_type": "code",
   "execution_count": 446,
   "metadata": {
    "ExecuteTime": {
     "end_time": "2021-12-03T21:34:50.102578Z",
     "start_time": "2021-12-03T21:34:50.093603Z"
    },
    "hidden": true
   },
   "outputs": [],
   "source": [
    "def get_rang(M):\n",
    "    rang = np.sum(np.abs(gauss2ladder(M)), 1).nonzero()[0].shape[0]\n",
    "    return rang"
   ]
  },
  {
   "cell_type": "code",
   "execution_count": 444,
   "metadata": {
    "ExecuteTime": {
     "end_time": "2021-12-03T21:34:09.593664Z",
     "start_time": "2021-12-03T21:34:09.573717Z"
    },
    "hidden": true
   },
   "outputs": [],
   "source": [
    "def get_gauss_sol(M, f):\n",
    "    M = M.astype(\"float64\")\n",
    "    f = f.astype(\"float64\")\n",
    "    \n",
    "    f = f.reshape(1, -1)\n",
    "    n = f.shape[1]\n",
    "    \n",
    "    x = np.zeros(n)\n",
    "    \n",
    "    if get_rang(M) != n:\n",
    "        return \"err: вырожденная матрица\"\n",
    "    \n",
    "    Mf = np.concatenate((M, f.reshape(n, 1)), axis=1)\n",
    "    Mf = gauss2ladder(Mf)\n",
    "    \n",
    "    for i in range(n-1, -1, -1):\n",
    "        tmp = 0.\n",
    "        \n",
    "        for j in range(i + 1, n):\n",
    "            tmp += x[j] * Mf[i, j]\n",
    "    \n",
    "        x[i] = (Mf[i, n] - tmp) / Mf[i, i]\n",
    "    return x"
   ]
  },
  {
   "cell_type": "code",
   "execution_count": 447,
   "metadata": {
    "ExecuteTime": {
     "end_time": "2021-12-03T21:34:51.263275Z",
     "start_time": "2021-12-03T21:34:51.248340Z"
    },
    "hidden": true
   },
   "outputs": [
    {
     "name": "stdout",
     "output_type": "stream",
     "text": [
      "ans:   [ 0.45  -0.125  0.2  ]\n",
      "M@ans: [1. 2. 4.]\n"
     ]
    }
   ],
   "source": [
    "M = np.array(\n",
    "    [[1, 2, 4],\n",
    "     [4, 0 ,1],\n",
    "     [5, 2, 10]]);\n",
    "f = np.array([1, 2, 4]);\n",
    "\n",
    "ans = get_gauss_sol(M, f)\n",
    "print(\"ans:  \", ans)\n",
    "print(\"M@ans:\", M@ans)"
   ]
  },
  {
   "cell_type": "markdown",
   "metadata": {
    "hidden": true
   },
   "source": [
    "## метод вращений"
   ]
  },
  {
   "cell_type": "markdown",
   "metadata": {
    "hidden": true
   },
   "source": [
    "см. https://github.com/danbar/qr_decomposition"
   ]
  },
  {
   "cell_type": "code",
   "execution_count": 502,
   "metadata": {
    "ExecuteTime": {
     "end_time": "2021-12-03T22:04:23.660431Z",
     "start_time": "2021-12-03T22:04:23.645801Z"
    },
    "hidden": true
   },
   "outputs": [],
   "source": [
    "from math import copysign, hypot\n",
    "\n",
    "import numpy as np\n",
    "\n",
    "\n",
    "def gram_schmidt_process(A):\n",
    "    \"\"\"Perform QR decomposition of matrix A using Gram-Schmidt process.\"\"\"\n",
    "    (num_rows, num_cols) = np.shape(A)\n",
    "\n",
    "    # Initialize empty orthogonal matrix Q.\n",
    "    Q = np.empty([num_rows, num_rows])\n",
    "    cnt = 0\n",
    "\n",
    "    # Compute orthogonal matrix Q.\n",
    "    for a in A.T:\n",
    "        u = np.copy(a)\n",
    "        for i in range(0, cnt):\n",
    "            proj = np.dot(np.dot(Q[:, i].T, a), Q[:, i])\n",
    "            u -= proj\n",
    "\n",
    "        e = u / np.linalg.norm(u)\n",
    "        Q[:, cnt] = e\n",
    "\n",
    "        cnt += 1  # Increase columns counter.\n",
    "\n",
    "    # Compute upper triangular matrix R.\n",
    "    R = np.dot(Q.T, A)\n",
    "\n",
    "    return (Q, R)\n",
    "\n",
    "\n",
    "def householder_reflection(A):\n",
    "    \"\"\"Perform QR decomposition of matrix A using Householder reflection.\"\"\"\n",
    "    (num_rows, num_cols) = np.shape(A)\n",
    "\n",
    "    # Initialize orthogonal matrix Q and upper triangular matrix R.\n",
    "    Q = np.identity(num_rows)\n",
    "    R = np.copy(A)\n",
    "\n",
    "    # Iterative over column sub-vector and\n",
    "    # compute Householder matrix to zero-out lower triangular matrix entries.\n",
    "    for cnt in range(num_rows - 1):\n",
    "        x = R[cnt:, cnt]\n",
    "\n",
    "        e = np.zeros_like(x)\n",
    "        e[0] = copysign(np.linalg.norm(x), -A[cnt, cnt])\n",
    "        u = x + e\n",
    "        v = u / np.linalg.norm(u)\n",
    "\n",
    "        Q_cnt = np.identity(num_rows)\n",
    "        Q_cnt[cnt:, cnt:] -= 2.0 * np.outer(v, v)\n",
    "\n",
    "        R = np.dot(Q_cnt, R)\n",
    "        Q = np.dot(Q, Q_cnt.T)\n",
    "\n",
    "    return (Q, R)\n",
    "\n",
    "\n",
    "def givens_rotation(A):\n",
    "    \"\"\"Perform QR decomposition of matrix A using Givens rotation.\"\"\"\n",
    "    (num_rows, num_cols) = np.shape(A)\n",
    "\n",
    "    # Initialize orthogonal matrix Q and upper triangular matrix R.\n",
    "    Q = np.identity(num_rows)\n",
    "    R = np.copy(A)\n",
    "\n",
    "    # Iterate over lower triangular matrix.\n",
    "    (rows, cols) = np.tril_indices(num_rows, -1, num_cols)\n",
    "    for (row, col) in zip(rows, cols):\n",
    "\n",
    "        # Compute Givens rotation matrix and\n",
    "        # zero-out lower triangular matrix entries.\n",
    "        if R[row, col] != 0:\n",
    "            (c, s) = _givens_rotation_matrix_entries(R[col, col], R[row, col])\n",
    "\n",
    "            G = np.identity(num_rows)\n",
    "            G[[col, row], [col, row]] = c\n",
    "            G[row, col] = s\n",
    "            G[col, row] = -s\n",
    "\n",
    "            R = np.dot(G, R)\n",
    "            Q = np.dot(Q, G.T)\n",
    "\n",
    "    return (Q, R)\n",
    "\n",
    "\n",
    "def givens_rotation_matrix_entries(a, b):\n",
    "    \"\"\"Compute matrix entries for Givens rotation.\"\"\"\n",
    "    r = hypot(a, b)\n",
    "    c = a/r\n",
    "    s = -b/r\n",
    "\n",
    "    return (c, s)"
   ]
  },
  {
   "cell_type": "code",
   "execution_count": 504,
   "metadata": {
    "ExecuteTime": {
     "end_time": "2021-12-03T22:04:35.973717Z",
     "start_time": "2021-12-03T22:04:35.960729Z"
    },
    "hidden": true
   },
   "outputs": [
    {
     "name": "stdout",
     "output_type": "stream",
     "text": [
      "[[6 5 0]\n",
      " [5 1 4]\n",
      " [0 4 3]]\n",
      "[[ 7.8102  4.4813  2.5607]\n",
      " [ 0.      4.6817  0.9664]\n",
      " [ 0.      0.     -4.1843]]\n"
     ]
    }
   ],
   "source": [
    "# Set print options (optional)\n",
    "np.set_printoptions(precision=4, suppress=True)\n",
    "\n",
    "# Input matrix\n",
    "A = np.array([[6, 5, 0],\n",
    "              [5, 1, 4],\n",
    "              [0, 4, 3]])\n",
    "\n",
    "# Print input matrix\n",
    "print(A)\n",
    "\n",
    "# Compute QR decomposition using Givens rotation\n",
    "(Q, R) = givens_rotation(A)\n",
    "\n",
    "# Print upper triangular matrix R\n",
    "print(R)"
   ]
  },
  {
   "cell_type": "code",
   "execution_count": 505,
   "metadata": {
    "ExecuteTime": {
     "end_time": "2021-12-03T22:04:48.841310Z",
     "start_time": "2021-12-03T22:04:48.826350Z"
    },
    "hidden": true
   },
   "outputs": [],
   "source": [
    "# givens_rotation"
   ]
  },
  {
   "cell_type": "markdown",
   "metadata": {
    "hidden": true
   },
   "source": [
    "## Сравнение"
   ]
  },
  {
   "cell_type": "markdown",
   "metadata": {
    "hidden": true
   },
   "source": [
    "Можно было бы организовать обратный метод Гаусса, но логичнее сравнить время работы приведения к верхнетреугольному виду матриц двумя методами."
   ]
  },
  {
   "cell_type": "code",
   "execution_count": 518,
   "metadata": {
    "ExecuteTime": {
     "end_time": "2021-12-03T22:08:23.937544Z",
     "start_time": "2021-12-03T22:08:23.920193Z"
    },
    "hidden": true
   },
   "outputs": [],
   "source": [
    "@get_time\n",
    "def get_givens_time(M):\n",
    "    return givens_rotation(M)\n",
    "\n",
    "@get_time\n",
    "def get_gauss_time(M):\n",
    "    return gauss2ladder(M)"
   ]
  },
  {
   "cell_type": "code",
   "execution_count": 520,
   "metadata": {
    "ExecuteTime": {
     "end_time": "2021-12-03T22:08:35.824897Z",
     "start_time": "2021-12-03T22:08:34.624802Z"
    },
    "hidden": true
   },
   "outputs": [
    {
     "name": "stdout",
     "output_type": "stream",
     "text": [
      "0.02692723274230957\n",
      "1.1610305309295654\n"
     ]
    }
   ],
   "source": [
    "dim = 100;\n",
    "M = np.random.random((dim, dim));\n",
    "t_gauss = get_gauss_time(M);\n",
    "t_givens = get_givens_time(M);\n",
    "print(t_gauss)\n",
    "print(t_givens)"
   ]
  },
  {
   "cell_type": "code",
   "execution_count": 524,
   "metadata": {
    "ExecuteTime": {
     "end_time": "2021-12-03T22:11:00.495081Z",
     "start_time": "2021-12-03T22:10:07.385251Z"
    },
    "hidden": true
   },
   "outputs": [],
   "source": [
    "dims = range(10, 100, 5);\n",
    "rep = 10;\n",
    "\n",
    "ts = [];\n",
    "for dim in dims:\n",
    "    t1, t2 = 0, 0;\n",
    "    for _ in range(rep):\n",
    "        M = np.random.random((dim, dim))\n",
    "        t1 += get_gauss_time(M)/rep;\n",
    "        t2 += get_givens_time(M)/rep;\n",
    "    ts.append([t1, t2])"
   ]
  },
  {
   "cell_type": "code",
   "execution_count": 525,
   "metadata": {
    "ExecuteTime": {
     "end_time": "2021-12-03T22:11:24.943321Z",
     "start_time": "2021-12-03T22:11:24.818717Z"
    },
    "hidden": true
   },
   "outputs": [
    {
     "data": {
      "image/png": "[encoded data removed]",
      "text/plain": [
       "<Figure size 432x288 with 1 Axes>"
      ]
     },
     "metadata": {
      "needs_background": "light"
     },
     "output_type": "display_data"
    }
   ],
   "source": [
    "ts = np.array(ts)\n",
    "plt.plot(ts[:, 0], label=\"gauss\")\n",
    "plt.plot(ts[:, 1], label=\"givens\")\n",
    "plt.legend()\n",
    "plt.show()"
   ]
  },
  {
   "cell_type": "markdown",
   "metadata": {},
   "source": [
    "# Задача 5"
   ]
  },
  {
   "cell_type": "markdown",
   "metadata": {
    "ExecuteTime": {
     "end_time": "2021-12-04T16:13:38.261413Z",
     "start_time": "2021-12-04T16:13:38.250441Z"
    }
   },
   "source": [
    "см. задачу 6, в B4."
   ]
  },
  {
   "cell_type": "code",
   "execution_count": 527,
   "metadata": {
    "ExecuteTime": {
     "end_time": "2021-12-04T17:31:35.873931Z",
     "start_time": "2021-12-04T17:31:35.867977Z"
    }
   },
   "outputs": [],
   "source": [
    "def get_mpi_Rb(M, f, tau):\n",
    "    R = np.eye(M.shape[0]) - tau * M\n",
    "    b = tau * f\n",
    "    return R, b"
   ]
  },
  {
   "cell_type": "code",
   "execution_count": 579,
   "metadata": {
    "ExecuteTime": {
     "end_time": "2021-12-04T18:21:07.914738Z",
     "start_time": "2021-12-04T18:21:07.904798Z"
    }
   },
   "outputs": [],
   "source": [
    "@get_time\n",
    "def mpi_solve(M, f, tau, eps, flag=False):\n",
    "    R, b = get_mpi_Rb(M, f, tau)\n",
    "\n",
    "    x = np.random.random(M.shape[0])\n",
    "    step = 0\n",
    "    while (np.linalg.norm(M @ x - f) > eps):\n",
    "        step += 1\n",
    "        if np.linalg.norm(x) > 1e3 or step > 1e4:\n",
    "#             print(\"метод простой итерации расходится: z={:.2f} ~ 1\\nstep: {}\".format(\n",
    "#                 check_jacobi_converg(M), step))\n",
    "            if flag: return x, -10\n",
    "            else: return x\n",
    "            break\n",
    "\n",
    "        x = R@x + b\n",
    "\n",
    "    if flag:\n",
    "        return x, step\n",
    "    else:\n",
    "        return x"
   ]
  },
  {
   "cell_type": "code",
   "execution_count": 530,
   "metadata": {
    "ExecuteTime": {
     "end_time": "2021-12-04T17:32:54.323028Z",
     "start_time": "2021-12-04T17:32:54.313021Z"
    }
   },
   "outputs": [],
   "source": [
    "def сhebyshev_mpi_solve(M, f, tau, eps, flag=False):\n",
    "    R, b = get_mpi_Rb(M, f, tau)\n",
    "    rho = np.abs(R[0][0]) # R верхнетреугольная\n",
    "    \n",
    "    def do_step_0():\n",
    "        x0 = np.random.random(M.shape[0]);\n",
    "\n",
    "        y_b = x0;\n",
    "        y_ = R@y_b + b;\n",
    "\n",
    "        mu_  = rho\n",
    "        mu_b = 1\n",
    "\n",
    "        # завершение шага\n",
    "        y_bb = y_b\n",
    "        y_b  = y_\n",
    "\n",
    "        mu_bb = mu_b\n",
    "        mu_b  = mu_\n",
    "        \n",
    "        return y_bb, y_b, mu_bb, mu_b\n",
    "    \n",
    "    \n",
    "    def do_step(y_bb, y_b, mu_bb, mu_b):\n",
    "        mu_ = (2/rho/mu_b - 1/mu_bb)**(-1)\n",
    "\n",
    "        y_ = 2/rho * mu_/mu_b * R@y_b - \\\n",
    "            mu_/mu_bb * y_bb + \\\n",
    "            2/rho * mu_/mu_b * b\n",
    "\n",
    "        # завершение шага\n",
    "        y_bb = y_b\n",
    "        y_b  = y_\n",
    "\n",
    "        mu_bb = mu_b\n",
    "        mu_b  = mu_\n",
    "        return y_bb, y_b, mu_bb, mu_b\n",
    "    \n",
    "    \n",
    "    \n",
    "    y_bb, y_b, mu_bb, mu_b = do_step_0()\n",
    "    \n",
    "    step = 0\n",
    "    while (np.linalg.norm(M @ y_b - f) > eps):\n",
    "        step += 1\n",
    "        if np.linalg.norm(y_b) > 1e3 or step > 1e4 or np.isnan(y_b).any():\n",
    "#             print(\"ускоренный метод простой итерации расходится\")\n",
    "            if flag: return x, -10\n",
    "            else: return x\n",
    "            break\n",
    "            \n",
    "        y_bb, y_b, mu_bb, mu_b = do_step(y_bb, y_b, mu_bb, mu_b)\n",
    "\n",
    "    if flag:\n",
    "        return y_b, step\n",
    "    else:\n",
    "        return y_b"
   ]
  },
  {
   "cell_type": "code",
   "execution_count": 580,
   "metadata": {
    "ExecuteTime": {
     "end_time": "2021-12-04T18:22:39.514230Z",
     "start_time": "2021-12-04T18:21:11.167610Z"
    }
   },
   "outputs": [],
   "source": [
    "ns  = range(100, 1000, 10)\n",
    "tau = 0.1\n",
    "rep = 100\n",
    "\n",
    "times = []\n",
    "for n in ns:\n",
    "    t = 0\n",
    "    for _ in range(rep):\n",
    "        M = np.random.random((n, n))\n",
    "        M = M.T @ M\n",
    "        f = np.random.random(n)\n",
    "        \n",
    "        t += mpi_solve(M, f, tau, 1e-10) / rep\n",
    "    times.append(t)"
   ]
  },
  {
   "cell_type": "code",
   "execution_count": 581,
   "metadata": {
    "ExecuteTime": {
     "end_time": "2021-12-04T18:22:39.863110Z",
     "start_time": "2021-12-04T18:22:39.580027Z"
    }
   },
   "outputs": [
    {
     "data": {
      "image/png": "[encoded data removed]",
      "text/plain": [
       "<Figure size 600x400 with 1 Axes>"
      ]
     },
     "metadata": {
      "needs_background": "light"
     },
     "output_type": "display_data"
    }
   ],
   "source": [
    "start = 50\n",
    "end = len(times)\n",
    "\n",
    "x = np.array(ns[start:end])\n",
    "y = np.array(times[start:end])*1e3\n",
    "\n",
    "x = np.log10(x)\n",
    "y = np.log10(y)\n",
    "\n",
    "fig, ax = plt.subplots(dpi=100)\n",
    "coeff, cov = np.polyfit(x, y, 1, cov=True)\n",
    "plt.scatter(x, y, color=\"k\", s=5)\n",
    "plt.plot(x, np.poly1d(coeff)(x), \"--\", color=\"g\")\n",
    "plt.title(\"$y \\\\sim ${:.1f} $x + $const\".format(coeff[0]))\n",
    "ax.minorticks_on()\n",
    "ax.grid(b=True, which='major', color='k', linestyle='-', alpha=0.2)\n",
    "ax.grid(b=True, which='minor', color='k', linestyle='--', alpha=0.1)\n",
    "plt.xlabel(\"log n\")\n",
    "plt.ylabel(\"log t\")\n",
    "plt.show()"
   ]
  },
  {
   "cell_type": "markdown",
   "metadata": {},
   "source": [
    "То есть время работы при размерностях $n > 100$, порядка $O(n^2)$, как и было расчитано (см. пдф. файл)."
   ]
  },
  {
   "cell_type": "code",
   "execution_count": null,
   "metadata": {},
   "outputs": [],
   "source": []
  },
  {
   "cell_type": "code",
   "execution_count": null,
   "metadata": {},
   "outputs": [],
   "source": []
  },
  {
   "cell_type": "code",
   "execution_count": null,
   "metadata": {},
   "outputs": [],
   "source": []
  },
  {
   "cell_type": "code",
   "execution_count": null,
   "metadata": {},
   "outputs": [],
   "source": []
  }
 ],
 "metadata": {
  "kernelspec": {
   "display_name": "Python 3",
   "language": "python",
   "name": "python3"
  },
  "language_info": {
   "codemirror_mode": {
    "name": "ipython",
    "version": 3
   },
   "file_extension": ".py",
   "mimetype": "text/x-python",
   "name": "python",
   "nbconvert_exporter": "python",
   "pygments_lexer": "ipython3",
   "version": "3.7.4"
  },
  "latex_envs": {
   "LaTeX_envs_menu_present": true,
   "autoclose": false,
   "autocomplete": true,
   "bibliofile": "biblio.bib",
   "cite_by": "apalike",
   "current_citInitial": 1,
   "eqLabelWithNumbers": true,
   "eqNumInitial": 1,
   "hotkeys": {
    "equation": "Ctrl-E",
    "itemize": "Ctrl-I"
   },
   "labels_anchors": false,
   "latex_user_defs": false,
   "report_style_numbering": false,
   "user_envs_cfg": false
  },
  "toc": {
   "base_numbering": 1,
   "nav_menu": {},
   "number_sections": true,
   "sideBar": true,
   "skip_h1_title": false,
   "title_cell": "Table of Contents",
   "title_sidebar": "Contents",
   "toc_cell": false,
   "toc_position": {},
   "toc_section_display": true,
   "toc_window_display": false
  },
  "varInspector": {
   "cols": {
    "lenName": 16,
    "lenType": 16,
    "lenVar": 40
   },
   "kernels_config": {
    "python": {
     "delete_cmd_postfix": "",
     "delete_cmd_prefix": "del ",
     "library": "var_list.py",
     "varRefreshCmd": "print(var_dic_list())"
    },
    "r": {
     "delete_cmd_postfix": ") ",
     "delete_cmd_prefix": "rm(",
     "library": "var_list.r",
     "varRefreshCmd": "cat(var_dic_list()) "
    }
   },
   "types_to_exclude": [
    "module",
    "function",
    "builtin_function_or_method",
    "instance",
    "_Feature"
   ],
   "window_display": false
  }
 },
 "nbformat": 4,
 "nbformat_minor": 2
}
