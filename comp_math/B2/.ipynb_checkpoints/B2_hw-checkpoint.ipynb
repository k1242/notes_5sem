{
 "cells": [
  {
   "cell_type": "markdown",
   "metadata": {},
   "source": [
    "**Хоружий Кирилл, Б02-929, B2**"
   ]
  },
  {
   "cell_type": "code",
   "execution_count": 2,
   "metadata": {
    "ExecuteTime": {
     "end_time": "2021-11-30T19:11:54.297708Z",
     "start_time": "2021-11-30T19:11:52.414055Z"
    }
   },
   "outputs": [],
   "source": [
    "import pandas as pd\n",
    "import numpy as np\n",
    "import matplotlib.pyplot as plt"
   ]
  },
  {
   "cell_type": "markdown",
   "metadata": {},
   "source": [
    "# Задача 1*"
   ]
  },
  {
   "cell_type": "markdown",
   "metadata": {},
   "source": [
    "Подробна была у меня решена в №3, B1.\n",
    "Там же сравнение с аналитическими выражениями и проанализирована сходимость."
   ]
  },
  {
   "cell_type": "markdown",
   "metadata": {},
   "source": [
    "# Задача 2"
   ]
  },
  {
   "cell_type": "code",
   "execution_count": 119,
   "metadata": {
    "ExecuteTime": {
     "end_time": "2021-11-30T19:52:57.485922Z",
     "start_time": "2021-11-30T19:52:57.478965Z"
    }
   },
   "outputs": [
    {
     "data": {
      "text/plain": [
       "array([[0.77467205, 0.45172136, 0.72094734],\n",
       "       [0.6413334 , 0.57511709, 0.07207487],\n",
       "       [0.27554986, 0.4805229 , 0.15709196]])"
      ]
     },
     "execution_count": 119,
     "metadata": {},
     "output_type": "execute_result"
    }
   ],
   "source": [
    "M = np.random.random((3, 3))\n",
    "M"
   ]
  },
  {
   "cell_type": "code",
   "execution_count": 130,
   "metadata": {
    "ExecuteTime": {
     "end_time": "2021-11-30T19:55:16.084427Z",
     "start_time": "2021-11-30T19:55:16.077499Z"
    }
   },
   "outputs": [],
   "source": [
    "def get_L2(A):\n",
    "    return (np.max(np.linalg.eigvals(A.T @ A)))**0.5"
   ]
  },
  {
   "cell_type": "code",
   "execution_count": 126,
   "metadata": {
    "ExecuteTime": {
     "end_time": "2021-11-30T19:53:51.151820Z",
     "start_time": "2021-11-30T19:53:51.134754Z"
    }
   },
   "outputs": [],
   "source": [
    "def get_frobenius_norm(M):\n",
    "    u, s, vh = np.linalg.svd(M)\n",
    "    return np.sum(s ** 2) ** 0.5"
   ]
  },
  {
   "cell_type": "code",
   "execution_count": 129,
   "metadata": {
    "ExecuteTime": {
     "end_time": "2021-11-30T19:54:48.959842Z",
     "start_time": "2021-11-30T19:54:48.944884Z"
    }
   },
   "outputs": [
    {
     "name": "stdout",
     "output_type": "stream",
     "text": [
      "из коробки: 1.55007\n",
      "написанное: 1.55007\n"
     ]
    }
   ],
   "source": [
    "print(\"из коробки: {:.5f}\".format(np.linalg.norm(M, ord=\"fro\")))\n",
    "print(\"написанное: {:.5f}\".format(get_frobenius_norm(M)))"
   ]
  },
  {
   "cell_type": "code",
   "execution_count": 158,
   "metadata": {
    "ExecuteTime": {
     "end_time": "2021-11-30T20:05:05.098206Z",
     "start_time": "2021-11-30T20:05:04.039026Z"
    }
   },
   "outputs": [
    {
     "data": {
      "image/png": "[encoded data removed]",
      "text/plain": [
       "<Figure size 450x270 with 1 Axes>"
      ]
     },
     "metadata": {
      "needs_background": "light"
     },
     "output_type": "display_data"
    }
   ],
   "source": [
    "dim = 2\n",
    "rep = 100\n",
    "M = np.random.random((dim, dim))\n",
    "vals = np.zeros(3)\n",
    "for i in range(rep):\n",
    "    vals += np.array([1/np.sqrt(dim) * get_frobenius_norm(M), get_L2(M), get_frobenius_norm(M)])/rep\n",
    "\n",
    "for dim in range(3, 30):\n",
    "    M = np.random.random((dim, dim))\n",
    "    v = np.zeros(3)\n",
    "    for i in range(rep):\n",
    "        v += np.array([1/np.sqrt(dim) * get_frobenius_norm(M), get_L2(M), get_frobenius_norm(M)])/rep\n",
    "    vals = np.vstack([vals, v])\n",
    "\n",
    "x = [2] + list(range(3, 30))\n",
    "y1 = vals[:, 0]\n",
    "y2 = vals[:, 1]\n",
    "y3 = vals[:, 2]\n",
    "\n",
    "fig, ax = plt.subplots(dpi=90, figsize=(5, 3))\n",
    "\n",
    "plt.plot(x, y1, label=\"$\\|A\\|_F/\\\\sqrt{n}$\")\n",
    "plt.scatter(x, y1)\n",
    "plt.plot(x, y2, label=\"$\\|A\\|_2$\")\n",
    "plt.scatter(x, y2)\n",
    "plt.plot(x, y3, label=\"$\\|A\\|_F$\")\n",
    "plt.scatter(x, y3)\n",
    "plt.legend()\n",
    "plt.xlabel(\"dim\")\n",
    "plt.show()"
   ]
  },
  {
   "cell_type": "markdown",
   "metadata": {},
   "source": [
    "# Задача 3"
   ]
  },
  {
   "cell_type": "code",
   "execution_count": 211,
   "metadata": {
    "ExecuteTime": {
     "end_time": "2021-11-30T20:24:41.528811Z",
     "start_time": "2021-11-30T20:24:41.522798Z"
    }
   },
   "outputs": [
    {
     "data": {
      "text/plain": [
       "array([ 2.16589818, -1.36238493,  2.06346077])"
      ]
     },
     "execution_count": 211,
     "metadata": {},
     "output_type": "execute_result"
    }
   ],
   "source": [
    "dim = 3\n",
    "M = np.random.random((dim, dim))\n",
    "A = M.T @ M\n",
    "CH = np.linalg.cholesky(A)\n",
    "np.random.normal(1, 2, dim)"
   ]
  },
  {
   "cell_type": "code",
   "execution_count": 213,
   "metadata": {
    "ExecuteTime": {
     "end_time": "2021-11-30T20:24:44.604981Z",
     "start_time": "2021-11-30T20:24:44.596996Z"
    }
   },
   "outputs": [],
   "source": [
    "dim = 3;\n",
    "N = 10000;\n",
    "def get_fix_rand(A):\n",
    "    CH = np.linalg.cholesky(A)\n",
    "    z = np.random.normal(0, 1, (dim, N))\n",
    "    return CH @ z"
   ]
  },
  {
   "cell_type": "code",
   "execution_count": 214,
   "metadata": {
    "ExecuteTime": {
     "end_time": "2021-11-30T20:24:45.508876Z",
     "start_time": "2021-11-30T20:24:45.499896Z"
    }
   },
   "outputs": [],
   "source": [
    "v1 = get_fix_rand(A)[0]\n",
    "v2 = get_fix_rand(A)[1]\n",
    "v3 = get_fix_rand(A)[2]"
   ]
  },
  {
   "cell_type": "code",
   "execution_count": 212,
   "metadata": {
    "ExecuteTime": {
     "end_time": "2021-11-30T20:24:43.221524Z",
     "start_time": "2021-11-30T20:24:43.202555Z"
    }
   },
   "outputs": [
    {
     "data": {
      "text/plain": [
       "array([[0.77281343, 0.787717  , 0.51980687],\n",
       "       [0.787717  , 1.24642997, 0.6688954 ],\n",
       "       [0.51980687, 0.6688954 , 0.41081872]])"
      ]
     },
     "execution_count": 212,
     "metadata": {},
     "output_type": "execute_result"
    }
   ],
   "source": [
    "A"
   ]
  },
  {
   "cell_type": "code",
   "execution_count": 217,
   "metadata": {
    "ExecuteTime": {
     "end_time": "2021-11-30T20:25:05.690108Z",
     "start_time": "2021-11-30T20:25:05.672140Z"
    }
   },
   "outputs": [
    {
     "data": {
      "text/plain": [
       "0.7740483952740266"
      ]
     },
     "execution_count": 217,
     "metadata": {},
     "output_type": "execute_result"
    }
   ],
   "source": [
    "np.cov(v1, v2)[0][0]"
   ]
  },
  {
   "cell_type": "code",
   "execution_count": 219,
   "metadata": {
    "ExecuteTime": {
     "end_time": "2021-11-30T20:25:19.178467Z",
     "start_time": "2021-11-30T20:25:19.158520Z"
    }
   },
   "outputs": [
    {
     "data": {
      "text/plain": [
       "1.242675862377206"
      ]
     },
     "execution_count": 219,
     "metadata": {},
     "output_type": "execute_result"
    }
   ],
   "source": [
    "np.cov(v1, v2)[1][1]"
   ]
  },
  {
   "cell_type": "code",
   "execution_count": 220,
   "metadata": {
    "ExecuteTime": {
     "end_time": "2021-11-30T20:25:25.999487Z",
     "start_time": "2021-11-30T20:25:25.987519Z"
    }
   },
   "outputs": [
    {
     "data": {
      "text/plain": [
       "0.4143240041142865"
      ]
     },
     "execution_count": 220,
     "metadata": {},
     "output_type": "execute_result"
    }
   ],
   "source": [
    "np.cov(v2, v3)[1][1]"
   ]
  },
  {
   "cell_type": "markdown",
   "metadata": {},
   "source": [
    "# Задача 4"
   ]
  },
  {
   "cell_type": "code",
   "execution_count": 58,
   "metadata": {
    "ExecuteTime": {
     "end_time": "2021-11-30T19:25:54.429302Z",
     "start_time": "2021-11-30T19:25:54.411322Z"
    }
   },
   "outputs": [],
   "source": [
    "def procrust_transform(M1, M2):\n",
    "    v1_bar = np.mean(M1, axis=0)\n",
    "    v2_bar = np.mean(M2, axis=0)\n",
    "    \n",
    "    M1_tilde = M1 - v1_bar\n",
    "    M2_tilde = M2 - v2_bar\n",
    "    \n",
    "    SVD_base = M1_tilde.T @ M2_tilde\n",
    "    u, s, vh = np.linalg.svd(SVD_base)\n",
    "\n",
    "    R = u @ vh\n",
    "    mu = v2_bar - R.T @ v1_bar\n",
    "    return R, mu"
   ]
  },
  {
   "cell_type": "code",
   "execution_count": 90,
   "metadata": {
    "ExecuteTime": {
     "end_time": "2021-11-30T19:39:53.884711Z",
     "start_time": "2021-11-30T19:39:53.876732Z"
    }
   },
   "outputs": [],
   "source": [
    "def plot_procrust_transform(M1, M2, flag=True):\n",
    "    R, mu = procrust_transform(M1, M2)\n",
    "    M1_im = M1@R+mu\n",
    "\n",
    "    x2 = M2[:, 0]\n",
    "    y2 = M2[:, 1]\n",
    "\n",
    "    x1 = M1[:, 0]\n",
    "    y1 = M1[:, 1]\n",
    "\n",
    "    x1_im = M1_im[:, 0]\n",
    "    y1_im = M1_im[:, 1]\n",
    "\n",
    "    fig, axs = plt.subplots(1, 2, figsize=(8, 4))\n",
    "\n",
    "    axs[0].scatter(x1, y1)\n",
    "    axs[0].scatter(x2, y2)\n",
    "    axs[1].scatter(x1_im, y1_im)\n",
    "    axs[1].scatter(x2, y2)\n",
    "    \n",
    "    if flag:\n",
    "        axs[0].plot(x1, y1)\n",
    "        axs[0].plot(x2, y2)\n",
    "        axs[1].plot(x1_im, y1_im)\n",
    "        axs[1].plot(x2, y2)\n",
    "    \n",
    "\n",
    "    plt.show()"
   ]
  },
  {
   "cell_type": "markdown",
   "metadata": {},
   "source": [
    "Похожи"
   ]
  },
  {
   "cell_type": "code",
   "execution_count": 116,
   "metadata": {
    "ExecuteTime": {
     "end_time": "2021-11-30T19:46:19.164182Z",
     "start_time": "2021-11-30T19:46:18.969037Z"
    }
   },
   "outputs": [
    {
     "data": {
      "image/png": "[encoded data removed]",
      "text/plain": [
       "<Figure size 576x288 with 2 Axes>"
      ]
     },
     "metadata": {
      "needs_background": "light"
     },
     "output_type": "display_data"
    }
   ],
   "source": [
    "# генерируем M1 и M2\n",
    "phi = np.linspace(0, 3/2 * np.pi, 100)\n",
    "x1 = np.cos(phi)\n",
    "y1 = np.sin(phi)\n",
    "M1 = np.vstack([x1, y1]).T\n",
    "\n",
    "phi = np.linspace(np.pi+1, 5/2 * np.pi+1, 100)\n",
    "x2 = np.cos(phi)+ 1\n",
    "y2 = np.sin(phi)/1.2+1\n",
    "M2 = np.vstack([x2, y2]).T\n",
    "\n",
    "# визуализируем\n",
    "plot_procrust_transform(M1, M2)"
   ]
  },
  {
   "cell_type": "code",
   "execution_count": 72,
   "metadata": {
    "ExecuteTime": {
     "end_time": "2021-11-30T19:31:20.587971Z",
     "start_time": "2021-11-30T19:31:20.403918Z"
    }
   },
   "outputs": [
    {
     "data": {
      "image/png": "[encoded data removed]",
      "text/plain": [
       "<Figure size 576x288 with 2 Axes>"
      ]
     },
     "metadata": {
      "needs_background": "light"
     },
     "output_type": "display_data"
    }
   ],
   "source": [
    "# генерируем M1 и M2\n",
    "phi = np.linspace(0, 3/2 * np.pi, 100)\n",
    "x1 = np.cos(phi) + np.cos(10 * phi)/10\n",
    "y1 = np.sin(phi)\n",
    "M1 = np.vstack([x1, y1]).T\n",
    "\n",
    "phi = np.linspace(np.pi+1, 5/2 * np.pi+1, 100)\n",
    "x2 = np.cos(phi) + np.cos(10 * phi)/10 + 1\n",
    "y2 = np.sin(phi) + 1\n",
    "M2 = np.vstack([x2, y2]).T\n",
    "\n",
    "# визуализируем\n",
    "plot_procrust_transform(M1, M2)"
   ]
  },
  {
   "cell_type": "markdown",
   "metadata": {},
   "source": [
    "Сильно разные фигуры"
   ]
  },
  {
   "cell_type": "code",
   "execution_count": 86,
   "metadata": {
    "ExecuteTime": {
     "end_time": "2021-11-30T19:34:24.261532Z",
     "start_time": "2021-11-30T19:34:24.059069Z"
    }
   },
   "outputs": [
    {
     "data": {
      "image/png": "[encoded data removed]",
      "text/plain": [
       "<Figure size 576x288 with 2 Axes>"
      ]
     },
     "metadata": {
      "needs_background": "light"
     },
     "output_type": "display_data"
    }
   ],
   "source": [
    "# генерируем M1 и M2\n",
    "phi = np.linspace(0, 1 * np.pi, 100)\n",
    "x1 = np.cos(phi) \n",
    "y1 = np.sin(phi)\n",
    "M1 = np.vstack([x1, y1]).T\n",
    "\n",
    "phi = np.linspace(np.pi, 5/2 * np.pi, 100)\n",
    "x2 = np.cos(phi)\n",
    "y2 = np.sin(phi) + 1\n",
    "M2 = np.vstack([x2, y2]).T\n",
    "\n",
    "# визуализируем\n",
    "plot_procrust_transform(M1, M2)"
   ]
  },
  {
   "cell_type": "code",
   "execution_count": 117,
   "metadata": {
    "ExecuteTime": {
     "end_time": "2021-11-30T19:46:27.733337Z",
     "start_time": "2021-11-30T19:46:27.541349Z"
    }
   },
   "outputs": [
    {
     "data": {
      "image/png": "[encoded data removed]",
      "text/plain": [
       "<Figure size 576x288 with 2 Axes>"
      ]
     },
     "metadata": {
      "needs_background": "light"
     },
     "output_type": "display_data"
    }
   ],
   "source": [
    "# cлучайные точки\n",
    "a = 50;\n",
    "b = 50;\n",
    "\n",
    "M1 = np.concatenate([np.random.uniform(-1, 1, (a,2)),np.random.uniform(0, .5, (b,2))])\n",
    "M2 = np.concatenate([np.random.uniform(-1, 1, (a,2)),1+np.random.uniform(0, .5, (b,2))])+2\n",
    "plot_procrust_transform(M1, M2, False)"
   ]
  },
  {
   "cell_type": "markdown",
   "metadata": {},
   "source": [
    "# Задача 5"
   ]
  },
  {
   "cell_type": "code",
   "execution_count": null,
   "metadata": {},
   "outputs": [],
   "source": []
  }
 ],
 "metadata": {
  "kernelspec": {
   "display_name": "Python 3",
   "language": "python",
   "name": "python3"
  },
  "language_info": {
   "codemirror_mode": {
    "name": "ipython",
    "version": 3
   },
   "file_extension": ".py",
   "mimetype": "text/x-python",
   "name": "python",
   "nbconvert_exporter": "python",
   "pygments_lexer": "ipython3",
   "version": "3.7.4"
  },
  "latex_envs": {
   "LaTeX_envs_menu_present": true,
   "autoclose": false,
   "autocomplete": true,
   "bibliofile": "biblio.bib",
   "cite_by": "apalike",
   "current_citInitial": 1,
   "eqLabelWithNumbers": true,
   "eqNumInitial": 1,
   "hotkeys": {
    "equation": "Ctrl-E",
    "itemize": "Ctrl-I"
   },
   "labels_anchors": false,
   "latex_user_defs": false,
   "report_style_numbering": false,
   "user_envs_cfg": false
  },
  "toc": {
   "base_numbering": 1,
   "nav_menu": {},
   "number_sections": true,
   "sideBar": true,
   "skip_h1_title": false,
   "title_cell": "Table of Contents",
   "title_sidebar": "Contents",
   "toc_cell": false,
   "toc_position": {},
   "toc_section_display": true,
   "toc_window_display": false
  },
  "varInspector": {
   "cols": {
    "lenName": 16,
    "lenType": 16,
    "lenVar": 40
   },
   "kernels_config": {
    "python": {
     "delete_cmd_postfix": "",
     "delete_cmd_prefix": "del ",
     "library": "var_list.py",
     "varRefreshCmd": "print(var_dic_list())"
    },
    "r": {
     "delete_cmd_postfix": ") ",
     "delete_cmd_prefix": "rm(",
     "library": "var_list.r",
     "varRefreshCmd": "cat(var_dic_list()) "
    }
   },
   "types_to_exclude": [
    "module",
    "function",
    "builtin_function_or_method",
    "instance",
    "_Feature"
   ],
   "window_display": false
  }
 },
 "nbformat": 4,
 "nbformat_minor": 2
}
