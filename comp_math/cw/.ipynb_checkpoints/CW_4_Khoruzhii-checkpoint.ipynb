{
 "cells": [
  {
   "cell_type": "code",
   "execution_count": 1,
   "metadata": {
    "ExecuteTime": {
     "end_time": "2021-12-15T11:15:29.338184Z",
     "start_time": "2021-12-15T11:15:28.751561Z"
    }
   },
   "outputs": [],
   "source": [
    "import pandas as pd\n",
    "import numpy as np\n",
    "import matplotlib.pyplot as plt"
   ]
  },
  {
   "cell_type": "code",
   "execution_count": 2,
   "metadata": {
    "ExecuteTime": {
     "end_time": "2021-12-15T11:15:30.299690Z",
     "start_time": "2021-12-15T11:15:30.220291Z"
    }
   },
   "outputs": [],
   "source": [
    "import scipy\n",
    "import scipy.linalg"
   ]
  },
  {
   "cell_type": "markdown",
   "metadata": {
    "id": "EJeZafGri0uV"
   },
   "source": [
    "## Задача 1 Центр масс."
   ]
  },
  {
   "cell_type": "markdown",
   "metadata": {
    "id": "Cf8ro7b_lzv3"
   },
   "source": [
    "Допишите функцию, которая вычисляет радиус-вектора центра масс трёх точек a, b, c. Все точки заданы радиус-векторами в n-мерном евклидовом пространстве, в виде массивов np.array. Массы точек заданы массивом mass. "
   ]
  },
  {
   "cell_type": "code",
   "execution_count": 3,
   "metadata": {
    "ExecuteTime": {
     "end_time": "2021-12-15T11:15:31.285666Z",
     "start_time": "2021-12-15T11:15:31.265753Z"
    },
    "id": "vgFc_2MgmMte"
   },
   "outputs": [
    {
     "name": "stdout",
     "output_type": "stream",
     "text": [
      "[1.   0.5  0.25]\n"
     ]
    }
   ],
   "source": [
    "def centre_mass(a, b, c, mass):\n",
    "    S = np.sum([a * mass[0], b * mass[1], c * mass[2]], axis=0) / np.sum(mass)\n",
    "    return S\n",
    "\n",
    "a = np.array([0, 0, 1])\n",
    "b = np.array([2, 0, 0])\n",
    "c = np.array([1, 1, 0])\n",
    "mass = np.array([1, 1, 2])\n",
    "print(centre_mass(a,b,c, mass))"
   ]
  },
  {
   "cell_type": "markdown",
   "metadata": {
    "id": "k83kiUCSP5MJ"
   },
   "source": [
    "## Задача 2  Поворот на 90 градусов."
   ]
  },
  {
   "cell_type": "markdown",
   "metadata": {
    "id": "_89UCB-nle5u"
   },
   "source": [
    "Допишите функцию, которая поворачивает двумерный вектор на 90 градусов против часовой стрелки, в предположении, что вектор задан координатами в ортонормированном базисе и вектор с координатами $\\left(\\begin{array}{c}1\\\\0\\end{array}\\right)$ при повороте отображается в $\\left(\\begin{array}{c}0\\\\1\\end{array}\\right)$."
   ]
  },
  {
   "cell_type": "code",
   "execution_count": 4,
   "metadata": {
    "ExecuteTime": {
     "end_time": "2021-12-15T11:15:32.632115Z",
     "start_time": "2021-12-15T11:15:32.627117Z"
    },
    "id": "i98Kef0Kliz6"
   },
   "outputs": [],
   "source": [
    "def rotate90(x):\n",
    "    '''Повернуть x на 90 градусов против часовой стрелки'''\n",
    "    M = np.array([[0, -1],\n",
    "                  [1, 0]])\n",
    "    return M @ x"
   ]
  },
  {
   "cell_type": "code",
   "execution_count": 5,
   "metadata": {
    "ExecuteTime": {
     "end_time": "2021-12-15T11:15:33.662458Z",
     "start_time": "2021-12-15T11:15:33.653483Z"
    }
   },
   "outputs": [
    {
     "name": "stdout",
     "output_type": "stream",
     "text": [
      "[1 0] -> [0 1]\n",
      "[0 1] -> [-1  0]\n",
      "[ 1 -1] -> [1 1]\n"
     ]
    }
   ],
   "source": [
    "x = np.array([1,0])\n",
    "print(x, \"->\", rotate90(x))\n",
    "\n",
    "x = np.array([0,1])\n",
    "print(x, \"->\", rotate90(x))\n",
    "\n",
    "x = np.array([1,-1])\n",
    "print(x, \"->\", rotate90(x))"
   ]
  },
  {
   "cell_type": "markdown",
   "metadata": {
    "id": "YkURZwa6fGVW"
   },
   "source": [
    "## Задача 3  Минимальное собственное значение."
   ]
  },
  {
   "cell_type": "markdown",
   "metadata": {
    "id": "zPdSc_ntfPCf"
   },
   "source": [
    "Рассмотрите диагональную матрицу $D$ размера $n \\times n$ и вектор-столбец $u$. Выберите $D$ и $u$ случайным образом (сгенерировав их элементы из стандартного нормального распределения) и найдите минимальное собственное значение и соответствующий собственный ему собственный вектор матрицы\n",
    "$$\n",
    "A=D+\\frac{u u^{T}}{u^{T} u}\n",
    "$$\n",
    "\n",
    "Рассмотрите случай $n=10^{2}$"
   ]
  },
  {
   "cell_type": "code",
   "execution_count": 39,
   "metadata": {
    "ExecuteTime": {
     "end_time": "2021-12-15T11:24:10.415452Z",
     "start_time": "2021-12-15T11:24:10.404508Z"
    }
   },
   "outputs": [
    {
     "data": {
      "text/plain": [
       "array([[-1.15810164e+00,  8.33862570e-05,  1.86609335e-04, ...,\n",
       "         7.90113644e-05,  1.42158855e-04,  1.50246889e-04],\n",
       "       [ 8.33862570e-05, -3.14725347e-01,  9.10688408e-03, ...,\n",
       "         3.85590216e-03,  6.93761765e-03,  7.33232880e-03],\n",
       "       [ 1.86609335e-04,  9.10688408e-03,  1.53649600e+00, ...,\n",
       "         8.62908784e-03,  1.55256305e-02,  1.64089509e-02],\n",
       "       ...,\n",
       "       [ 7.90113644e-05,  3.85590216e-03,  8.62908784e-03, ...,\n",
       "        -1.24084921e+00,  6.57363283e-03,  6.94763530e-03],\n",
       "       [ 1.42158855e-04,  6.93761765e-03,  1.55256305e-02, ...,\n",
       "         6.57363283e-03,  2.69321144e-01,  1.25003269e-02],\n",
       "       [ 1.50246889e-04,  7.33232880e-03,  1.64089509e-02, ...,\n",
       "         6.94763530e-03,  1.25003269e-02,  3.71008500e-01]])"
      ]
     },
     "execution_count": 39,
     "metadata": {},
     "output_type": "execute_result"
    }
   ],
   "source": [
    "# генерация матрицы A\n",
    "n = 100\n",
    "D = np.matrix(np.diag(np.random.normal(0, 1, n)))\n",
    "u = np.matrix(np.random.normal(0, 1, n)).T\n",
    "A = D + u @ u.T / (u.T @ u)\n",
    "A = np.array(A)\n",
    "A"
   ]
  },
  {
   "cell_type": "code",
   "execution_count": 53,
   "metadata": {
    "ExecuteTime": {
     "end_time": "2021-12-15T11:28:31.236320Z",
     "start_time": "2021-12-15T11:28:31.094698Z"
    },
    "scrolled": false
   },
   "outputs": [
    {
     "name": "stdout",
     "output_type": "stream",
     "text": [
      "мин. собств. число: -3.76e+00\n",
      "собственный вектор: [ 5.75113558e-06  2.12167017e-04  3.09609466e-04  2.31888522e-04\n",
      "  2.94155849e-04 -8.65541940e-04 -3.52323183e-04 -2.85860458e-04\n",
      " -3.99667759e-04 -6.43291164e-06 -4.42016076e-06  3.42768750e-05\n",
      " -3.09162641e-04  4.83242728e-04  9.99993907e-01  1.25084883e-04\n",
      " -1.74330510e-04  4.37066670e-04  1.31297507e-04 -6.90938631e-04\n",
      "  1.49923583e-04  6.87114728e-05 -4.97863828e-04  9.86932045e-05\n",
      " -5.57258262e-04  4.23479381e-04 -4.93804461e-05 -2.64646094e-04\n",
      " -3.22777766e-04  2.56745082e-04  2.01515106e-04 -7.35835757e-04\n",
      "  6.12247557e-05 -3.93894400e-04 -1.53612199e-04  1.66322789e-04\n",
      "  3.67323297e-04 -3.09319768e-04 -7.90612970e-04 -5.70630683e-04\n",
      " -4.52450076e-04 -5.05463614e-04 -3.04823367e-04  1.51407129e-04\n",
      "  3.11305713e-04 -2.94817994e-04  1.68428015e-04 -3.88542551e-04\n",
      " -3.25940946e-04 -2.06046978e-04  4.77167269e-04 -5.55440854e-04\n",
      " -1.11434628e-04  2.52192960e-04  9.30847605e-06  2.36235522e-05\n",
      " -1.03848499e-04  2.13443996e-04  2.69881332e-04  4.51433380e-04\n",
      " -1.36056606e-04 -4.00847370e-04 -1.58029119e-04 -5.74005415e-05\n",
      "  2.35570000e-04  3.70890774e-04  5.23850939e-04  5.08142029e-04\n",
      "  4.51069262e-04 -3.61083215e-04 -2.77628329e-04  2.66121143e-04\n",
      " -3.05409006e-04  6.92150052e-05  3.67142452e-05  2.23442100e-04\n",
      " -1.11792072e-04 -1.01555133e-04  2.45934787e-04  1.24754419e-05\n",
      "  1.02456935e-04  1.24502679e-04  3.11977196e-04 -1.08071405e-04\n",
      " -2.93178087e-04 -3.81303804e-04  1.65404316e-04  1.26308429e-04\n",
      "  1.59275671e-04 -1.32061000e-03 -4.96206151e-04 -3.96211266e-05\n",
      "  2.17123058e-04 -1.72204232e-04 -6.29739761e-05 -5.22873608e-04\n",
      " -3.40483422e-05  2.75083312e-04  3.09793235e-04  3.19438936e-04]\n"
     ]
    },
    {
     "data": {
      "image/png": "[encoded data removed]",
      "text/plain": [
       "<Figure size 432x288 with 1 Axes>"
      ]
     },
     "metadata": {
      "needs_background": "light"
     },
     "output_type": "display_data"
    }
   ],
   "source": [
    "# вычисляем в лоб\n",
    "eigvals, eigvecs = scipy.linalg.eig(A)\n",
    "eigvals, eigvecs = np.real(eigvals), np.real(eigvecs)\n",
    "\n",
    "# находим минимально собственное число\n",
    "i = np.argmin(eigvals) \n",
    "eigval = eigvals[i]    # минимальное собственное число\n",
    "eigvec = eigvecs[:, i] # сответствующий собственный вектор\n",
    "\n",
    "# вывод\n",
    "print(\"мин. собств. число: {:.2e}\".format(eigval))\n",
    "print(\"собственный вектор:\", eigvec)\n",
    "\n",
    "plt.hist(np.log10(np.abs(eigvec)), bins=30)\n",
    "plt.show()"
   ]
  },
  {
   "cell_type": "markdown",
   "metadata": {
    "id": "5goJK8XZP6h4"
   },
   "source": [
    "## Задача 4  Возмущение корреляционной матрицы."
   ]
  },
  {
   "cell_type": "markdown",
   "metadata": {
    "id": "ZxkF4KCWQNe5"
   },
   "source": [
    "Управляющий активами Neurozhaika Capital Management noлучил от своих аналитиков корреляционную матрицу трёх фондовых индексов,\n",
    "\n",
    "$$\n",
    "\\mathbf{C}_0=\\left(\\begin{array}{ccc}\n",
    "1 & 0.9 & 0.7 \\\\\n",
    "0.9 & 1 & 0.4 \\\\\n",
    "0.7 & 0.4 & 1\n",
    "\\end{array}\\right)\n",
    "$$\n",
    "\n",
    "Коэффициент корреляции $0.4$ кажется ему завышенным, и он хочет поиграть с этой величиной, промоделировав гипотетический портфель, заменив $0.4$ на $0.3$. Найдите собственнные значения исходной ${\\mathbf{C}}_{0} $ и возмущённой $\\overline{\\mathbf{C}}_{0} $ матриц. Несмотря на относительно малое возмущение и разумный вид возмущённой матрицы какие-то из собственных значений станут отрицательными, и матрица $\\overline{\\mathbf{C}}_{0}$ не будет положительно определенной, что неприемлемо. Рассмотрите следующий \"спектральный\" рецепт восстановления свойств корреляционной матрицы:\n",
    "\n",
    "\n",
    "- Посчитать все собственные значения $\\lambda_{i} $  и собственные векторы возмущённой матрицы. Ввести новые собственные значения по правилу $\\lambda_{i}^{\\prime} = \\lambda_{i}$, если $\\lambda_{i} \\geq 0$, иначе $\\lambda_{i}^{\\prime}=0$\n",
    "- Умножить собственные векторы на модифицированные собственные значения $\\lambda_{i}^{\\prime}$ , и использовать их в качестве столбцов новой матрицы $\\mathbf{B}^{\\prime}$ .\n",
    "- Отнормировать строки матрицы $\\mathbf{B}^{\\prime}$ (векторы) на единичную длину, получив тем самым новую матрицу $\\mathbf{B}$.\n",
    "- Построить новую возмущённую корреляционную матрицу по правилу $\\overline{\\mathbf{C}}_{1}=\\mathbf{B B}^{T}$.\n",
    "\n",
    "Полученная таким образом матрица $\\overline{\\mathbf{C}}_{1}$ будет положительно определенной с единицами на главной диагонали, то есть отвечать формальным требованиям, предъявляемым к корреляционной матрице. Найти численно матрицу $\\overline{\\mathbf{C}}_{1}$."
   ]
  },
  {
   "cell_type": "code",
   "execution_count": 117,
   "metadata": {
    "ExecuteTime": {
     "end_time": "2021-12-15T11:47:42.485520Z",
     "start_time": "2021-12-15T11:47:42.472555Z"
    }
   },
   "outputs": [
    {
     "name": "stdout",
     "output_type": "stream",
     "text": [
      "собственные числа C0:     [2.35363603 0.03034736 0.6160166 ]\n",
      "собственные числа C0_bar: [ 2.29672779 -0.00735244  0.71062465]\n"
     ]
    }
   ],
   "source": [
    "C0     = np.array([[1.0, 0.9, 0.7],\n",
    "                   [0.9, 1.0, 0.4],\n",
    "                   [0.7, 0.4, 1.0]])\n",
    "C0_bar = np.array([[1.0, 0.9, 0.7],\n",
    "                   [0.9, 1.0, 0.3],\n",
    "                   [0.7, 0.3, 1.0]])\n",
    "\n",
    "# находим собственные числа и вектора для C0 и C0_bar\n",
    "eigvals_C0, eigvecs_C0 = scipy.linalg.eig(C0)\n",
    "eigvals_C0_bar, eigvecs_C0_bar = scipy.linalg.eig(C0_bar)\n",
    "\n",
    "eigvals_C0, eigvecs_C0 = np.real(eigvals_C0), np.real(eigvecs_C0)\n",
    "eigvals_C0_bar, eigvecs_C0_bar = np.real(eigvals_C0_bar), np.real(eigvecs_C0_bar)\n",
    "\n",
    "print(\"собственные числа C0:    \", eigvals_C0)\n",
    "print(\"собственные числа C0_bar:\", eigvals_C0_bar)"
   ]
  },
  {
   "cell_type": "code",
   "execution_count": 118,
   "metadata": {
    "ExecuteTime": {
     "end_time": "2021-12-15T11:47:57.443437Z",
     "start_time": "2021-12-15T11:47:57.433429Z"
    }
   },
   "outputs": [
    {
     "data": {
      "text/plain": [
       "array([[ 0.65991684,  0.74767038, -0.0741536 ],\n",
       "       [ 0.57099598, -0.5632171 , -0.5972856 ],\n",
       "       [ 0.48833733, -0.35181742,  0.79859323]])"
      ]
     },
     "execution_count": 118,
     "metadata": {},
     "output_type": "execute_result"
    }
   ],
   "source": [
    "# собственные вектора C0_bar\n",
    "eigvecs_C0_bar"
   ]
  },
  {
   "cell_type": "code",
   "execution_count": 120,
   "metadata": {
    "ExecuteTime": {
     "end_time": "2021-12-15T11:48:41.154541Z",
     "start_time": "2021-12-15T11:48:41.134594Z"
    }
   },
   "outputs": [
    {
     "name": "stdout",
     "output_type": "stream",
     "text": [
      "тест нормировки: [1. 1. 1.]\n",
      "B:\n",
      " [[ 0.99939616  0.         -0.03474653]\n",
      " [ 0.95141006 -0.         -0.30792679]\n",
      " [ 0.89228137 -0.          0.45147974]]\n"
     ]
    }
   ],
   "source": [
    "# обрабатываем отрицательные собственные числа\n",
    "f = lambda x: x if x > 0 else 0\n",
    "eigvals_C0_bar_ = np.array(list(map(f, eigvals_C0_bar)))\n",
    "\n",
    "# строим матрицу B\n",
    "B = eigvecs_C0_bar * eigvals_C0_bar_\n",
    "B = (B.T / np.sqrt(np.sum(B**2, axis=1))).T\n",
    "print(\"тест нормировки:\", np.sum(B**2, axis=1))\n",
    "print(\"B:\\n\", B)"
   ]
  },
  {
   "cell_type": "code",
   "execution_count": 121,
   "metadata": {
    "ExecuteTime": {
     "end_time": "2021-12-15T11:48:51.698857Z",
     "start_time": "2021-12-15T11:48:51.684894Z"
    }
   },
   "outputs": [
    {
     "data": {
      "text/plain": [
       "array([[1.        , 0.96153494, 0.87605522],\n",
       "       [0.96153494, 1.        , 0.70990276],\n",
       "       [0.87605522, 0.70990276, 1.        ]])"
      ]
     },
     "execution_count": 121,
     "metadata": {},
     "output_type": "execute_result"
    }
   ],
   "source": [
    "# находим C1_bar\n",
    "C1_bar = B @ B.T\n",
    "C1_bar # численно нашли C1"
   ]
  },
  {
   "cell_type": "markdown",
   "metadata": {
    "id": "Ej4XZjzfSYm7"
   },
   "source": [
    "## Задача 5  Вunch-Nielsen-Sorensen formula."
   ]
  },
  {
   "cell_type": "markdown",
   "metadata": {
    "id": "qCtPhZf_TWTg"
   },
   "source": [
    "Решите задачу 3 для случая $n=10^{4}$. Для этого используйте  Вunch-Nielsen-Sorensen formula.\n",
    "\n",
    "Let $\\lambda_{i}$ denote the eigenvalues of $A$ and $\\tilde{\\lambda}_{i}$ denote the eigenvalues of the updated matrix $\\tilde{A}=A+v v^{T} .$ In the special case when $A$ is diagonal, the eigenvectors $\\tilde{q}_{i}$ of $\\tilde{A}$ can be written\n",
    "\n",
    "$$\n",
    "\\left(\\tilde{q}_{i}\\right)_{k}=\\frac{N_{i} v_{k}}{\\lambda_{k}-\\tilde{\\lambda}_{i}}\n",
    "$$\n",
    "\n",
    "where $N_{i}$ is a number that makes the vector $\\tilde{q}_{i}$ normalized. "
   ]
  },
  {
   "cell_type": "code",
   "execution_count": 128,
   "metadata": {
    "ExecuteTime": {
     "end_time": "2021-12-15T12:04:45.854091Z",
     "start_time": "2021-12-15T12:04:44.531587Z"
    }
   },
   "outputs": [
    {
     "data": {
      "text/plain": [
       "array([[-2.90833123e-01, -7.52370929e-06, -4.40088189e-06, ...,\n",
       "        -1.73534913e-06,  5.35923651e-06,  3.92145681e-05],\n",
       "       [-7.52370929e-06, -4.73616260e-01,  4.95520243e-06, ...,\n",
       "         1.95392797e-06, -6.03426822e-06, -4.41539054e-05],\n",
       "       [-4.40088189e-06,  4.95520243e-06, -5.78740885e-01, ...,\n",
       "         1.14292112e-06, -3.52965548e-06, -2.58271705e-05],\n",
       "       ...,\n",
       "       [-1.73534913e-06,  1.95392797e-06,  1.14292112e-06, ...,\n",
       "         3.76341253e-01, -1.39180845e-06, -1.01841311e-05],\n",
       "       [ 5.35923651e-06, -6.03426822e-06, -3.52965548e-06, ...,\n",
       "        -1.39180845e-06,  1.72672075e+00,  3.14514042e-05],\n",
       "       [ 3.92145681e-05, -4.41539054e-05, -2.58271705e-05, ...,\n",
       "        -1.01841311e-05,  3.14514042e-05, -1.28379877e+00]])"
      ]
     },
     "execution_count": 128,
     "metadata": {},
     "output_type": "execute_result"
    }
   ],
   "source": [
    "# генерация матрицы A\n",
    "n = 10000\n",
    "D = np.matrix(np.diag(np.random.normal(0, 1, n)))\n",
    "u = np.matrix(np.random.normal(0, 1, n)).T\n",
    "A = D + u @ u.T / (u.T @ u)\n",
    "A = np.array(A)\n",
    "A"
   ]
  },
  {
   "cell_type": "markdown",
   "metadata": {},
   "source": [
    "### Решение в лоб"
   ]
  },
  {
   "cell_type": "markdown",
   "metadata": {},
   "source": [
    "Ну, $10^4$ это всё ещё немного и снова можно в лоб :)"
   ]
  },
  {
   "cell_type": "code",
   "execution_count": 129,
   "metadata": {
    "ExecuteTime": {
     "end_time": "2021-12-15T12:07:12.150891Z",
     "start_time": "2021-12-15T12:04:58.985645Z"
    }
   },
   "outputs": [],
   "source": [
    "eigvals = np.linalg.eigvalsh(A)"
   ]
  },
  {
   "cell_type": "code",
   "execution_count": 178,
   "metadata": {
    "ExecuteTime": {
     "end_time": "2021-12-15T12:25:01.499768Z",
     "start_time": "2021-12-15T12:25:01.495765Z"
    }
   },
   "outputs": [
    {
     "data": {
      "text/plain": [
       "-4.261454575535717"
      ]
     },
     "execution_count": 178,
     "metadata": {},
     "output_type": "execute_result"
    }
   ],
   "source": [
    "i = np.argmin(eigvals)\n",
    "eigval_i = eigvals[i]\n",
    "eigval_i # найденное минимальное собственное число"
   ]
  },
  {
   "cell_type": "markdown",
   "metadata": {},
   "source": [
    "За 2 минуты посчитал, ну и хорошо. Теперь воспользуемся формулой."
   ]
  },
  {
   "cell_type": "code",
   "execution_count": 179,
   "metadata": {
    "ExecuteTime": {
     "end_time": "2021-12-15T12:25:11.358034Z",
     "start_time": "2021-12-15T12:25:11.338076Z"
    }
   },
   "outputs": [
    {
     "data": {
      "text/plain": [
       "array([ 0.00065102, -0.0007684 , -0.00046229, ..., -0.00014475,\n",
       "        0.00034622,  0.00509508])"
      ]
     },
     "execution_count": 179,
     "metadata": {},
     "output_type": "execute_result"
    }
   ],
   "source": [
    "eigvals0 = np.diag(D) # собственные числа матрицы D\n",
    "\n",
    "v1 = np.array(u).reshape(n) / np.float(np.sqrt(u.T @ u)) # нормируем, чтобы соответствовать формуле\n",
    "v2 = eigvals0 - eigval_i\n",
    "\n",
    "q = np.divide(v1, v2)\n",
    "q # найденный собственный вектор"
   ]
  },
  {
   "cell_type": "code",
   "execution_count": 169,
   "metadata": {
    "ExecuteTime": {
     "end_time": "2021-12-15T12:20:31.654380Z",
     "start_time": "2021-12-15T12:20:31.612182Z"
    }
   },
   "outputs": [
    {
     "data": {
      "text/plain": [
       "4.780588772188016e-11"
      ]
     },
     "execution_count": 169,
     "metadata": {},
     "output_type": "execute_result"
    }
   ],
   "source": [
    "# проверяем, что нашли собтвенный вектор\n",
    "np.linalg.norm(A @ q / eigval_i - q)"
   ]
  },
  {
   "cell_type": "markdown",
   "metadata": {
    "heading_collapsed": true
   },
   "source": [
    "### Решение не в лоб"
   ]
  },
  {
   "cell_type": "code",
   "execution_count": 172,
   "metadata": {
    "ExecuteTime": {
     "end_time": "2021-12-15T12:23:49.080314Z",
     "start_time": "2021-12-15T12:23:47.055818Z"
    },
    "hidden": true
   },
   "outputs": [],
   "source": [
    "import scipy\n",
    "import scipy.optimize"
   ]
  },
  {
   "cell_type": "code",
   "execution_count": 182,
   "metadata": {
    "ExecuteTime": {
     "end_time": "2021-12-15T12:27:34.590603Z",
     "start_time": "2021-12-15T12:27:34.572628Z"
    },
    "hidden": true
   },
   "outputs": [],
   "source": [
    "def fun(eigval_i):\n",
    "    v1 = np.array(u).reshape(n) / np.float(np.sqrt(u.T @ u)) # нормируем, чтобы соответствовать формуле\n",
    "    v2 = eigvals0 - eigval_i\n",
    "    q = np.divide(v1, v2+1e-17)\n",
    "    return np.linalg.norm(A @ q / (eigval_i+1e-17)- q) # + ..."
   ]
  },
  {
   "cell_type": "code",
   "execution_count": 183,
   "metadata": {
    "ExecuteTime": {
     "end_time": "2021-12-15T12:27:36.858344Z",
     "start_time": "2021-12-15T12:27:36.841389Z"
    },
    "hidden": true
   },
   "outputs": [],
   "source": [
    "# res = scipy.optimize.minimize_scalar(fun)\n",
    "# answer = float(res.x)"
   ]
  },
  {
   "cell_type": "code",
   "execution_count": 186,
   "metadata": {
    "ExecuteTime": {
     "end_time": "2021-12-15T12:27:51.198802Z",
     "start_time": "2021-12-15T12:27:51.194813Z"
    },
    "hidden": true
   },
   "outputs": [],
   "source": [
    "# нет, так не успел :("
   ]
  }
 ],
 "metadata": {
  "colab": {
   "collapsed_sections": [
    "EJeZafGri0uV",
    "k83kiUCSP5MJ",
    "YkURZwa6fGVW",
    "5goJK8XZP6h4",
    "Ej4XZjzfSYm7"
   ],
   "name": "Контрольная работа вариант 4.ipynb",
   "provenance": []
  },
  "kernelspec": {
   "display_name": "Python 3",
   "language": "python",
   "name": "python3"
  },
  "language_info": {
   "codemirror_mode": {
    "name": "ipython",
    "version": 3
   },
   "file_extension": ".py",
   "mimetype": "text/x-python",
   "name": "python",
   "nbconvert_exporter": "python",
   "pygments_lexer": "ipython3",
   "version": "3.7.4"
  },
  "latex_envs": {
   "LaTeX_envs_menu_present": true,
   "autoclose": false,
   "autocomplete": true,
   "bibliofile": "biblio.bib",
   "cite_by": "apalike",
   "current_citInitial": 1,
   "eqLabelWithNumbers": true,
   "eqNumInitial": 1,
   "hotkeys": {
    "equation": "Ctrl-E",
    "itemize": "Ctrl-I"
   },
   "labels_anchors": false,
   "latex_user_defs": false,
   "report_style_numbering": false,
   "user_envs_cfg": false
  },
  "toc": {
   "base_numbering": 1,
   "nav_menu": {},
   "number_sections": true,
   "sideBar": true,
   "skip_h1_title": false,
   "title_cell": "Table of Contents",
   "title_sidebar": "Contents",
   "toc_cell": false,
   "toc_position": {},
   "toc_section_display": true,
   "toc_window_display": false
  },
  "varInspector": {
   "cols": {
    "lenName": 16,
    "lenType": 16,
    "lenVar": 40
   },
   "kernels_config": {
    "python": {
     "delete_cmd_postfix": "",
     "delete_cmd_prefix": "del ",
     "library": "var_list.py",
     "varRefreshCmd": "print(var_dic_list())"
    },
    "r": {
     "delete_cmd_postfix": ") ",
     "delete_cmd_prefix": "rm(",
     "library": "var_list.r",
     "varRefreshCmd": "cat(var_dic_list()) "
    }
   },
   "types_to_exclude": [
    "module",
    "function",
    "builtin_function_or_method",
    "instance",
    "_Feature"
   ],
   "window_display": false
  }
 },
 "nbformat": 4,
 "nbformat_minor": 1
}
